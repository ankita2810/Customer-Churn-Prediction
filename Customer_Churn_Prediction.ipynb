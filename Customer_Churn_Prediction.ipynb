{
  "nbformat": 4,
  "nbformat_minor": 0,
  "metadata": {
    "colab": {
      "provenance": []
    },
    "kernelspec": {
      "name": "python3",
      "display_name": "Python 3"
    },
    "language_info": {
      "name": "python"
    }
  },
  "cells": [
    {
      "cell_type": "code",
      "source": [
        "! pip install opendatasets"
      ],
      "metadata": {
        "id": "CJWR3_Q-OaUd",
        "colab": {
          "base_uri": "https://localhost:8080/"
        },
        "outputId": "f17e39c7-c270-4525-89a0-1b0f81744af6"
      },
      "execution_count": null,
      "outputs": [
        {
          "output_type": "stream",
          "name": "stdout",
          "text": [
            "Requirement already satisfied: opendatasets in /usr/local/lib/python3.10/dist-packages (0.1.22)\n",
            "Requirement already satisfied: tqdm in /usr/local/lib/python3.10/dist-packages (from opendatasets) (4.66.1)\n",
            "Requirement already satisfied: kaggle in /usr/local/lib/python3.10/dist-packages (from opendatasets) (1.5.16)\n",
            "Requirement already satisfied: click in /usr/local/lib/python3.10/dist-packages (from opendatasets) (8.1.7)\n",
            "Requirement already satisfied: six>=1.10 in /usr/local/lib/python3.10/dist-packages (from kaggle->opendatasets) (1.16.0)\n",
            "Requirement already satisfied: certifi in /usr/local/lib/python3.10/dist-packages (from kaggle->opendatasets) (2023.7.22)\n",
            "Requirement already satisfied: python-dateutil in /usr/local/lib/python3.10/dist-packages (from kaggle->opendatasets) (2.8.2)\n",
            "Requirement already satisfied: requests in /usr/local/lib/python3.10/dist-packages (from kaggle->opendatasets) (2.31.0)\n",
            "Requirement already satisfied: python-slugify in /usr/local/lib/python3.10/dist-packages (from kaggle->opendatasets) (8.0.1)\n",
            "Requirement already satisfied: urllib3 in /usr/local/lib/python3.10/dist-packages (from kaggle->opendatasets) (2.0.4)\n",
            "Requirement already satisfied: bleach in /usr/local/lib/python3.10/dist-packages (from kaggle->opendatasets) (6.0.0)\n",
            "Requirement already satisfied: webencodings in /usr/local/lib/python3.10/dist-packages (from bleach->kaggle->opendatasets) (0.5.1)\n",
            "Requirement already satisfied: text-unidecode>=1.3 in /usr/local/lib/python3.10/dist-packages (from python-slugify->kaggle->opendatasets) (1.3)\n",
            "Requirement already satisfied: charset-normalizer<4,>=2 in /usr/local/lib/python3.10/dist-packages (from requests->kaggle->opendatasets) (3.2.0)\n",
            "Requirement already satisfied: idna<4,>=2.5 in /usr/local/lib/python3.10/dist-packages (from requests->kaggle->opendatasets) (3.4)\n"
          ]
        }
      ]
    },
    {
      "cell_type": "code",
      "source": [
        "import numpy as np\n",
        "import pandas as pd\n",
        "import opendatasets as od\n",
        "import matplotlib.pyplot as plt\n",
        "import seaborn as sns\n",
        "from google.colab import autoviz"
      ],
      "metadata": {
        "id": "MwxP7RpaI-C8"
      },
      "execution_count": null,
      "outputs": []
    },
    {
      "cell_type": "code",
      "source": [
        "od.download(\"https://www.kaggle.com/datasets/shantanudhakadd/bank-customer-churn-prediction\")"
      ],
      "metadata": {
        "colab": {
          "base_uri": "https://localhost:8080/"
        },
        "id": "iK7SC_2rJEEE",
        "outputId": "f0211896-0734-4ce8-feb8-e1697c6b1d54"
      },
      "execution_count": null,
      "outputs": [
        {
          "output_type": "stream",
          "name": "stdout",
          "text": [
            "Skipping, found downloaded files in \"./bank-customer-churn-prediction\" (use force=True to force download)\n"
          ]
        }
      ]
    },
    {
      "cell_type": "code",
      "source": [
        "dataset = pd.read_csv(\"/content/bank-customer-churn-prediction/Churn_Modelling.csv\")"
      ],
      "metadata": {
        "id": "uOrhhzApJSeV"
      },
      "execution_count": null,
      "outputs": []
    },
    {
      "cell_type": "code",
      "source": [
        "dataset.head()"
      ],
      "metadata": {
        "colab": {
          "base_uri": "https://localhost:8080/",
          "height": 226
        },
        "id": "28EvQguDKaw2",
        "outputId": "07e83fc4-156f-4961-e4b1-274875ae34d7"
      },
      "execution_count": null,
      "outputs": [
        {
          "output_type": "execute_result",
          "data": {
            "text/plain": [
              "   RowNumber  CustomerId   Surname  CreditScore Geography  Gender  Age  \\\n",
              "0          1    15634602  Hargrave          619    France  Female   42   \n",
              "1          2    15647311      Hill          608     Spain  Female   41   \n",
              "2          3    15619304      Onio          502    France  Female   42   \n",
              "3          4    15701354      Boni          699    France  Female   39   \n",
              "4          5    15737888  Mitchell          850     Spain  Female   43   \n",
              "\n",
              "   Tenure    Balance  NumOfProducts  HasCrCard  IsActiveMember  \\\n",
              "0       2       0.00              1          1               1   \n",
              "1       1   83807.86              1          0               1   \n",
              "2       8  159660.80              3          1               0   \n",
              "3       1       0.00              2          0               0   \n",
              "4       2  125510.82              1          1               1   \n",
              "\n",
              "   EstimatedSalary  Exited  \n",
              "0        101348.88       1  \n",
              "1        112542.58       0  \n",
              "2        113931.57       1  \n",
              "3         93826.63       0  \n",
              "4         79084.10       0  "
            ],
            "text/html": [
              "\n",
              "  <div id=\"df-3788f868-70af-46c2-b2e7-d635b92f6494\" class=\"colab-df-container\">\n",
              "    <div>\n",
              "<style scoped>\n",
              "    .dataframe tbody tr th:only-of-type {\n",
              "        vertical-align: middle;\n",
              "    }\n",
              "\n",
              "    .dataframe tbody tr th {\n",
              "        vertical-align: top;\n",
              "    }\n",
              "\n",
              "    .dataframe thead th {\n",
              "        text-align: right;\n",
              "    }\n",
              "</style>\n",
              "<table border=\"1\" class=\"dataframe\">\n",
              "  <thead>\n",
              "    <tr style=\"text-align: right;\">\n",
              "      <th></th>\n",
              "      <th>RowNumber</th>\n",
              "      <th>CustomerId</th>\n",
              "      <th>Surname</th>\n",
              "      <th>CreditScore</th>\n",
              "      <th>Geography</th>\n",
              "      <th>Gender</th>\n",
              "      <th>Age</th>\n",
              "      <th>Tenure</th>\n",
              "      <th>Balance</th>\n",
              "      <th>NumOfProducts</th>\n",
              "      <th>HasCrCard</th>\n",
              "      <th>IsActiveMember</th>\n",
              "      <th>EstimatedSalary</th>\n",
              "      <th>Exited</th>\n",
              "    </tr>\n",
              "  </thead>\n",
              "  <tbody>\n",
              "    <tr>\n",
              "      <th>0</th>\n",
              "      <td>1</td>\n",
              "      <td>15634602</td>\n",
              "      <td>Hargrave</td>\n",
              "      <td>619</td>\n",
              "      <td>France</td>\n",
              "      <td>Female</td>\n",
              "      <td>42</td>\n",
              "      <td>2</td>\n",
              "      <td>0.00</td>\n",
              "      <td>1</td>\n",
              "      <td>1</td>\n",
              "      <td>1</td>\n",
              "      <td>101348.88</td>\n",
              "      <td>1</td>\n",
              "    </tr>\n",
              "    <tr>\n",
              "      <th>1</th>\n",
              "      <td>2</td>\n",
              "      <td>15647311</td>\n",
              "      <td>Hill</td>\n",
              "      <td>608</td>\n",
              "      <td>Spain</td>\n",
              "      <td>Female</td>\n",
              "      <td>41</td>\n",
              "      <td>1</td>\n",
              "      <td>83807.86</td>\n",
              "      <td>1</td>\n",
              "      <td>0</td>\n",
              "      <td>1</td>\n",
              "      <td>112542.58</td>\n",
              "      <td>0</td>\n",
              "    </tr>\n",
              "    <tr>\n",
              "      <th>2</th>\n",
              "      <td>3</td>\n",
              "      <td>15619304</td>\n",
              "      <td>Onio</td>\n",
              "      <td>502</td>\n",
              "      <td>France</td>\n",
              "      <td>Female</td>\n",
              "      <td>42</td>\n",
              "      <td>8</td>\n",
              "      <td>159660.80</td>\n",
              "      <td>3</td>\n",
              "      <td>1</td>\n",
              "      <td>0</td>\n",
              "      <td>113931.57</td>\n",
              "      <td>1</td>\n",
              "    </tr>\n",
              "    <tr>\n",
              "      <th>3</th>\n",
              "      <td>4</td>\n",
              "      <td>15701354</td>\n",
              "      <td>Boni</td>\n",
              "      <td>699</td>\n",
              "      <td>France</td>\n",
              "      <td>Female</td>\n",
              "      <td>39</td>\n",
              "      <td>1</td>\n",
              "      <td>0.00</td>\n",
              "      <td>2</td>\n",
              "      <td>0</td>\n",
              "      <td>0</td>\n",
              "      <td>93826.63</td>\n",
              "      <td>0</td>\n",
              "    </tr>\n",
              "    <tr>\n",
              "      <th>4</th>\n",
              "      <td>5</td>\n",
              "      <td>15737888</td>\n",
              "      <td>Mitchell</td>\n",
              "      <td>850</td>\n",
              "      <td>Spain</td>\n",
              "      <td>Female</td>\n",
              "      <td>43</td>\n",
              "      <td>2</td>\n",
              "      <td>125510.82</td>\n",
              "      <td>1</td>\n",
              "      <td>1</td>\n",
              "      <td>1</td>\n",
              "      <td>79084.10</td>\n",
              "      <td>0</td>\n",
              "    </tr>\n",
              "  </tbody>\n",
              "</table>\n",
              "</div>\n",
              "    <div class=\"colab-df-buttons\">\n",
              "\n",
              "  <div class=\"colab-df-container\">\n",
              "    <button class=\"colab-df-convert\" onclick=\"convertToInteractive('df-3788f868-70af-46c2-b2e7-d635b92f6494')\"\n",
              "            title=\"Convert this dataframe to an interactive table.\"\n",
              "            style=\"display:none;\">\n",
              "\n",
              "  <svg xmlns=\"http://www.w3.org/2000/svg\" height=\"24px\" viewBox=\"0 -960 960 960\">\n",
              "    <path d=\"M120-120v-720h720v720H120Zm60-500h600v-160H180v160Zm220 220h160v-160H400v160Zm0 220h160v-160H400v160ZM180-400h160v-160H180v160Zm440 0h160v-160H620v160ZM180-180h160v-160H180v160Zm440 0h160v-160H620v160Z\"/>\n",
              "  </svg>\n",
              "    </button>\n",
              "\n",
              "  <style>\n",
              "    .colab-df-container {\n",
              "      display:flex;\n",
              "      gap: 12px;\n",
              "    }\n",
              "\n",
              "    .colab-df-convert {\n",
              "      background-color: #E8F0FE;\n",
              "      border: none;\n",
              "      border-radius: 50%;\n",
              "      cursor: pointer;\n",
              "      display: none;\n",
              "      fill: #1967D2;\n",
              "      height: 32px;\n",
              "      padding: 0 0 0 0;\n",
              "      width: 32px;\n",
              "    }\n",
              "\n",
              "    .colab-df-convert:hover {\n",
              "      background-color: #E2EBFA;\n",
              "      box-shadow: 0px 1px 2px rgba(60, 64, 67, 0.3), 0px 1px 3px 1px rgba(60, 64, 67, 0.15);\n",
              "      fill: #174EA6;\n",
              "    }\n",
              "\n",
              "    .colab-df-buttons div {\n",
              "      margin-bottom: 4px;\n",
              "    }\n",
              "\n",
              "    [theme=dark] .colab-df-convert {\n",
              "      background-color: #3B4455;\n",
              "      fill: #D2E3FC;\n",
              "    }\n",
              "\n",
              "    [theme=dark] .colab-df-convert:hover {\n",
              "      background-color: #434B5C;\n",
              "      box-shadow: 0px 1px 3px 1px rgba(0, 0, 0, 0.15);\n",
              "      filter: drop-shadow(0px 1px 2px rgba(0, 0, 0, 0.3));\n",
              "      fill: #FFFFFF;\n",
              "    }\n",
              "  </style>\n",
              "\n",
              "    <script>\n",
              "      const buttonEl =\n",
              "        document.querySelector('#df-3788f868-70af-46c2-b2e7-d635b92f6494 button.colab-df-convert');\n",
              "      buttonEl.style.display =\n",
              "        google.colab.kernel.accessAllowed ? 'block' : 'none';\n",
              "\n",
              "      async function convertToInteractive(key) {\n",
              "        const element = document.querySelector('#df-3788f868-70af-46c2-b2e7-d635b92f6494');\n",
              "        const dataTable =\n",
              "          await google.colab.kernel.invokeFunction('convertToInteractive',\n",
              "                                                    [key], {});\n",
              "        if (!dataTable) return;\n",
              "\n",
              "        const docLinkHtml = 'Like what you see? Visit the ' +\n",
              "          '<a target=\"_blank\" href=https://colab.research.google.com/notebooks/data_table.ipynb>data table notebook</a>'\n",
              "          + ' to learn more about interactive tables.';\n",
              "        element.innerHTML = '';\n",
              "        dataTable['output_type'] = 'display_data';\n",
              "        await google.colab.output.renderOutput(dataTable, element);\n",
              "        const docLink = document.createElement('div');\n",
              "        docLink.innerHTML = docLinkHtml;\n",
              "        element.appendChild(docLink);\n",
              "      }\n",
              "    </script>\n",
              "  </div>\n",
              "\n",
              "\n",
              "<div id=\"df-935f4bbd-ad9b-4bc7-b96b-311d458f881f\">\n",
              "  <button class=\"colab-df-quickchart\" onclick=\"quickchart('df-935f4bbd-ad9b-4bc7-b96b-311d458f881f')\"\n",
              "            title=\"Suggest charts.\"\n",
              "            style=\"display:none;\">\n",
              "\n",
              "<svg xmlns=\"http://www.w3.org/2000/svg\" height=\"24px\"viewBox=\"0 0 24 24\"\n",
              "     width=\"24px\">\n",
              "    <g>\n",
              "        <path d=\"M19 3H5c-1.1 0-2 .9-2 2v14c0 1.1.9 2 2 2h14c1.1 0 2-.9 2-2V5c0-1.1-.9-2-2-2zM9 17H7v-7h2v7zm4 0h-2V7h2v10zm4 0h-2v-4h2v4z\"/>\n",
              "    </g>\n",
              "</svg>\n",
              "  </button>\n",
              "\n",
              "<style>\n",
              "  .colab-df-quickchart {\n",
              "    background-color: #E8F0FE;\n",
              "    border: none;\n",
              "    border-radius: 50%;\n",
              "    cursor: pointer;\n",
              "    display: none;\n",
              "    fill: #1967D2;\n",
              "    height: 32px;\n",
              "    padding: 0 0 0 0;\n",
              "    width: 32px;\n",
              "  }\n",
              "\n",
              "  .colab-df-quickchart:hover {\n",
              "    background-color: #E2EBFA;\n",
              "    box-shadow: 0px 1px 2px rgba(60, 64, 67, 0.3), 0px 1px 3px 1px rgba(60, 64, 67, 0.15);\n",
              "    fill: #174EA6;\n",
              "  }\n",
              "\n",
              "  [theme=dark] .colab-df-quickchart {\n",
              "    background-color: #3B4455;\n",
              "    fill: #D2E3FC;\n",
              "  }\n",
              "\n",
              "  [theme=dark] .colab-df-quickchart:hover {\n",
              "    background-color: #434B5C;\n",
              "    box-shadow: 0px 1px 3px 1px rgba(0, 0, 0, 0.15);\n",
              "    filter: drop-shadow(0px 1px 2px rgba(0, 0, 0, 0.3));\n",
              "    fill: #FFFFFF;\n",
              "  }\n",
              "</style>\n",
              "\n",
              "  <script>\n",
              "    async function quickchart(key) {\n",
              "      const charts = await google.colab.kernel.invokeFunction(\n",
              "          'suggestCharts', [key], {});\n",
              "    }\n",
              "    (() => {\n",
              "      let quickchartButtonEl =\n",
              "        document.querySelector('#df-935f4bbd-ad9b-4bc7-b96b-311d458f881f button');\n",
              "      quickchartButtonEl.style.display =\n",
              "        google.colab.kernel.accessAllowed ? 'block' : 'none';\n",
              "    })();\n",
              "  </script>\n",
              "</div>\n",
              "    </div>\n",
              "  </div>\n"
            ]
          },
          "metadata": {},
          "execution_count": 200
        }
      ]
    },
    {
      "cell_type": "code",
      "source": [
        "dataset.shape"
      ],
      "metadata": {
        "colab": {
          "base_uri": "https://localhost:8080/"
        },
        "id": "AsCdgMY5LzRU",
        "outputId": "b1f1ce72-b13f-49fc-ce1e-325e80bc34ea"
      },
      "execution_count": null,
      "outputs": [
        {
          "output_type": "execute_result",
          "data": {
            "text/plain": [
              "(10000, 14)"
            ]
          },
          "metadata": {},
          "execution_count": 201
        }
      ]
    },
    {
      "cell_type": "code",
      "source": [
        "dataset.columns"
      ],
      "metadata": {
        "colab": {
          "base_uri": "https://localhost:8080/"
        },
        "id": "q0GB8b-QE0dv",
        "outputId": "63418e82-dfcd-49a7-c950-382ea555d636"
      },
      "execution_count": null,
      "outputs": [
        {
          "output_type": "execute_result",
          "data": {
            "text/plain": [
              "Index(['RowNumber', 'CustomerId', 'Surname', 'CreditScore', 'Geography',\n",
              "       'Gender', 'Age', 'Tenure', 'Balance', 'NumOfProducts', 'HasCrCard',\n",
              "       'IsActiveMember', 'EstimatedSalary', 'Exited'],\n",
              "      dtype='object')"
            ]
          },
          "metadata": {},
          "execution_count": 202
        }
      ]
    },
    {
      "cell_type": "code",
      "source": [
        "dataset.info()"
      ],
      "metadata": {
        "colab": {
          "base_uri": "https://localhost:8080/"
        },
        "id": "xmFv73anKsLA",
        "outputId": "33c67971-8523-4093-972a-ef75ea8c5337"
      },
      "execution_count": null,
      "outputs": [
        {
          "output_type": "stream",
          "name": "stdout",
          "text": [
            "<class 'pandas.core.frame.DataFrame'>\n",
            "RangeIndex: 10000 entries, 0 to 9999\n",
            "Data columns (total 10 columns):\n",
            " #   Column           Non-Null Count  Dtype  \n",
            "---  ------           --------------  -----  \n",
            " 0   CreditScore      10000 non-null  int64  \n",
            " 1   Gender           10000 non-null  object \n",
            " 2   Age              10000 non-null  int64  \n",
            " 3   Tenure           10000 non-null  int64  \n",
            " 4   Balance          10000 non-null  float64\n",
            " 5   NumOfProducts    10000 non-null  int64  \n",
            " 6   HasCrCard        10000 non-null  int64  \n",
            " 7   IsActiveMember   10000 non-null  int64  \n",
            " 8   EstimatedSalary  10000 non-null  float64\n",
            " 9   Exited           10000 non-null  int64  \n",
            "dtypes: float64(2), int64(7), object(1)\n",
            "memory usage: 781.4+ KB\n"
          ]
        }
      ]
    },
    {
      "cell_type": "code",
      "source": [
        "dataset.isnull().sum()"
      ],
      "metadata": {
        "colab": {
          "base_uri": "https://localhost:8080/"
        },
        "id": "DbrI5CsPLwqw",
        "outputId": "d0cd403e-ff4c-439e-e299-7679b78b517d"
      },
      "execution_count": null,
      "outputs": [
        {
          "output_type": "execute_result",
          "data": {
            "text/plain": [
              "CreditScore        0\n",
              "Gender             0\n",
              "Age                0\n",
              "Tenure             0\n",
              "Balance            0\n",
              "NumOfProducts      0\n",
              "HasCrCard          0\n",
              "IsActiveMember     0\n",
              "EstimatedSalary    0\n",
              "Exited             0\n",
              "dtype: int64"
            ]
          },
          "metadata": {},
          "execution_count": 205
        }
      ]
    },
    {
      "cell_type": "code",
      "source": [
        "dataset=dataset.drop(['RowNumber','CustomerId','Surname','Geography'], axis=1)"
      ],
      "metadata": {
        "id": "40QWeK5wy1-6"
      },
      "execution_count": null,
      "outputs": []
    },
    {
      "cell_type": "code",
      "source": [
        "dataset.describe()"
      ],
      "metadata": {
        "colab": {
          "base_uri": "https://localhost:8080/",
          "height": 300
        },
        "id": "5YCShvvAEUgs",
        "outputId": "6c2c6b85-33a2-4781-f887-1b81f1a717d2"
      },
      "execution_count": null,
      "outputs": [
        {
          "output_type": "execute_result",
          "data": {
            "text/plain": [
              "        CreditScore           Age        Tenure        Balance  NumOfProducts  \\\n",
              "count  10000.000000  10000.000000  10000.000000   10000.000000   10000.000000   \n",
              "mean     650.528800     38.921800      5.012800   76485.889288       1.530200   \n",
              "std       96.653299     10.487806      2.892174   62397.405202       0.581654   \n",
              "min      350.000000     18.000000      0.000000       0.000000       1.000000   \n",
              "25%      584.000000     32.000000      3.000000       0.000000       1.000000   \n",
              "50%      652.000000     37.000000      5.000000   97198.540000       1.000000   \n",
              "75%      718.000000     44.000000      7.000000  127644.240000       2.000000   \n",
              "max      850.000000     92.000000     10.000000  250898.090000       4.000000   \n",
              "\n",
              "         HasCrCard  IsActiveMember  EstimatedSalary        Exited  \n",
              "count  10000.00000    10000.000000     10000.000000  10000.000000  \n",
              "mean       0.70550        0.515100    100090.239881      0.203700  \n",
              "std        0.45584        0.499797     57510.492818      0.402769  \n",
              "min        0.00000        0.000000        11.580000      0.000000  \n",
              "25%        0.00000        0.000000     51002.110000      0.000000  \n",
              "50%        1.00000        1.000000    100193.915000      0.000000  \n",
              "75%        1.00000        1.000000    149388.247500      0.000000  \n",
              "max        1.00000        1.000000    199992.480000      1.000000  "
            ],
            "text/html": [
              "\n",
              "  <div id=\"df-e7929311-1655-479e-bb7f-3ef4e4be621d\" class=\"colab-df-container\">\n",
              "    <div>\n",
              "<style scoped>\n",
              "    .dataframe tbody tr th:only-of-type {\n",
              "        vertical-align: middle;\n",
              "    }\n",
              "\n",
              "    .dataframe tbody tr th {\n",
              "        vertical-align: top;\n",
              "    }\n",
              "\n",
              "    .dataframe thead th {\n",
              "        text-align: right;\n",
              "    }\n",
              "</style>\n",
              "<table border=\"1\" class=\"dataframe\">\n",
              "  <thead>\n",
              "    <tr style=\"text-align: right;\">\n",
              "      <th></th>\n",
              "      <th>CreditScore</th>\n",
              "      <th>Age</th>\n",
              "      <th>Tenure</th>\n",
              "      <th>Balance</th>\n",
              "      <th>NumOfProducts</th>\n",
              "      <th>HasCrCard</th>\n",
              "      <th>IsActiveMember</th>\n",
              "      <th>EstimatedSalary</th>\n",
              "      <th>Exited</th>\n",
              "    </tr>\n",
              "  </thead>\n",
              "  <tbody>\n",
              "    <tr>\n",
              "      <th>count</th>\n",
              "      <td>10000.000000</td>\n",
              "      <td>10000.000000</td>\n",
              "      <td>10000.000000</td>\n",
              "      <td>10000.000000</td>\n",
              "      <td>10000.000000</td>\n",
              "      <td>10000.00000</td>\n",
              "      <td>10000.000000</td>\n",
              "      <td>10000.000000</td>\n",
              "      <td>10000.000000</td>\n",
              "    </tr>\n",
              "    <tr>\n",
              "      <th>mean</th>\n",
              "      <td>650.528800</td>\n",
              "      <td>38.921800</td>\n",
              "      <td>5.012800</td>\n",
              "      <td>76485.889288</td>\n",
              "      <td>1.530200</td>\n",
              "      <td>0.70550</td>\n",
              "      <td>0.515100</td>\n",
              "      <td>100090.239881</td>\n",
              "      <td>0.203700</td>\n",
              "    </tr>\n",
              "    <tr>\n",
              "      <th>std</th>\n",
              "      <td>96.653299</td>\n",
              "      <td>10.487806</td>\n",
              "      <td>2.892174</td>\n",
              "      <td>62397.405202</td>\n",
              "      <td>0.581654</td>\n",
              "      <td>0.45584</td>\n",
              "      <td>0.499797</td>\n",
              "      <td>57510.492818</td>\n",
              "      <td>0.402769</td>\n",
              "    </tr>\n",
              "    <tr>\n",
              "      <th>min</th>\n",
              "      <td>350.000000</td>\n",
              "      <td>18.000000</td>\n",
              "      <td>0.000000</td>\n",
              "      <td>0.000000</td>\n",
              "      <td>1.000000</td>\n",
              "      <td>0.00000</td>\n",
              "      <td>0.000000</td>\n",
              "      <td>11.580000</td>\n",
              "      <td>0.000000</td>\n",
              "    </tr>\n",
              "    <tr>\n",
              "      <th>25%</th>\n",
              "      <td>584.000000</td>\n",
              "      <td>32.000000</td>\n",
              "      <td>3.000000</td>\n",
              "      <td>0.000000</td>\n",
              "      <td>1.000000</td>\n",
              "      <td>0.00000</td>\n",
              "      <td>0.000000</td>\n",
              "      <td>51002.110000</td>\n",
              "      <td>0.000000</td>\n",
              "    </tr>\n",
              "    <tr>\n",
              "      <th>50%</th>\n",
              "      <td>652.000000</td>\n",
              "      <td>37.000000</td>\n",
              "      <td>5.000000</td>\n",
              "      <td>97198.540000</td>\n",
              "      <td>1.000000</td>\n",
              "      <td>1.00000</td>\n",
              "      <td>1.000000</td>\n",
              "      <td>100193.915000</td>\n",
              "      <td>0.000000</td>\n",
              "    </tr>\n",
              "    <tr>\n",
              "      <th>75%</th>\n",
              "      <td>718.000000</td>\n",
              "      <td>44.000000</td>\n",
              "      <td>7.000000</td>\n",
              "      <td>127644.240000</td>\n",
              "      <td>2.000000</td>\n",
              "      <td>1.00000</td>\n",
              "      <td>1.000000</td>\n",
              "      <td>149388.247500</td>\n",
              "      <td>0.000000</td>\n",
              "    </tr>\n",
              "    <tr>\n",
              "      <th>max</th>\n",
              "      <td>850.000000</td>\n",
              "      <td>92.000000</td>\n",
              "      <td>10.000000</td>\n",
              "      <td>250898.090000</td>\n",
              "      <td>4.000000</td>\n",
              "      <td>1.00000</td>\n",
              "      <td>1.000000</td>\n",
              "      <td>199992.480000</td>\n",
              "      <td>1.000000</td>\n",
              "    </tr>\n",
              "  </tbody>\n",
              "</table>\n",
              "</div>\n",
              "    <div class=\"colab-df-buttons\">\n",
              "\n",
              "  <div class=\"colab-df-container\">\n",
              "    <button class=\"colab-df-convert\" onclick=\"convertToInteractive('df-e7929311-1655-479e-bb7f-3ef4e4be621d')\"\n",
              "            title=\"Convert this dataframe to an interactive table.\"\n",
              "            style=\"display:none;\">\n",
              "\n",
              "  <svg xmlns=\"http://www.w3.org/2000/svg\" height=\"24px\" viewBox=\"0 -960 960 960\">\n",
              "    <path d=\"M120-120v-720h720v720H120Zm60-500h600v-160H180v160Zm220 220h160v-160H400v160Zm0 220h160v-160H400v160ZM180-400h160v-160H180v160Zm440 0h160v-160H620v160ZM180-180h160v-160H180v160Zm440 0h160v-160H620v160Z\"/>\n",
              "  </svg>\n",
              "    </button>\n",
              "\n",
              "  <style>\n",
              "    .colab-df-container {\n",
              "      display:flex;\n",
              "      gap: 12px;\n",
              "    }\n",
              "\n",
              "    .colab-df-convert {\n",
              "      background-color: #E8F0FE;\n",
              "      border: none;\n",
              "      border-radius: 50%;\n",
              "      cursor: pointer;\n",
              "      display: none;\n",
              "      fill: #1967D2;\n",
              "      height: 32px;\n",
              "      padding: 0 0 0 0;\n",
              "      width: 32px;\n",
              "    }\n",
              "\n",
              "    .colab-df-convert:hover {\n",
              "      background-color: #E2EBFA;\n",
              "      box-shadow: 0px 1px 2px rgba(60, 64, 67, 0.3), 0px 1px 3px 1px rgba(60, 64, 67, 0.15);\n",
              "      fill: #174EA6;\n",
              "    }\n",
              "\n",
              "    .colab-df-buttons div {\n",
              "      margin-bottom: 4px;\n",
              "    }\n",
              "\n",
              "    [theme=dark] .colab-df-convert {\n",
              "      background-color: #3B4455;\n",
              "      fill: #D2E3FC;\n",
              "    }\n",
              "\n",
              "    [theme=dark] .colab-df-convert:hover {\n",
              "      background-color: #434B5C;\n",
              "      box-shadow: 0px 1px 3px 1px rgba(0, 0, 0, 0.15);\n",
              "      filter: drop-shadow(0px 1px 2px rgba(0, 0, 0, 0.3));\n",
              "      fill: #FFFFFF;\n",
              "    }\n",
              "  </style>\n",
              "\n",
              "    <script>\n",
              "      const buttonEl =\n",
              "        document.querySelector('#df-e7929311-1655-479e-bb7f-3ef4e4be621d button.colab-df-convert');\n",
              "      buttonEl.style.display =\n",
              "        google.colab.kernel.accessAllowed ? 'block' : 'none';\n",
              "\n",
              "      async function convertToInteractive(key) {\n",
              "        const element = document.querySelector('#df-e7929311-1655-479e-bb7f-3ef4e4be621d');\n",
              "        const dataTable =\n",
              "          await google.colab.kernel.invokeFunction('convertToInteractive',\n",
              "                                                    [key], {});\n",
              "        if (!dataTable) return;\n",
              "\n",
              "        const docLinkHtml = 'Like what you see? Visit the ' +\n",
              "          '<a target=\"_blank\" href=https://colab.research.google.com/notebooks/data_table.ipynb>data table notebook</a>'\n",
              "          + ' to learn more about interactive tables.';\n",
              "        element.innerHTML = '';\n",
              "        dataTable['output_type'] = 'display_data';\n",
              "        await google.colab.output.renderOutput(dataTable, element);\n",
              "        const docLink = document.createElement('div');\n",
              "        docLink.innerHTML = docLinkHtml;\n",
              "        element.appendChild(docLink);\n",
              "      }\n",
              "    </script>\n",
              "  </div>\n",
              "\n",
              "\n",
              "<div id=\"df-acc68166-be64-4512-8c50-cf56823572e8\">\n",
              "  <button class=\"colab-df-quickchart\" onclick=\"quickchart('df-acc68166-be64-4512-8c50-cf56823572e8')\"\n",
              "            title=\"Suggest charts.\"\n",
              "            style=\"display:none;\">\n",
              "\n",
              "<svg xmlns=\"http://www.w3.org/2000/svg\" height=\"24px\"viewBox=\"0 0 24 24\"\n",
              "     width=\"24px\">\n",
              "    <g>\n",
              "        <path d=\"M19 3H5c-1.1 0-2 .9-2 2v14c0 1.1.9 2 2 2h14c1.1 0 2-.9 2-2V5c0-1.1-.9-2-2-2zM9 17H7v-7h2v7zm4 0h-2V7h2v10zm4 0h-2v-4h2v4z\"/>\n",
              "    </g>\n",
              "</svg>\n",
              "  </button>\n",
              "\n",
              "<style>\n",
              "  .colab-df-quickchart {\n",
              "    background-color: #E8F0FE;\n",
              "    border: none;\n",
              "    border-radius: 50%;\n",
              "    cursor: pointer;\n",
              "    display: none;\n",
              "    fill: #1967D2;\n",
              "    height: 32px;\n",
              "    padding: 0 0 0 0;\n",
              "    width: 32px;\n",
              "  }\n",
              "\n",
              "  .colab-df-quickchart:hover {\n",
              "    background-color: #E2EBFA;\n",
              "    box-shadow: 0px 1px 2px rgba(60, 64, 67, 0.3), 0px 1px 3px 1px rgba(60, 64, 67, 0.15);\n",
              "    fill: #174EA6;\n",
              "  }\n",
              "\n",
              "  [theme=dark] .colab-df-quickchart {\n",
              "    background-color: #3B4455;\n",
              "    fill: #D2E3FC;\n",
              "  }\n",
              "\n",
              "  [theme=dark] .colab-df-quickchart:hover {\n",
              "    background-color: #434B5C;\n",
              "    box-shadow: 0px 1px 3px 1px rgba(0, 0, 0, 0.15);\n",
              "    filter: drop-shadow(0px 1px 2px rgba(0, 0, 0, 0.3));\n",
              "    fill: #FFFFFF;\n",
              "  }\n",
              "</style>\n",
              "\n",
              "  <script>\n",
              "    async function quickchart(key) {\n",
              "      const charts = await google.colab.kernel.invokeFunction(\n",
              "          'suggestCharts', [key], {});\n",
              "    }\n",
              "    (() => {\n",
              "      let quickchartButtonEl =\n",
              "        document.querySelector('#df-acc68166-be64-4512-8c50-cf56823572e8 button');\n",
              "      quickchartButtonEl.style.display =\n",
              "        google.colab.kernel.accessAllowed ? 'block' : 'none';\n",
              "    })();\n",
              "  </script>\n",
              "</div>\n",
              "    </div>\n",
              "  </div>\n"
            ]
          },
          "metadata": {},
          "execution_count": 206
        }
      ]
    },
    {
      "cell_type": "code",
      "source": [
        "dataset['Exited'].value_counts()"
      ],
      "metadata": {
        "colab": {
          "base_uri": "https://localhost:8080/"
        },
        "id": "EsFQFHB6E9NV",
        "outputId": "59e0c608-855b-497f-f45e-9589f835b1f8"
      },
      "execution_count": null,
      "outputs": [
        {
          "output_type": "execute_result",
          "data": {
            "text/plain": [
              "0    7963\n",
              "1    2037\n",
              "Name: Exited, dtype: int64"
            ]
          },
          "metadata": {},
          "execution_count": 207
        }
      ]
    },
    {
      "cell_type": "code",
      "source": [
        "plt.figure(figsize=(10,2))\n",
        "sns.countplot(dataset,x='Exited')"
      ],
      "metadata": {
        "colab": {
          "base_uri": "https://localhost:8080/",
          "height": 251
        },
        "id": "1hvh99EqFZmb",
        "outputId": "7e1dea0d-9166-44a1-a694-d11a496b1f30"
      },
      "execution_count": null,
      "outputs": [
        {
          "output_type": "execute_result",
          "data": {
            "text/plain": [
              "<Axes: xlabel='Exited', ylabel='count'>"
            ]
          },
          "metadata": {},
          "execution_count": 208
        },
        {
          "output_type": "display_data",
          "data": {
            "text/plain": [
              "<Figure size 1000x200 with 1 Axes>"
            ],
            "image/png": "[encoded data removed]"
          },
          "metadata": {}
        }
      ]
    },
    {
      "cell_type": "code",
      "source": [
        "dataset['Gender'].replace({'Female': 0, 'Male': 1}, inplace=True)"
      ],
      "metadata": {
        "id": "50J88Y8VGvJ_"
      },
      "execution_count": null,
      "outputs": []
    },
    {
      "cell_type": "code",
      "source": [
        "dataset['Gender'].value_counts()"
      ],
      "metadata": {
        "colab": {
          "base_uri": "https://localhost:8080/"
        },
        "id": "6_JqEqNVHECw",
        "outputId": "cdeb6da1-190b-4943-a58c-b8c9675f001c"
      },
      "execution_count": null,
      "outputs": [
        {
          "output_type": "execute_result",
          "data": {
            "text/plain": [
              "1    5457\n",
              "0    4543\n",
              "Name: Gender, dtype: int64"
            ]
          },
          "metadata": {},
          "execution_count": 210
        }
      ]
    },
    {
      "cell_type": "code",
      "source": [
        "plt.figure(figsize=(10,2))\n",
        "sns.countplot(dataset,x='Gender')"
      ],
      "metadata": {
        "colab": {
          "base_uri": "https://localhost:8080/",
          "height": 251
        },
        "id": "Uou2oGAGHKzl",
        "outputId": "0309ae0f-f7cd-4ef8-925b-b5a67f19c7bf"
      },
      "execution_count": null,
      "outputs": [
        {
          "output_type": "execute_result",
          "data": {
            "text/plain": [
              "<Axes: xlabel='Gender', ylabel='count'>"
            ]
          },
          "metadata": {},
          "execution_count": 211
        },
        {
          "output_type": "display_data",
          "data": {
            "text/plain": [
              "<Figure size 1000x200 with 1 Axes>"
            ],
            "image/png": "[encoded data removed]"
          },
          "metadata": {}
        }
      ]
    },
    {
      "cell_type": "code",
      "source": [
        "plt.figure(figsize=(15,3))\n",
        "sns.countplot(dataset,x='Age')"
      ],
      "metadata": {
        "colab": {
          "base_uri": "https://localhost:8080/",
          "height": 319
        },
        "id": "_9IIa9yRJ7X0",
        "outputId": "91535401-96ef-414d-a15a-573b2fbcc5a8"
      },
      "execution_count": null,
      "outputs": [
        {
          "output_type": "execute_result",
          "data": {
            "text/plain": [
              "<Axes: xlabel='Age', ylabel='count'>"
            ]
          },
          "metadata": {},
          "execution_count": 212
        },
        {
          "output_type": "display_data",
          "data": {
            "text/plain": [
              "<Figure size 1500x300 with 1 Axes>"
            ],
            "image/png": "[encoded data removed]"
          },
          "metadata": {}
        }
      ]
    },
    {
      "cell_type": "code",
      "source": [
        "plt.figure(figsize=(10,2))\n",
        "sns.countplot(dataset,x='Tenure')"
      ],
      "metadata": {
        "colab": {
          "base_uri": "https://localhost:8080/",
          "height": 251
        },
        "id": "SCeTUN3FKSOL",
        "outputId": "c6079a39-0732-4418-99bb-145ae2889f09"
      },
      "execution_count": null,
      "outputs": [
        {
          "output_type": "execute_result",
          "data": {
            "text/plain": [
              "<Axes: xlabel='Tenure', ylabel='count'>"
            ]
          },
          "metadata": {},
          "execution_count": 213
        },
        {
          "output_type": "display_data",
          "data": {
            "text/plain": [
              "<Figure size 1000x200 with 1 Axes>"
            ],
            "image/png": "[encoded data removed]"
          },
          "metadata": {}
        }
      ]
    },
    {
      "cell_type": "code",
      "source": [
        "dataset['NumOfProducts'].value_counts()"
      ],
      "metadata": {
        "colab": {
          "base_uri": "https://localhost:8080/"
        },
        "id": "Se4KbQwpPCkb",
        "outputId": "9931e2d4-8f2e-4f8b-d764-383108014e7e"
      },
      "execution_count": null,
      "outputs": [
        {
          "output_type": "execute_result",
          "data": {
            "text/plain": [
              "1    5084\n",
              "2    4590\n",
              "3     266\n",
              "4      60\n",
              "Name: NumOfProducts, dtype: int64"
            ]
          },
          "metadata": {},
          "execution_count": 214
        }
      ]
    },
    {
      "cell_type": "code",
      "source": [
        "plt.figure(figsize=(10,2))\n",
        "sns.countplot(dataset,x='NumOfProducts')"
      ],
      "metadata": {
        "colab": {
          "base_uri": "https://localhost:8080/",
          "height": 251
        },
        "id": "E43q1emLO9KW",
        "outputId": "cb1527ce-abed-41d9-9998-5c6298814c43"
      },
      "execution_count": null,
      "outputs": [
        {
          "output_type": "execute_result",
          "data": {
            "text/plain": [
              "<Axes: xlabel='NumOfProducts', ylabel='count'>"
            ]
          },
          "metadata": {},
          "execution_count": 215
        },
        {
          "output_type": "display_data",
          "data": {
            "text/plain": [
              "<Figure size 1000x200 with 1 Axes>"
            ],
            "image/png": "[encoded data removed]"
          },
          "metadata": {}
        }
      ]
    },
    {
      "cell_type": "code",
      "source": [
        "plt.figure(figsize=(10,2))\n",
        "sns.countplot(dataset,x='HasCrCard')\n",
        "plt.xlabel('Has Credit Card (No:0; yes:1)')\n",
        "plt.ylabel('Count')"
      ],
      "metadata": {
        "colab": {
          "base_uri": "https://localhost:8080/",
          "height": 251
        },
        "id": "l09HSC3DPP48",
        "outputId": "17f0fe98-3195-424a-b706-0caae21514f9"
      },
      "execution_count": null,
      "outputs": [
        {
          "output_type": "execute_result",
          "data": {
            "text/plain": [
              "Text(0, 0.5, 'Count')"
            ]
          },
          "metadata": {},
          "execution_count": 216
        },
        {
          "output_type": "display_data",
          "data": {
            "text/plain": [
              "<Figure size 1000x200 with 1 Axes>"
            ],
            "image/png": "[encoded data removed]"
          },
          "metadata": {}
        }
      ]
    },
    {
      "cell_type": "code",
      "source": [
        "plt.figure(figsize=(10,3))\n",
        "sns.countplot(dataset,x='IsActiveMember')\n",
        "plt.xlabel('Active Member (No:0; Yes:1)')\n",
        "plt.ylabel('Count')"
      ],
      "metadata": {
        "colab": {
          "base_uri": "https://localhost:8080/",
          "height": 328
        },
        "id": "C8FXDluCPZSI",
        "outputId": "3d377475-912a-4db4-ee99-1eaa4563bece"
      },
      "execution_count": null,
      "outputs": [
        {
          "output_type": "execute_result",
          "data": {
            "text/plain": [
              "Text(0, 0.5, 'Count')"
            ]
          },
          "metadata": {},
          "execution_count": 217
        },
        {
          "output_type": "display_data",
          "data": {
            "text/plain": [
              "<Figure size 1000x300 with 1 Axes>"
            ],
            "image/png": "[encoded data removed]"
          },
          "metadata": {}
        }
      ]
    },
    {
      "cell_type": "code",
      "source": [
        "def value_plot(df, y, figscale=1):\n",
        "  df[y].plot(kind='line', figsize=(8 * figscale, 2 * figscale), title=y)\n",
        "  plt.gca().spines[['top', 'right']].set_visible(False)\n",
        "  plt.tight_layout()\n",
        "  return autoviz.MplChart.from_current_mpl_state()\n",
        "\n",
        "chart = value_plot(_df_2, *['CreditScore'], **{})\n",
        "chart"
      ],
      "metadata": {
        "colab": {
          "base_uri": "https://localhost:8080/",
          "height": 211
        },
        "id": "_Df7u-q6Ne_z",
        "outputId": "910af47c-6ef0-4114-b6f4-5093cfd8b6a5"
      },
      "execution_count": null,
      "outputs": [
        {
          "output_type": "execute_result",
          "data": {
            "text/html": [
              "<img src=\"data:image/png;base64,iVBORw0KGgoAAAANSUhEUgAAAxYAAAC+CAYAAACoGZm5AAAAOXRFWHRTb2Z0d2FyZQBNYXRwbG90\n",
              "bGliIHZlcnNpb24zLjcuMSwgaHR0cHM6Ly9tYXRwbG90bGliLm9yZy/bCgiHAAAACXBIWXMAAA9h\n",
              "AAAPYQGoP6dpAAA4vUlEQVR4nO3dfVzUVaI/8M/MwMzwOIAwDA8joggIihqYormGWWTqzVLUbrdo\n",
              "K+u6Wrlau7p3+5m3W1Z3X+3abmV22+xV6y3Izd0y7ar4UEop+ASm+IwMz4ozwzPMzPn9MfDVEVBG\n",
              "kOHh83695pV8z/nOnDl+nebD+Z5zZEIIASIiIiIioi6Qu7oBRERERETU9zFYEBERERFRlzFYEBER\n",
              "ERFRlzFYEBERERFRlzFYEBERERFRlzFYEBERERFRlzFYEBERERFRlzFYEBERERFRlzFYEBERERFR\n",
              "lzFYEBHRLdm9ezdkMhl2794tHXviiScwZMgQl7WJiIhch8GCiKgPO3v2LJ599lkMHToUarUavr6+\n",
              "mDRpEtauXYv6+npXNw91dXV45ZVXHMLHtX744QdMnz4dYWFhUKvVGDx4MGbNmoWNGzf2bEOJiKjL\n",
              "3FzdACIiujVbtmxBWloaVCoVHn/8cYwcORJNTU344Ycf8NJLL+H48eNYv359j7bpww8/hM1mk36u\n",
              "q6vD6tWrAQB33323Q93MzEzMnz8fY8aMwQsvvAB/f3+cP38ee/fuxYcffoh//dd/7cmmExFRFzFY\n",
              "EBH1QefPn8eCBQsQERGBrKwshISESGWLFy/GmTNnsGXLlnbPtdlsaGpqglqt7vZ2ubu7d7ruK6+8\n",
              "gri4OPz4449QKpUOZRUVFd3dtA4JIdDQ0AAPD48ee00iov6It0IREfVBb731FmpqavDRRx85hIpW\n",
              "UVFReOGFFwAAMpkMS5Yswd/+9jfEx8dDpVJh27ZtAIDi4mI8+eSTCA4OhkqlQnx8PP7617+2eT6D\n",
              "wYDZs2fDy8sLWq0Wv/71r9HY2Nim3rVzLC5cuICgoCAAwOrVqyGTySCTyfDKK68AsN/GNW7cuDah\n",
              "AgC0Wq3DzzabDWvXrsWoUaOgVqsRFBSE+++/Hzk5OVIdi8WCV199FcOGDYNKpcKQIUPwu9/9rk07\n",
              "hwwZgpkzZ+K7775DUlISPDw88MEHHwAAjEYjli5dCr1eD5VKhaioKLz55psOozBERNQ+jlgQEfVB\n",
              "X3/9NYYOHYqJEyd2qn5WVhYyMjKwZMkSBAYGYsiQISgvL8eECROk4BEUFIStW7fiqaeegtlsxtKl\n",
              "SwEA9fX1uOeee3Dx4kU8//zzCA0NxaeffoqsrKwbvmZQUBDef/99LFq0CA899BAefvhhAEBCQgIA\n",
              "ICIiAjt37oTBYEB4ePgNn+upp57Chg0bMH36dDz99NOwWCz4/vvv8eOPPyIpKQkA8PTTT+OTTz7B\n",
              "3LlzsXz5cvz0009Ys2YNTpw4ga+++srh+QoKCvDII4/g2WefxcKFCxETE4O6ujpMmTIFxcXFePbZ\n",
              "ZzF48GDs378fK1euRGlpKf70pz91qq+JiAYsQUREfYrJZBIAxIMPPtip+gCEXC4Xx48fdzj+1FNP\n",
              "iZCQEHHp0iWH4wsWLBAajUbU1dUJIYT405/+JACIjIwMqU5tba2IiooSAMSuXbuk4+np6SIiIkL6\n",
              "ubKyUgAQq1atatOujz76SAAQSqVSpKSkiJdffll8//33wmq1OtTLysoSAMTzzz/f5jlsNpsQQogj\n",
              "R44IAOLpp592KH/xxRcFAJGVlSUdi4iIEADEtm3bHOq++uqrwsvLS5w6dcrh+IoVK4RCoRAXL15s\n",
              "8/pERHQVb4UiIupjzGYzAMDHx6fT50yZMgVxcXHSz0IIbNq0CbNmzYIQApcuXZIeqampMJlMOHTo\n",
              "EADg22+/RUhICObOnSud7+npiWeeeaZL7+PJJ5/Etm3bcPfdd+OHH37Aq6++ismTJ2P48OHYv3+/\n",
              "VG/Tpk2QyWRYtWpVm+eQyWRSGwFg2bJlDuXLly8HgDbzTSIjI5GamupwLDMzE5MnT4a/v79Df0yb\n",
              "Ng1WqxV79+7t0vslIurveCsUEVEf4+vrCwCorq7u9DmRkZEOP1dWVsJoNGL9+vUdrhzVOoG6sLAQ\n",
              "UVFR0pf4VjExMc40u12pqalITU1FXV0dcnNz8cUXX2DdunWYOXMmTp48Ca1Wi7NnzyI0NBQBAQEd\n",
              "Pk9hYSHkcjmioqIcjut0Ovj5+aGwsNDh+PX9AQCnT5/GsWPHpHkh1+vJCeVERH0RgwURUR/j6+uL\n",
              "0NBQ5Ofnd/qc61c8ap2M/G//9m9IT09v95zWuRA9wdPTE5MnT8bkyZMRGBiI1atXY+vWrR22rSPX\n",
              "h5+OtLcClM1mw7333ovf/OY37Z4THR3tVFuIiAYaBgsioj5o5syZWL9+PbKzs5GcnOz0+UFBQfDx\n",
              "8YHVasW0adNuWDciIgL5+fkQQjh8cS8oKLjp63T2i/61Widjl5aWAgCGDRuG7777DlVVVR2OWkRE\n",
              "RMBms+H06dMYMWKEdLy8vBxGoxERERE3fd1hw4ahpqbmpv1BRETt4xwLIqI+6De/+Q28vLzw9NNP\n",
              "o7y8vE352bNnsXbt2g7PVygUmDNnDjZt2tTuyEdlZaX05wceeAAlJSX48ssvpWN1dXWd2nzP09MT\n",
              "gH0Z1+vt3Lmz3XNa50u03mo1Z84cCCGkjfauJYSQ2gigzcpNb7/9NgBgxowZN23rvHnzkJ2dje++\n",
              "+65NmdFohMViuelzEBENZByxICLqg4YNG4aNGzdi/vz5GDFihMPO2/v370dmZiaeeOKJGz7HG2+8\n",
              "gV27dmH8+PFYuHAh4uLiUFVVhUOHDmHHjh2oqqoCACxcuBB/+ctf8PjjjyM3NxchISH49NNPpdBw\n",
              "Ix4eHoiLi8MXX3yB6OhoBAQEYOTIkRg5ciQefPBBREZGYtasWRg2bBhqa2uxY8cOfP311xg3bhxm\n",
              "zZoFAEhJScFjjz2Gd955B6dPn8b9998Pm82G77//HikpKViyZAlGjx6N9PR0rF+/HkajEVOmTMGB\n",
              "AwfwySefYPbs2UhJSblpW1966SX885//xMyZM/HEE08gMTERtbW1yMvLw5dffokLFy4gMDDw5n85\n",
              "REQDlUvXpCIioi45deqUWLhwoRgyZIhQKpXCx8dHTJo0Sfz5z38WDQ0NQgj7crOLFy9u9/zy8nKx\n",
              "ePFiodfrhbu7u9DpdOKee+4R69evd6hXWFgo/uVf/kV4enqKwMBA8cILL4ht27bddLlZIYTYv3+/\n",
              "SExMFEql0mHp2f/93/8VCxYsEMOGDRMeHh5CrVaLuLg48R//8R/CbDY7PIfFYhH//d//LWJjY4VS\n",
              "qRRBQUFi+vTpIjc3V6rT3NwsVq9eLSIjI4W7u7vQ6/Vi5cqVUj+0ioiIEDNmzGi3P6qrq8XKlStF\n",
              "VFSUUCqVIjAwUEycOFH84Q9/EE1NTR3+PRARkRAyIVrGkYmIiIiIiG4R51gQEREREVGXMVgQERER\n",
              "EVGXMVgQEREREVGXMVgQEREREVGXMVgQEREREVGXMVgQEREREVGX9clgIYSA2WwGV8olIiIiIuod\n",
              "+mSwqK6uhkajQXV1taubQkRERERE6KPBgoiIiIiIehcGCyIiIiIi6jIGCyIiIiIi6jIGCyIiIiKi\n",
              "XuhSTSNKjPWubkanubm6AUREREREBNhsAsdLzMg6WYGsk+U4VmzCv945GK89NMrVTesUBgsiIiIi\n",
              "IhepabTgh9OVyDpZgV0FlaisbnQor7ju596MwYKIiIiIqAedq6xpCRIVOHC+Cs3Wq3uzeSkVuGt4\n",
              "IO6JDcbdMUHQ+qpd2FLnMFgQEREREd1GjRYrDpyvsoeJkxW4cLnOoTwy0AspMVpMjdViXKQ/VG4K\n",
              "F7W0axgsiIiIiIi6Wbm5AbtOViDrZAX2nbmE2iarVOaukGF85CCkxNrDRGSglwtb2n0YLIiIiIiI\n",
              "ushqEzhqMEph4niJ2aFc66NCSowWKbFa3DU8EN6q/vc1vP+9IyIiIiKiHmCqb8beU5XYdbICu09V\n",
              "oqq2SSqTyYDR4X6Y2jIqERfiC7lc5sLW3n4MFkREREREnSCEwOmKmpblYCuQW3gFVtvVidc+ajf8\n",
              "IjoIU2O0mBIThEBvlQtb2/MYLIiIiIiIOtDQbEX2ucvSLU6GK44b1g3XemNqrP0Wp8QIf7grBu7+\n",
              "0wwWRERERETXKDHWSys47Tt7CQ3NNqlM6SZH8tBB0i1O+gBPF7a0d2GwICIiIqIBzWK14XCRUQoT\n",
              "J8uqHcpDNGr7Ck4xWkyMGgRPJb9Ct4e9QkREREQDzpXaJuw5Zd/xes+pSpjqm6UyuQy4Y7C/tBxs\n",
              "rM4HMln/nnjdHRgsiIiIiKjfE0LgRGk1dhXY50ocvngF18y7hp+nO6ZEB2FqrBa/GB4Efy+l6xrb\n",
              "RzkVLKxWK1555RV89tlnKCsrQ2hoKJ544gn8/ve/l1KcEAKrVq3Chx9+CKPRiEmTJuH999/H8OHD\n",
              "peepqqrCc889h6+//hpyuRxz5szB2rVr4e3t3b3vjoiIiIgGrLomC/aduYyskxXYXVCBUlODQ3ms\n",
              "zkeaKzFG7we3ATzxujs4FSzefPNNvP/++/jkk08QHx+PnJwc/PKXv4RGo8Hzzz8PAHjrrbfwzjvv\n",
              "4JNPPkFkZCRefvllpKam4ueff4ZarQYAPProoygtLcX27dvR3NyMX/7yl3jmmWewcePG7n+HRERE\n",
              "RDRgXLxch6yT5cgqqMSP5y6jyXJ14rXaXY67ogKREqtFSowWoX4eLmxp/yMTQoibV7ObOXMmgoOD\n",
              "8dFHH0nH5syZAw8PD3z22WcQQiA0NBTLly/Hiy++CAAwmUwIDg7Ghg0bsGDBApw4cQJxcXE4ePAg\n",
              "kpKSAADbtm3DAw88AIPBgNDQ0Ju2w2w2Q6PRwGQywdfX19n3TERERET9RLPVhoMXqqTlYM9W1jqU\n",
              "h/t74J6W5WAnDB0EtbvCRS3t/5wasZg4cSLWr1+PU6dOITo6GkePHsUPP/yAt99+GwBw/vx5lJWV\n",
              "Ydq0adI5Go0G48ePR3Z2NhYsWIDs7Gz4+flJoQIApk2bBrlcjp9++gkPPfRQm9dtbGxEY2Oj9LPZ\n",
              "bG5Th4iIiIgGhks1jdhdYN/xeu+pSlQ3WqQyhVyGpAh/6RanKK03J173EKeCxYoVK2A2mxEbGwuF\n",
              "QgGr1YrXXnsNjz76KACgrKwMABAcHOxwXnBwsFRWVlYGrVbr2Ag3NwQEBEh1rrdmzRqsXr3amaYS\n",
              "ERERUT9hswkcLzHbd7wuqMAxgxHX3nMzyEuJKTH2ideThwdB4+HuusYOYE4Fi4yMDPztb3/Dxo0b\n",
              "ER8fjyNHjmDp0qUIDQ1Fenr67WojVq5ciWXLlkk/m81m6PX62/Z6RERERORaNY0W/HDavhzsroJK\n",
              "VFY3OpSPDPPF1Bj7LU6jw/0gl3NUwtWcChYvvfQSVqxYgQULFgAARo0ahcLCQqxZswbp6enQ6XQA\n",
              "gPLycoSEhEjnlZeXY8yYMQAAnU6HiooKh+e1WCyoqqqSzr+eSqWCSqVypqlERERE1Mecq6xpCRIV\n",
              "OHC+Cs3Wq8MSXkoF7hoeiKmxWtwdo0Wwr9qFLaX2OBUs6urqIJc7LsOlUChgs9ln20dGRkKn02Hn\n",
              "zp1SkDCbzfjpp5+waNEiAEBycjKMRiNyc3ORmJgIAMjKyoLNZsP48eO7+n6IiIiIqI9otFhx4HyV\n",
              "tOP1hct1DuWRgV5IibHPlRgX6Q+VGyde92ZOBYtZs2bhtddew+DBgxEfH4/Dhw/j7bffxpNPPgkA\n",
              "kMlkWLp0Kf7rv/4Lw4cPl5abDQ0NxezZswEAI0aMwP3334+FCxdi3bp1aG5uxpIlS7BgwYJOrQhF\n",
              "RERERH1XublBWsFp35lLqG2ySmXuChnGRw6SdryODPRyYUvJWU4tN1tdXY2XX34ZX331FSoqKhAa\n",
              "GopHHnkE/+///T8olfbdCVs3yFu/fj2MRiPuuusuvPfee4iOjpaep6qqCkuWLHHYIO+dd97p9AZ5\n",
              "XG6WiIiIqG+w2gSOGoxSmDhe4ri6Z5CPCikxQZgaG4y7hgfCW+XU772pF3EqWPQWDBZEREREvZep\n",
              "vhl7T9mXg91zqhKXa5ukMpkMSAj3w9SWW5ziQ3058bqfYCQkIiIioi4RQuBMhX3iddbJCuQUXoHV\n",
              "dvV31z4qN/wiOggpsVrcHROEQG8uytMfMVgQERERkdMamq3IPndZusXJcKXeoTxK642psVqkxGiR\n",
              "NMQf7gp5B89E/QWDBRERERF1SomxXlrBad/ZS2hotkllSjc5kocOkna81gd4urCl5AoMFkRERETU\n",
              "LovVhsNFRilMnCyrdigP0ajtKzjFaDExahA8lfxqOZDxb5+IiIiIJFdqm7DnlH3H6z2nKmGqb5bK\n",
              "5DLgjsH+0nKwsTofyGSceE12DBZEREREA5gQAidKq7GrwD5X4vDFK7hm3jU0Hu6YEh2EqbFaTIkO\n",
              "gr+X0nWNpV6NwYKIiIhogKlrsmDfmcvIOlmB3QUVKDU1OJTH6nykUYmxej+4ceI1dQKDBREREdEA\n",
              "cPFynTQqkX3uMposVydeq93lmDQsECmxWqTEahHm5+HCllJfxWBBRERE1A81W23IuXBFChNnKmoc\n",
              "ysP9PezLwcZqkTx0ENTuChe1lPoLBgsiIiKifuJSTSN2F9h3vN57uhLVDRapTCGXISnCX1oONkrr\n",
              "zYnX1K0YLIiIiIj6KJtN4HiJ2b7jdUEFjhmMENdMvB7kpcSUGPvE68nDg6DxcHddY6nfY7AgIiIi\n",
              "6kNqGi344bR9OdhdBZWorG50KI8P9cU9Lbc4JYT7QSHnqAT1DAYLIiIiol7uXGVNS5CowIHzVWi2\n",
              "Xh2W8FQqcFdUoDRfIthX7cKW0kDGYEFERETUyzRarDhwvkra8frC5TqH8iGDPKXlYO+MDIDKjROv\n",
              "yfUYLIiIiIh6gQpzA3YVVGDniQrsO3MJtU1WqcxdIcOdkQFIibGHiaFB3i5sKVH7GCyIiIiIXMBm\n",
              "EzhqMGJXy8Tr/GKzQ3mQjwopLROvJ0UFwkfNidfUuzFYEBEREfUQU30zvm+ZeL2noBKXa5ukMpkM\n",
              "SAj3w9SWUYn4UF/IOfGa+hAGCyIiIqLbRAiBMxX2iddZJyuQU3gFVtvVidc+Kjf8IjoIKbFa3B0T\n",
              "hEBvlQtbS9Q1DBZERERE3aih2Yrsc5fttzidrIDhSr1D+bAgr5ZN6oKRNMQf7gq5i1pK1L0YLIiI\n",
              "iIi6qMRYL63gtO/sJTQ026QypZscE4YOwtSYIEyNDcbgQZ4ubCnR7cNgQUREROQki9WGw0VGKUyc\n",
              "LKt2KNf5qqXlYCdFDYKnkl+5qP9z6iofMmQICgsL2xz/1a9+hXfffRcNDQ1Yvnw5Pv/8czQ2NiI1\n",
              "NRXvvfcegoODpboXL17EokWLsGvXLnh7eyM9PR1r1qyBmxv/wREREVHvdaW2CXtOtUy8PlUJU32z\n",
              "VCaXAWMH+9s3qYvRYkSID2QyTrymgcWpb/MHDx6E1Xp1TeX8/Hzce++9SEtLAwD8+te/xpYtW5CZ\n",
              "mQmNRoMlS5bg4Ycfxr59+wAAVqsVM2bMgE6nw/79+1FaWorHH38c7u7ueP3117vxbRERERF1jRAC\n",
              "J8uqpYnXhy9ewTXzrqHxcMeUaPtysFOig+DvpXRdY4l6AZkQQty8WvuWLl2Kb775BqdPn4bZbEZQ\n",
              "UBA2btyIuXPnAgBOnjyJESNGIDs7GxMmTMDWrVsxc+ZMlJSUSKMY69atw29/+1tUVlZCqezcP0iz\n",
              "2QyNRgOTyQRfX99bbT4RERGRg7omC/afuYysAvstTqWmBofyWJ2PdIvTWL0f3Djxmkhyy/cfNTU1\n",
              "4bPPPsOyZcsgk8mQm5uL5uZmTJs2TaoTGxuLwYMHS8EiOzsbo0aNcrg1KjU1FYsWLcLx48cxduzY\n",
              "rr0bIiIiIicZrtRh5wn7qET2uctoslydeK12l2PSsECkxGqREqtFmJ+HC1tK1LvdcrDYvHkzjEYj\n",
              "nnjiCQBAWVkZlEol/Pz8HOoFBwejrKxMqnNtqGgtby3rSGNjIxobG6WfzWZzh3WJiIiIbqa+yYqt\n",
              "+aXIyCnCj+eqHMrC/DxaloPVInnYIKjdFS5qJVHfcsvB4qOPPsL06dMRGhrane1p15o1a7B69erb\n",
              "/jpERETUfwkhcKTIiIwcA745WoLqRgsA+47X4yICMHWEPUwM13pz4jXRLbilYFFYWIgdO3bg73//\n",
              "u3RMp9OhqakJRqPRYdSivLwcOp1OqnPgwAGH5yovL5fKOrJy5UosW7ZM+tlsNkOv199K04mIiGiA\n",
              "qaxuxObDxcjIKcLpihrpuD7AA2mJesxJDOctTkTd4JaCxccffwytVosZM2ZIxxITE+Hu7o6dO3di\n",
              "zpw5AICCggJcvHgRycnJAIDk5GS89tprqKiogFarBQBs374dvr6+iIuL6/D1VCoVVCpucU9ERESd\n",
              "02y1YXdBJTJyirDrZAUsLcs5qd3lmD4yBGlJ4ZgQOQhyOUcmiLqL08HCZrPh448/Rnp6usPeExqN\n",
              "Bk899RSWLVuGgIAA+Pr64rnnnkNycjImTJgAALjvvvsQFxeHxx57DG+99RbKysrw+9//HosXL2Zw\n",
              "ICIioi47U1GNzBwDNh0qxqWaq/Mzx+j9MC9Jj5mjQ+CrdndhC4n6L6eDxY4dO3Dx4kU8+eSTbcr+\n",
              "+Mc/Qi6XY86cOQ4b5LVSKBT45ptvsGjRIiQnJ8PLywvp6en4z//8z669CyIiIhqwqhuaseWYfSL2\n",
              "oYtG6fggLyUeviMMaUl6RAf7uK6BRANEl/axcBXuY0FERDSwCSFw4HwVMnIM+DavFPXN9g18FXIZ\n",
              "UmKCkJakx9RYLdy5zwRRj7nlVaGIiIiIelqpqR6bcg3IzDWg8HKddHxokBfmJ+nx0B1h0PqoXdhC\n",
              "ooGLwYKIiIh6tUaLFTt+rkBGThG+P12JlnnY8FIqMGt0KNKS9LhjsB+XiCVyMQYLIiIi6pV+LjEj\n",
              "I6cIm48Uw1jXLB2/MzIA85L0eGCUDp5KfpUh6i34r5GIiIh6DWNdE/5xpASZuUXILzZLx4N9VZib\n",
              "GI65iXpEBnq5sIVE1BEGCyIiInIpq01g35lLyMgpwv8dL0eT1QYAcFfIcF+cDnOTwvGL4UFQcM8J\n",
              "ol6NwYKIiIhc4uLlOnyZW4Qvcw0oMTVIx2N1Ppg/To8Hx4QhwEvpwhYSkTMYLIiIiKjH1DdZse14\n",
              "KTIOGpB97rJ03FfthtljwzAvSY/4UF9OxCbqgxgsiIiI6LYSQuCowYSMnCJ8faQE1Y0WAIBMBtwV\n",
              "FYi0JD3uiwuG2l3h4pYSUVcwWBAREdFtUVndiM2Hi5GRU4TTFTXScX2AB9IS9ZiTGI4wPw8XtpCI\n",
              "uhODBREREXUbi9WG3QWVyMgpQtbJClhaNp1QucnxwKgQpCWFY0LkIMg5EZuo32GwICIioi47U1GD\n",
              "zNwi/P1QMSqrG6Xjo/V+mJcUjlmjQ+GrdndhC4nodmOwICIioltS3dCMLcdKkZFThEMXjdLxQV5K\n",
              "PHxHGNKS9IgO9nFdA4moRzFYEBERUacJIXDgfBUycgz4Nq8U9c1WAIBCLkNKTBDSkvRIidFC6SZ3\n",
              "cUuJqKcxWBAREdFNlZrq8fdDxcjMKcKFy3XS8aFBXpiXpMfDY8Og9VW7sIVE5GoMFkRERNSuRosV\n",
              "O09UICOnCHtPVaJlHja8lArMTAjFvHHhuGOwP/ecICIADBZERER0nZ9LzMjIKcI/jhTjSl2zdPzO\n",
              "yADMS9Jj+kgdvFT8CkFEjvipQERERDDVNeMfR+17TuQXm6Xjwb4qzE0Mx9xEPSIDvVzYQiLq7Rgs\n",
              "iIiIBiirTWD/2UvIyDHgu+NlaLLYAADuChnujQtGWpIevxgeBAX3nCCiTmCwuEWnyqtRYqyHUiGH\n",
              "m0ION4Ws5c8yuCvkcJfL4e4mg5tc7nhcIeO9qERE5FJFVXXIzDVgU64BxcZ66Xiszgfzx+nx4Jgw\n",
              "BHgpXdhCIuqLGCxu0afZhfj0x8JbOtdNLrMHDbkc7m5yuMmvhg73lqCiVMjgds0xd0VLPTc53OWt\n",
              "Zdee0xJsWgKNu9xeZn8ue7n0vC2v697yfFdf/7rXk9rYcg5DERFRn1XfZMW246XIOGhA9rnL0nFf\n",
              "tRtmjw3DvCQ94kN9+TlPRLeMweIW6TRqxIf6wmIVaLba0GyzodkiYLHZ0GSxwWJrOW4Vbc612AQs\n",
              "NoEG2IDGdp68F2sNIW1GaFpCybWhpU1Za8i5JiBdH6SuBqTWOtcGm3aCVEtdZTsBySFUyRmKiGjg\n",
              "EULgqMGEjJwifH2kBNWNFgCATAbcFRWItCQ97osLhtpd4eKWElF/IBNCtP3mewPFxcX47W9/i61b\n",
              "t6Kurg5RUVH4+OOPkZSUBMD+IbZq1Sp8+OGHMBqNmDRpEt5//30MHz5ceo6qqio899xz+PrrryGX\n",
              "yzFnzhysXbsW3t7enWqD2WyGRqOByWSCr6+vM83vcUIIWG0CzVbREj7socMxfNgDiMVqQ5PVdjWs\n",
              "WO1BpfXPzdeV2X+2oanlXHvAEdJrtD63xSocn1eqc/V5rq/XWtafSKFECiJtA1K7ozrXBakbBaTr\n",
              "R3yuBhs5lDcJSO2eK5dBwVBERE66VNOIzYftE7FPlddIx8P9PZCWqMecxDCE+3u6sIVE1B85NWJx\n",
              "5coVTJo0CSkpKdi6dSuCgoJw+vRp+Pv7S3XeeustvPPOO/jkk08QGRmJl19+Gampqfj555+hVts3\n",
              "znn00UdRWlqK7du3o7m5Gb/85S/xzDPPYOPGjd377noBmUzW8mUU8EDf+o2QEMJh5MUx2FwXSlrC\n",
              "SrPtmpBzzTlNLSHoasBqGd25PkjdICBdDV/tvMZ1QcpiaxuK7HWtLujJrrt+no77tT+3M5/HR+2G\n",
              "+FANEsI1SAj3473SRAOAxWrD7oJKZOYWYeeJCulzUOUmx/SROsxL0mPC0EGQcyI2Ed0mTo1YrFix\n",
              "Avv27cP333/fbrkQAqGhoVi+fDlefPFFAIDJZEJwcDA2bNiABQsW4MSJE4iLi8PBgwelUY5t27bh\n",
              "gQcegMFgQGho6E3b0ZdGLMg1bLaroUgKNi2BptnWwUhOB6M67QaZ60eObDcIUteEr2tHqq6td7WN\n",
              "9hGu7hbu74HR4X4YFW4PG6PCNPBRu3f76xBRzztTUYPM3CL8/VAxKquv3l87Wu+HeUnhmJkQCo0H\n",
              "/70T0e3nVLCIi4tDamoqDAYD9uzZg7CwMPzqV7/CwoULAQDnzp3DsGHDcPjwYYwZM0Y6b8qUKRgz\n",
              "ZgzWrl2Lv/71r1i+fDmuXLkilVssFqjVamRmZuKhhx66aTsYLKg/s9law0/7t8dJwebaW+uuC0iV\n",
              "1Y3IKzYhz2DCuUu1bV5DJgOGBnohIdyvZVRDg/hQDe+zJuojahot2HKsBBk5BuQWXv3/6SAvJR4a\n",
              "G4a0JD1idD4ubCERDURO3Qp17tw5vP/++1i2bBl+97vf4eDBg3j++eehVCqRnp6OsrIyAEBwcLDD\n",
              "ecHBwVJZWVkZtFqtYyPc3BAQECDVuV5jYyMaG6/+FsZsNrdbj6g/kMtlUMkV6K5NbU31zcgvNuGY\n",
              "wYRjBiOOGUwoNtbjbGUtzlbW4qvDxQAAhVyG6GAfJIRpkKDXYHS4H6KDfaB0k3dPQ4ioS4QQOHjh\n",
              "CjJyirDlWCnqm+23dsplQEqMFmlJekyN1fLfLBG5jFNfXWw2G5KSkvD6668DAMaOHYv8/HysW7cO\n",
              "6enpt6WBALBmzRqsXr36tj0/UX+m8XDHpKhATIoKlI5dqmlEnsGEowZjy39NuFTTiBOlZpwoNeOL\n",
              "nCIAgNJNjhEhvhjdcvvUaL0fhgV5c7Msoh5UZmrApkMGZOYU4cLlOun40CAvzEvS4+GxYdD6ql3Y\n",
              "QiIiO6eCRUhICOLi4hyOjRgxAps2bQIA6HQ6AEB5eTlCQkKkOuXl5dKtUTqdDhUVFQ7PYbFYUFVV\n",
              "JZ1/vZUrV2LZsmXSz2azGXq93pmmE9E1Ar1VSInVIiXWPnoohECpqUEa0Wgd3TA3WHC0yIijRUbp\n",
              "XC+lAvFhmpaRDT+MDtdgcIAnV64i6kaNFit2nqhARk4R9p6qROvUKy+lAjMTQjFvXDjuGOzPf3dE\n",
              "1Ks4FSwmTZqEgoICh2OnTp1CREQEACAyMhI6nQ47d+6UgoTZbMZPP/2ERYsWAQCSk5NhNBqRm5uL\n",
              "xMREAEBWVhZsNhvGjx/f7uuqVCqoVCqn3hgRdZ5MJkOonwdC/Txw/0j7LwWEECi8XIejLWEjz2BC\n",
              "fokJtU1WHDhfhQPnq6TzNR7u0lyNUWF+GK3XQOer5pceIiedKDUjI6cImw8X40pds3T8ziEBSEsK\n",
              "xwOjQuDVXfdJEhF1M6cmbx88eBATJ07E6tWrMW/ePBw4cAALFy7E+vXr8eijjwIA3nzzTbzxxhsO\n",
              "y80eO3bMYbnZ6dOno7y8HOvWrZOWm01KSur0crOcvE3kGlabwJmKmmtGNow4UVqNJqutTd0gH5V9\n",
              "VCPcDwl6+wjHIG/+goDoeqa6ZvzzaDEycgzIKzZJx4N9VZibGI65iXpEBnq5sIVERJ3j9AZ533zz\n",
              "DVauXInTp08jMjISy5Ytk1aFAq5ukLd+/XoYjUbcddddeO+99xAdHS3VqaqqwpIlSxw2yHvnnXf6\n",
              "5QZ5RP1dk8WGgrLqa+ZrGHG6oqbdZXPD/DwwWt8yqhGuwchwDXy57C0NQDabwL6zl5CRY8B3x8vQ\n",
              "ZLGHc3eFDPfGBSMtSY/JUYFwU3AiNhH1HU4Hi96AwYKod6tvsuLnUhOOFrWsRFVswrnKtsveAq3L\n",
              "3tpHNkbrNYgL0cBDyWVvqX8qqqpDZq4Bm3INKDbWS8djdT6Yl6TH7LFh3NCSiPosBgsi6hHmhmbk\n",
              "G0w4VmwPG0eLTA5frFop5DIM13pLG/qNDvdDjI7L3lLf1dBsxbb8MmTkFGH/2cvScV+1Gx4cE4Z5\n",
              "SXqMDPPlnCQi6vMYLIjIZS7XNNqDRpEJecVGHDWYHHYObqVUyDEixOeaDf38EKXlsrfUewkhcMxg\n",
              "QkZOEf55tATVDRYA9s0p74oKxNzEcKTG67gpJRH1KwwWRNRrCCFQZm7A0Zag0br0ram+uU1dT6UC\n",
              "I0M1GNWyGtXocD9EDOKyt+Ral2oasflwMTJyinCqvEY6Hu7vgbREPeYkhiHc39OFLSQiun0YLIio\n",
              "VxNC4GJVHY4aTMgz2Ec18otNqGuytqnrq3a7ZlTDPrIRouGyt3R7Waw27DlViYycIuw8UQFLy8IF\n",
              "Kjc5po/UYV6SHhOGDoKcI2xE1M8xWBBRn2O1CZyrrMHRliVvjxlM+LnULK2sc61Ab5V95/CWUY2E\n",
              "cC57S93jbGUNMnMM2HTI4HAL3+hwDdKS9Jg1OhQaD656RkQDB4MFEfULTRYbTpVfu+ytCafKqztc\n",
              "9rZ1RCOhJXRw2VvqjJpGC749VoqMnCLkFF6Rjgd4KfHw2DCkJekRo/NxYQuJiFyHwYKI+i37srdm\n",
              "hw39zl2qRXufekMDvVrma9j32IgL9YWnkjsck/12vIMXriAjpwjf5pVKt+HJZUBKjBZpSXpMjdVy\n",
              "5TIiGvAYLIhoQKluaEZesQl5LRPDjxqMMFxpu+ytXAZEB/u0jGjYw0aszpdfHgeQMlMDNh0yIDOn\n",
              "CBcu10nHhwZ6IS1Jj4fvCEOwr9qFLSQi6l0YLIhowKuqbbpmVMM+slHRwbK3sSE+DrdRDdf6cNnb\n",
              "fqTJYsPOE+XIyCnCnlOVaL2TzkupwIyEEMxL0iMxwp8LAhARtYPBgoioHWWmBilsHDUYkVdsgrGu\n",
              "7bK3Hu4KjAzzxagw+87hCeF+iAjw5ApAfcyJUjMycwzYfKQYVbVN0vE7hwQgLSkcD4wKgZeKt8YR\n",
              "Ed0IgwURUScIIVBUVS+FjKNFRuQXm1DbzrK3Pmq3q6MaYRok6P0QymVvex1TXTP+ebQYGTkG5BWb\n",
              "pOPBvirMuSMccxPDMTTI24UtJCLqWxgsiIhukdUmcP5SDY4WtSx7W2zC8ZKOlr1VIiHcD6PCNNLI\n",
              "RiCXve1xNpvA/rOXkZFThG3Hy6S/K3eFDNNGBGNekh6ThwfCTcG5NEREzmKwICLqRs1WGwrKqnHM\n",
              "YN89/GiRCQUdLHsbqlHbRzX0GiSE+WFUuIb7HtwmRVV1+DLXgC9zDSg2Xp2sH6vzQVqSHrPHhHJ/\n",
              "EyKiLmKwICK6zRqaW5a9LWqZIF5swtnKmnaXvY0M9MKoMPvO4aP1fojnsre3rKHZim35ZcjIKcL+\n",
              "s5el4z5qN8weE4Z5SXqMDPPlLWpERN2EwYKIyAWqG5qRX2y2j2q0rERVVNX+srfDta0rUdlvoYoN\n",
              "8YHKTeGCVvd+QggcM5iQkVOEfx4tQXWDRSq7KyoQaUnhSI3XQe3O/iMi6m4MFkREvcSV2iYcKzbZ\n",
              "RzaK7WGj3Nx22Vt3hQyxOl/7qEbLrVRRQd4Del7A5ZpGfHW4GJk5BhSUV0vHw/w8kJYUjjl3hEMf\n",
              "4OnCFhIR9X8MFkREvVi5uUHaW+OowYQ8gxFXOlj2Nj7UV9pfIyFcgyGDvPr1srcWqw17T1ci46AB\n",
              "O06Uw9Iyj0XlJsf0kTrMS9JjwtBB/boPiIh6EwYLIqI+RAgBw5WWZW9b9tjILzajptHSpq6P2q1l\n",
              "voZ95/BR4RqE+Xn0+TkFZytrkJljwN8PGRw2MhwdrkFakh6zRodyEjwRkQswWBAR9XE2m8C5S7XX\n",
              "7B5uxPESMxrbWfZ2kJcSCeEajGoJGwnhfgjy6f2rIdU0WvDtsVJk5BQhp/CKdDzAS4mHxoYhLSkc\n",
              "sTr+/4CIyJUYLIiI+qFmqw2nyqtbRjXsYaOgrFq6XehaIRr11Q39wu1L32o8Xf8bfyEEcgqvIONg\n",
              "EbbklaKuZTNCuQy4O0aLeUnhmBobDKXbwJ1bQkTUmzBYEBENEA3NVpwoNeNYyy1UeQYTznSw7O2Q\n",
              "QZ7XzNfww8iwnlv2tszUgE2H7HtOnL9UKx0fGuiFtCQ9Hr4jDMG+6h5pCxERdR6DBRHRAFbTaEF+\n",
              "sUmar5FXbELh5bo29eQyIErr7RA2RnTjsrdNFht2nihHRk4R9pyqROvAiqdSgZkJIZiXpEdihH+f\n",
              "nx9CRNSfORUsXnnlFaxevdrhWExMDE6ePAkAaGhowPLly/H555+jsbERqampeO+99xAcHCzVv3jx\n",
              "IhYtWoRdu3bB29sb6enpWLNmDdzcOv+bMAYLIqLbx1jX1LJzuAlHWzb1KzM3tKnnrpAhRudzdXJ4\n",
              "mB+ig51b9vZkmRkZBw3YfKQYVbVN0vFxQ/yRlqTHjFEh8FJxg0Aior7A6U/r+Ph47Nix4+oTXBMI\n",
              "fv3rX2PLli3IzMyERqPBkiVL8PDDD2Pfvn0AAKvVihkzZkCn02H//v0oLS3F448/Dnd3d7z++uvd\n",
              "8HaIiKir/DyV+EV0EH4RHSQdq7hu2dtjLcve5hebkV9sxsaf7PXU7nLEh2ocNvSLvG7ZW1N9M/55\n",
              "tASZOUU4ZjBJx7U+KsxJDEdaYjiGBnn32PslIqLu4fSIxebNm3HkyJE2ZSaTCUFBQdi4cSPmzp0L\n",
              "ADh58iRGjBiB7OxsTJgwAVu3bsXMmTNRUlIijWKsW7cOv/3tb1FZWQmlUtmpdnDEgojItVqXvT1m\n",
              "MOFYsRHHikzILzahur1lb1VuGBmmQYJegzJTA7bll0krVrkrZJg2IhjzkvSYPDxwQG/yR0TU1zk9\n",
              "YnH69GmEhoZCrVYjOTkZa9asweDBg5Gbm4vm5mZMmzZNqhsbG4vBgwdLwSI7OxujRo1yuDUqNTUV\n",
              "ixYtwvHjxzF27Nh2X7OxsRGNjVfXKjebzc42m4iIupFMJoM+wBP6AE/MSAgBYF/29vxl+7K3R4vs\n",
              "t1IdL7GHjexzl5F97rJ0fkywD+aN02P2mFAM8u79y90SEdHNORUsxo8fjw0bNiAmJgalpaVYvXo1\n",
              "Jk+ejPz8fJSVlUGpVMLPz8/hnODgYJSVlQEAysrKHEJFa3lrWUfWrFnTZm4HERH1LnK5DMOCvDEs\n",
              "yBsPjQ0HYN8d+1R5DfKK7XM1lG5yPDQ2DKPCNJyITUTUzzgVLKZPny79OSEhAePHj0dERAQyMjLg\n",
              "4eHR7Y1rtXLlSixbtkz62Ww2Q6/X37bXIyKi7uGmkCMu1Bdxob6YP87VrSEiotupSzez+vn5ITo6\n",
              "GmfOnIFOp0NTUxOMRqNDnfLycuh0OgCATqdDeXl5m/LWso6oVCr4+vo6PIiIiIiIqPfoUrCoqanB\n",
              "2bNnERISgsTERLi7u2Pnzp1SeUFBAS5evIjk5GQAQHJyMvLy8lBRUSHV2b59O3x9fREXF9eVphAR\n",
              "ERERkQs5dSvUiy++iFmzZiEiIgIlJSVYtWoVFAoFHnnkEWg0Gjz11FNYtmwZAgIC4Ovri+eeew7J\n",
              "ycmYMGECAOC+++5DXFwcHnvsMbz11lsoKyvD73//eyxevBgqVecn77UuZMVJ3EREREREt5+Pj8/N\n",
              "58YJJ8yfP1+EhIQIpVIpwsLCxPz588WZM2ek8vr6evGrX/1K+Pv7C09PT/HQQw+J0tJSh+e4cOGC\n",
              "mD59uvDw8BCBgYFi+fLlorm52ZlmiKKiIgGADz744IMPPvjggw8++OiBh8lkuul3dKf2segtbDYb\n",
              "SkpKOpecbpPWCeRFRUWc89EN2J/dh33Zvdif3Yd92X3Yl92L/dl92Jfdqzf1Z2e+dzu9j0VvIJfL\n",
              "ER4e7upmAAAnk3cz9mf3YV92L/Zn92Ffdh/2Zfdif3Yf9mX36iv9yS1OiYiIiIioyxgsiIiIiIio\n",
              "yxgsbpFKpcKqVaucWs2KOsb+7D7sy+7F/uw+7Mvuw77sXuzP7sO+7F59rT/75ORtIiIiIiLqXThi\n",
              "QUREREREXcZgQUREREREXcZgQUREREREXcZgQUREREREXcZgcQPvvvsuhgwZArVajfHjx+PAgQM3\n",
              "rJ+ZmYnY2Fio1WqMGjUK3377bQ+1tG9wpj83bNgAmUzm8FCr1T3Y2t5r7969mDVrFkJDQyGTybB5\n",
              "8+abnrN7927ccccdUKlUiIqKwoYNG257O/sCZ/ty9+7dba5LmUyGsrKynmlwL7ZmzRqMGzcOPj4+\n",
              "0Gq1mD17NgoKCm56Hj8323cr/cnPzfa9//77SEhIkDYYS05OxtatW294Dq/L9jnbl7wmO++NN96A\n",
              "TCbD0qVLb1ivt1+bDBYd+OKLL7Bs2TKsWrUKhw4dwujRo5GamoqKiop26+/fvx+PPPIInnrqKRw+\n",
              "fBizZ8/G7NmzkZ+f38Mt752c7U/AvstkaWmp9CgsLOzBFvdetbW1GD16NN59991O1T9//jxmzJiB\n",
              "lJQUHDlyBEuXLsXTTz+N77777ja3tPdzti9bFRQUOFybWq32NrWw79izZw8WL16MH3/8Edu3b0dz\n",
              "czPuu+8+1NbWdngOPzc7div9CfBzsz3h4eF44403kJubi5ycHEydOhUPPvggjh8/3m59Xpcdc7Yv\n",
              "AV6TnXHw4EF88MEHSEhIuGG9PnFtCmrXnXfeKRYvXiz9bLVaRWhoqFizZk279efNmydmzJjhcGz8\n",
              "+PHi2Wefva3t7Cuc7c+PP/5YaDSaHmpd3wVAfPXVVzes85vf/EbEx8c7HJs/f75ITU29jS3rezrT\n",
              "l7t27RIAxJUrV3qkTX1ZRUWFACD27NnTYR1+bnZeZ/qTn5ud5+/vL/7nf/6n3TJel865UV/ymry5\n",
              "6upqMXz4cLF9+3YxZcoU8cILL3RYty9cmxyxaEdTUxNyc3Mxbdo06ZhcLse0adOQnZ3d7jnZ2dkO\n",
              "9QEgNTW1w/oDya30JwDU1NQgIiICer3+pr8RoY7x2ux+Y8aMQUhICO69917s27fP1c3plUwmEwAg\n",
              "ICCgwzq8NjuvM/0J8HPzZqxWKz7//HPU1tYiOTm53Tq8LjunM30J8Jq8mcWLF2PGjBltrrn29IVr\n",
              "k8GiHZcuXYLVakVwcLDD8eDg4A7vpS4rK3Oq/kByK/0ZExODv/71r/jHP/6Bzz77DDabDRMnToTB\n",
              "YOiJJvcrHV2bZrMZ9fX1LmpV3xQSEoJ169Zh06ZN2LRpE/R6Pe6++24cOnTI1U3rVWw2G5YuXYpJ\n",
              "kyZh5MiRHdbj52bndLY/+bnZsby8PHh7e0OlUuHf//3f8dVXXyEuLq7durwub8yZvuQ1eWOff/45\n",
              "Dh06hDVr1nSqfl+4Nt1c3QCi9iQnJzv8BmTixIkYMWIEPvjgA7z66qsubBkNZDExMYiJiZF+njhx\n",
              "Is6ePYs//vGP+PTTT13Yst5l8eLFyM/Pxw8//ODqpvQLne1Pfm52LCYmBkeOHIHJZMKXX36J9PR0\n",
              "7Nmzp8MvxNQxZ/qS12THioqK8MILL2D79u39akI7g0U7AgMDoVAoUF5e7nC8vLwcOp2u3XN0Op1T\n",
              "9QeSW+nP67m7u2Ps2LE4c+bM7Whiv9bRtenr6wsPDw8Xtar/uPPOO/kF+hpLlizBN998g7179yI8\n",
              "PPyGdfm5eXPO9Of1+Ll5lVKpRFRUFAAgMTERBw8exNq1a/HBBx+0qcvr8sac6cvr8Zq8Kjc3FxUV\n",
              "FbjjjjukY1arFXv37sVf/vIXNDY2QqFQOJzTF65N3grVDqVSicTEROzcuVM6ZrPZsHPnzg7vI0xO\n",
              "TnaoDwDbt2+/4X2HA8Wt9Of1rFYr8vLyEBIScrua2W/x2ry9jhw5wusSgBACS5YswVdffYWsrCxE\n",
              "Rkbe9Bxemx27lf68Hj83O2az2dDY2NhuGa9L59yoL6/Ha/Kqe+65B3l5eThy5Ij0SEpKwqOPPooj\n",
              "R460CRVAH7k2XT17vLf6/PPPhUqlEhs2bBA///yzeOaZZ4Sfn58oKysTQgjx2GOPiRUrVkj19+3b\n",
              "J9zc3MQf/vAHceLECbFq1Srh7u4u8vLyXPUWehVn+3P16tXiu+++E2fPnhW5ubliwYIFQq1Wi+PH\n",
              "j7vqLfQa1dXV4vDhw+Lw4cMCgHj77bfF4cOHRWFhoRBCiBUrVojHHntMqn/u3Dnh6ekpXnrpJXHi\n",
              "xAnx7rvvCoVCIbZt2+aqt9BrONuXf/zjH8XmzZvF6dOnRV5ennjhhReEXC4XO3bscNVb6DUWLVok\n",
              "NBqN2L17tygtLZUedXV1Uh1+bnberfQnPzfbt2LFCrFnzx5x/vx5cezYMbFixQohk8nE//3f/wkh\n",
              "eF06w9m+5DXpnOtXheqL1yaDxQ38+c9/FoMHDxZKpVLceeed4scff5TKpkyZItLT0x3qZ2RkiOjo\n",
              "aKFUKkV8fLzYsmVLD7e4d3OmP5cuXSrVDQ4OFg888IA4dOiQC1rd+7QueXr9o7X/0tPTxZQpU9qc\n",
              "M2bMGKFUKsXQoUPFxx9/3OPt7o2c7cs333xTDBs2TKjVahEQECDuvvtukZWV5ZrG9zLt9SMAh2uN\n",
              "n5uddyv9yc/N9j355JMiIiJCKJVKERQUJO655x7pi7AQvC6d4Wxf8pp0zvXBoi9emzIhhOi58REi\n",
              "IiIiIuqPOMeCiIiIiIi6jMGCiIiIiIi6jMGCiIiIiIi6jMGCiIiIiIi6jMGCiIiIiIi6jMGCiIiI\n",
              "iIi6jMGCiIiIiIi6jMGCiIiIiIi6jMGCiIiIiIi6jMGCiIiIiIi6jMGCiIiIiIi6jMGCiIiIiIi6\n",
              "7P8DegiUBBvfNLMAAAAASUVORK5CYII=\n",
              "\">\n",
              "        <script></script>"
            ],
            "text/plain": [
              "<google.colab._quickchart_lib.MplChart at 0x7dfe4491aaa0>"
            ]
          },
          "metadata": {},
          "execution_count": 218
        }
      ]
    },
    {
      "cell_type": "code",
      "source": [
        "def value_plot(df, y, figscale=1):\n",
        "  df[y].plot(kind='line', figsize=(8 * figscale, 2 * figscale), title=y)\n",
        "  plt.gca().spines[['top', 'right']].set_visible(False)\n",
        "  plt.tight_layout()\n",
        "  return autoviz.MplChart.from_current_mpl_state()\n",
        "\n",
        "chart = value_plot(_df_2, *['Balance'], **{})\n",
        "chart"
      ],
      "metadata": {
        "colab": {
          "base_uri": "https://localhost:8080/",
          "height": 211
        },
        "id": "IGjbXUCdNyvQ",
        "outputId": "57c7d9a9-fb19-422a-f670-8270d91ee111"
      },
      "execution_count": null,
      "outputs": [
        {
          "output_type": "execute_result",
          "data": {
            "text/html": [
              "<img src=\"data:image/png;base64,iVBORw0KGgoAAAANSUhEUgAAAxYAAAC+CAYAAACoGZm5AAAAOXRFWHRTb2Z0d2FyZQBNYXRwbG90\n",
              "bGliIHZlcnNpb24zLjcuMSwgaHR0cHM6Ly9tYXRwbG90bGliLm9yZy/bCgiHAAAACXBIWXMAAA9h\n",
              "AAAPYQGoP6dpAABDoklEQVR4nO3deVxVdf7H8Rc7boCo7Ki4gQuIaBKmqWmiYOUyZU3TmNU041ij\n",
              "mY3abk1p1mSbZbPlbP1Scyn3SDObJDMBQQV3TZALKrIq273n9wd6FZfrgnpZ3s/Hg8cjzvney+d+\n",
              "O1543/M9n+NgGIaBiIiIiIhIDTjauwAREREREan7FCxERERERKTGFCxERERERKTGFCxERERERKTG\n",
              "FCxERERERKTGFCxERERERKTGFCxERERERKTGFCxERERERKTGFCxERERERKTGFCxERMQu2rZty8MP\n",
              "P2zvMkRE5DpRsBARkcuaP38+Dg4O1b58fHwYOHAgq1evtnd5IiJSCzjbuwAREak7XnnlFUJCQjAM\n",
              "g5ycHObPn09cXBzLly9n+PDh9i5PRETsSMFCRESu2LBhw+jVq5f1+0cffRRfX1/+7//+T8FCRKSB\n",
              "01IoERG5Zl5eXjRq1Ahn57OfU7311lv06dOHFi1a0KhRI3r27Mnnn39+2efKy8tjypQphIeH07Rp\n",
              "Uzw8PBg2bBjbtm2rNm7Dhg04ODiwcOFCXnvtNYKCgnB3d2fQoEHs3bv3gufdvHkzcXFxNG/enCZN\n",
              "mhAREcG7775bbUxGRga/+MUv8Pb2xt3dnV69evHll19e46yIiDRMOmMhIiJXrKCggGPHjmEYBrm5\n",
              "ubz//vsUFxfzq1/9yjrm3Xff5e677+bBBx+kvLyczz77jHvvvZcVK1YQHx9/yefev38/y5Yt4957\n",
              "7yUkJIScnBw+/vhj+vfvz86dOwkICKg2ftasWTg6OjJlyhQKCgqYPXs2Dz74IJs3b7aOSUhIYPjw\n",
              "4fj7+zNx4kT8/PxIT09nxYoVTJw4EYAdO3Zw2223ERgYyLRp02jSpAkLFy5kxIgRLF68mJEjR17n\n",
              "WRQRqZ8cDMMw7F2EiIjUbvPnz2fcuHEXbHdzc+Pjjz9m7Nix1m2nTp2iUaNG1u8rKiqIiorCx8eH\n",
              "devWWbe3bduWAQMGMH/+fADKyspwcXHB0fHsyfSDBw8SFhbGc889xwsvvABUnbEYOHAgnTt3JiUl\n",
              "BVdXVwDee+89Jk6cSFpaGt26dcNsNtOxY0csFgspKSl4eXlZn9cwDBwcHAAYPHgwubm5bNmyBTc3\n",
              "N+v+vn37cvToUXbv3l3D2RMRaRi0FEpERK7Y3LlzSUhIICEhgf/85z8MHDiQxx57jCVLlljHnBsq\n",
              "Tpw4QUFBAf369SMpKcnmc7u5uVlDhdls5vjx4zRt2pTQ0NCLPnbcuHHWUAHQr18/oOrMB0BycjIH\n",
              "Dhxg0qRJ1UIFYA0VeXl5rF+/nvvuu4+ioiKOHTvGsWPHOH78OLGxsezZs4esrKyrmCERkYZLS6FE\n",
              "ROSK9e7du9rF2w888AA9evTgiSeeYPjw4bi6urJixQr+9Kc/kZKSQllZmXXsmT/mL8VisfDuu+/y\n",
              "4YcfcuDAAcxms3VfixYtLhjfunXrat83b94cqAozAPv27QOgW7dul/yZe/fuxTAMXnjhBesZkfPl\n",
              "5uYSGBhos3YREVGwEBGRGnB0dGTgwIG8++677Nmzh7y8PO6++25uv/12PvzwQ/z9/XFxceGTTz7h\n",
              "008/tflcr7/+Oi+88AKPPPIIr776Kt7e3jg6OjJp0iQsFssF452cnC76PFezwvfM806ZMoXY2NiL\n",
              "junQocMVP5+ISEOmYCEiIjVSWVkJQHFxMYsXL8bd3Z21a9dar1cA+OSTTy77PJ9//jkDBw7k73//\n",
              "e7Xt+fn5tGzZ8qrrat++PQDbt29n8ODBFx3Trl07AFxcXC45RkREroyusRARkWtWUVHBV199haur\n",
              "K507d8bJyQkHB4dqy5gOHjzIsmXLLvtcTk5OF5xtWLRo0TVf4xAVFUVISAjvvPMO+fn51fad+Tk+\n",
              "Pj4MGDCAjz/+mOzs7Aue4+jRo9f0s0VEGiKdsRARkSu2evVqMjIygKprDz799FP27NnDtGnT8PDw\n",
              "ID4+nrfffpuhQ4fyy1/+ktzcXObOnUuHDh1ITU21+dzDhw/nlVdeYdy4cfTp04e0tDT++9//Ws8q\n",
              "XC1HR0c++ugj7rrrLiIjIxk3bhz+/v5kZGSwY8cO1q5dC1RdkN63b1/Cw8P5zW9+Q7t27cjJySEx\n",
              "MZHMzMwL7qMhIiIXp2AhIiJX7MUXX7T+t7u7O2FhYXz00Uf89re/BeCOO+7g73//O7NmzWLSpEmE\n",
              "hITwxhtvcPDgwcsGi2effZaSkhI+/fRTFixYQFRUFCtXrmTatGnXXG9sbCzffPMNM2bM4M9//jMW\n",
              "i4X27dvzm9/8xjqmS5cu/PTTT8yYMYP58+dz/PhxfHx86NGjR7XXKyIituk+FiIiIiIiUmO6xkJE\n",
              "RERERGpMwUJERERERGpMwUJERERERGpMwUJERERERGpMwUJERERERGpMwUJERERERGpMwcIGwzAo\n",
              "LCy84E6wIiIiIiJSnYKFDUVFRXh6elJUVGTvUkREREREajUFCxERERERqTEFCxERERERqTEFCxER\n",
              "ERERqTEFCxERqbXUPENEpO5wtncBIiIi5zJbDH46mMfKtGxWbzdhsRhMHRbGvT2DcHBwsHd5IiJy\n",
              "CQ6GPg66pMLCQjw9PSkoKMDDw8Pe5YiI1Ftmi8GWg3msOh0mjhaVXTBmaFc/Xh8VjncTVztUKCIi\n",
              "l6NgYYOChYjIjWMrTHi4OzOkqx/x4f6kmwqZk7CbCrNBq2ZuvHVvd/p3amXHykVE5GKu+hqLjRs3\n",
              "ctdddxEQEICDgwPLli2rtv/hhx/GwcGh2tfQoUOrjcnLy+PBBx/Ew8MDLy8vHn30UYqLi6uNSU1N\n",
              "pV+/fri7uxMcHMzs2bMvqGXRokWEhYXh7u5OeHg4q1atqrbfMAxefPFF/P39adSoEYMHD2bPnj1X\n",
              "+5JFROQ6MVsMfth/nBeWbefWmeu4/y8/8K/EQxwtKsPD3Zl7ewbxybhb+On5O3nr3u4MDPPh9wM6\n",
              "sPT3t9HBpylHi8oY+48feemL7ZwqN9v75YiIyDmu+hqLkpISunfvziOPPMKoUaMuOmbo0KF88skn\n",
              "1u/d3Nyq7X/wwQfJzs4mISGBiooKxo0bx+OPP86nn34KVJ0pGDJkCIMHD2bevHmkpaXxyCOP4OXl\n",
              "xeOPPw7Apk2beOCBB5g5cybDhw/n008/ZcSIESQlJdGtWzcAZs+ezXvvvcc///lPQkJCeOGFF4iN\n",
              "jWXnzp24u7tf7UsXEZFrYLYY/Hjg7JmJY8Vnz0x4NnJhSBdf4iL8ua19S1ydL/55V7dAT1Y82ZdZ\n",
              "qzOYv+kg/0w8xP/2HuPd+3vQLdDzZr0UERGxoUZLoRwcHFi6dCkjRoywbnv44YfJz8+/4EzGGenp\n",
              "6XTp0oUtW7bQq1cvANasWUNcXByZmZkEBATw0Ucf8dxzz2EymXB1rVpLO23aNJYtW0ZGRgYAY8aM\n",
              "oaSkhBUrVlif+9ZbbyUyMpJ58+ZhGAYBAQE8/fTTTJkyBYCCggJ8fX2ZP38+999//2Vfn5ZCiYhc\n",
              "mysJE/ER/vSxESYu5dvdR3lm0TZyi8pwdnTgqTs78bv+7XFy1IXdIiL2dEPazW7YsAEfHx9CQ0MZ\n",
              "P348x48ft+5LTEzEy8vLGioABg8ejKOjI5s3b7aOuf32262hAiA2NpZdu3Zx4sQJ65jBgwdX+7mx\n",
              "sbEkJiYCcODAAUwmU7Uxnp6eREdHW8eIiMj1Y7YYJO47zvPL0oh+fR0P/PUH/v3DIY4Vl+HZyIX7\n",
              "egUxf9wtbHluMG/e250BoT5XHSoA+ndqxdpJtzO0qx+VFoM31+7i/r8kcjjv5A14VSIicqWue7vZ\n",
              "oUOHMmrUKEJCQti3bx/PPvssw4YNIzExEScnJ0wmEz4+PtWLcHbG29sbk8kEgMlkIiQkpNoYX19f\n",
              "677mzZtjMpms284dc+5znPu4i405X1lZGWVlZz9VKywsvNqXLyLSoJgtBpsPHGdVWjZrtudccGYi\n",
              "tqsvceH+3NahJS5O1++zrOZNXPnoV1F8vjWTGct3suXgCYa9+x0v392V0VGBaksrImIH1z1YnLvE\n",
              "KDw8nIiICNq3b8+GDRsYNGjQ9f5x19XMmTOZMWOGvcsQEanVzoSJlanZrN1h4lhxuXXfmTARHxFA\n",
              "n/YtrmuYOJ+DgwP39grm1nYteGpBCj8dOsGURdtYl57D6yPDaa62tCIiN9UNv0Feu3btaNmyJXv3\n",
              "7mXQoEH4+fmRm5tbbUxlZSV5eXn4+fkB4OfnR05OTrUxZ76/3Jhz95/Z5u/vX21MZGTkRWudPn06\n",
              "kydPtn5fWFhIcHDw1b5kEZF6p9Js4ccDVTetOz9MeDV2IbaLH3ER/jc8TFxMsHdjFvw2hnnf7mNO\n",
              "wm5Wbzex9dAJ3rq3O7erLa2IyE1zw4NFZmYmx48ft/5xHxMTQ35+Plu3bqVnz54ArF+/HovFQnR0\n",
              "tHXMc889R0VFBS4uLgAkJCQQGhpK8+bNrWPWrVvHpEmTrD8rISGBmJgYAEJCQvDz82PdunXWIFFY\n",
              "WMjmzZsZP378RWt1c3O7oIOViEhDdW6YWLPdxPGSC8NEfIQ/MXYIE+dzcnRgwsAO3N6xFZMWJLPv\n",
              "aAm//sePPNynLdOGheHu4mTX+kREGoKr7gpVXFzM3r17AejRowdvv/02AwcOxNvbG29vb2bMmMHo\n",
              "0aPx8/Nj3759/PGPf6SoqIi0tDTrH+3Dhg0jJyeHefPmWdvN9urVy9putqCggNDQUIYMGcLUqVPZ\n",
              "vn07jzzyCHPmzKnWbrZ///7MmjWL+Ph4PvvsM15//fVq7WbfeOMNZs2aVa3dbGpq6hW3m1VXKBFp\n",
              "aM6EiRVp2ay9SJgY2tWPuPDaESYu5VS5mZmr0/lX4iEAOvg05Z0xkWpLKyJyg111sNiwYQMDBw68\n",
              "YPvYsWP56KOPGDFiBMnJyeTn5xMQEMCQIUN49dVXq11EnZeXxxNPPMHy5ctxdHRk9OjRvPfeezRt\n",
              "2tQ6JjU1lQkTJrBlyxZatmzJk08+ydSpU6v9zEWLFvH8889z8OBBOnbsyOzZs4mLi7PuNwyDl156\n",
              "ib/85S/k5+fTt29fPvzwQzp16nRFr1XBQkQagkqzhc1nljmdFyaaN3Yhtg6EiYvZsCuXZz5P5WhR\n",
              "GS5ODky+M5THb2+ntrQiIjdIje5jUd8pWIhIfXUlYSI+wp9b29WtMHG+vJJypi9JZe2Oqmvyerf1\n",
              "5s/3dSfYu7GdKxMRqX8ULGxQsBCR+qTSbOGH/VVh4qsdF4aJod2qzkzU9TBxPsMwWLQ1kxlf7qCk\n",
              "3ExTN2deuacrI3uoLa2IyPWkYGGDgoWI1HXnhom1O0zkNZAwcTE/Hz/JUwtT2Hqo6kar8eH+vDay\n",
              "G16N1ZZWROR6ULCwQcFCROqis2HiCGt35FQLE95NXKvuMxEewK3tvHGu52HifJVmC/O+3cc7X++h\n",
              "0mLg6+HGW/d2p19HtaUVEakpBQsbFCxEpK6oNFtI3F91B+yLhwk/4sP9G2SYuJjUzHwmLUhh/9ES\n",
              "AMbd1papQ9WWVkSkJhQsbFCwEJHa7NwwsWa7iRMnK6z7zoSJ4RH+RIcoTFzMqXIzr69K598/VLWl\n",
              "7ejTlHfuj6RrgNrSiohcCwULGxQsRKS2ORMmVqZWXTNxfpgY2q3qzITCxJX7JqOqLe2x4qq2tE8P\n",
              "CeU3/dSWVkTkailY2KBgISK1QYXZQuK+M8ucqoeJFk1ciVWYqLHjxWVMX5LGVztPt6UN8ebt+7oT\n",
              "1FxtaUVErpSChQ0KFiJiL2fCxMrUbL7aefEwMTzcn94KE9eNYRgs/OkwM5bv5GS5mWZuzrwyoisj\n",
              "ItWWVkTkSihY2KBgISI3U4XZwqZ9x1mVms3anSbyzwsTZ5Y5KUzcWIeOl/DUghSSfs4HYHiEP6+N\n",
              "CMezsYt9CxMRqeUULGxQsBCRG81WmGjZ9Gw3J4WJm6vSbOHDDft4d90ezBYDPw93/nxfd27r0NLe\n",
              "pYlIA3OyvJKi0kp8PdztXcplKVjYoGAhIjfCmTCxMvUIX+3MuSBMnLlpXXRIC11AbGfbDufz1IIU\n",
              "9h+rakv7aN8QnokNVVtaEbnhKs0WFm3N5O2E3XQN8GD+uN72LumyFCxsULAQkeulwmzh+73HWJWW\n",
              "rTBRx5wsr+S1len8d/PPAIT6NmPOmEi6BOj3gohcf4Zh8M2uXGatzmB3TjEAwd6N+HJCX5o3cbVz\n",
              "dbYpWNigYCEiNXFumFi7I4eCUxeGifjwAHqHeCtM1AHrM3L44+epHCsux9XJkSmxnXisbzsc9f9O\n",
              "RK6T7VkFvLYyncT9xwHwauzCk3d05Fe3tsbNufafKVWwsEHBQkSu1pkwUdXN6fww4caw02cmFCbq\n",
              "puPFZUxbkkbC6ba0t7bz5s/3RRLo1cjOlYlIXZZ54iRvrd3FspQjALg6OTLutrb8fkCHOtU4QsHC\n",
              "BgULEbkS5ZUWvt93jFUKEw2CYRgs2HKYV1acbkvr7syfRnTjnshAe5cmInVMwakKPvxmL59sOkh5\n",
              "pQWAeyIDmDIklGDvuncfHQULGxQsRORSzoSJlanZfLXDRGFppXXfmTARH+HPLW0VJuqrg8dKmLQg\n",
              "hZTD+QDc1T2AP93TrU59uigi9lFeaeHfPxzi/fV7rNfc3drOm2fjOhMR5GXf4mpAwcIGBQsROVd5\n",
              "5ellTmkXholWzc6emVCYaDgqzRbmfrOP99ZXtaX193Tnz/d2p4/a0orIRRiGwcq0bGav2cXPeScB\n",
              "6OjTlOlxYQwM9anzN+NUsLBBwUJEriRMxIf700thokFL/vkEkxdu48DptrSP9Q1hitrSisg5thzM\n",
              "47WV6daznK2auTH5zk7c2zOo3tynSMHCBgULkYbpTJhYkZpNws4Lw0Tc6TMTChNyrpPllfxpZTqf\n",
              "nm5LG+ZX1Za2s79+f4g0ZPuPFjNrdQZfnW760NjVicdvb8dv+rWjiZuznau7vhQsbFCwEGk4yist\n",
              "/G/vUVammi4IEz7nLHNSmJDL+XpnDlMXp3K8pKot7TOxoTzaN0RtaUUamGPFZbz79R4+/fFnzBYD\n",
              "RwcYc0trnhrcEZ86cBfta6FgYYOChUj9dm6Y+GqniaKLhIn4iAB6tmmuMCFX5VhxGdMWp/J1ei4A\n",
              "Me1a8Of7uhOgtrQi9d6pcjN//99+5n27n+Kyqt8rg8J8mDosjE6+zexc3Y2lYGGDgoVI/VNWaeZ/\n",
              "e6qumUjYmXNBmIgL9686M9GmuT5hlhoxDIPPthzmleU7OVVhxsPdmVfVllak3jJbDBYnZfL2V7sx\n",
              "FZYCEB7oyfS4MPq0bxgNHRQsbFCwEKkfFCbEng4cK+Gpc9rS3t09gFdHdMOzkdrSitQX3+4+ysxV\n",
              "6WSYigAI9GrEH4eGcldEQIP6vaJgYYOChUjdZQ0TqdkkpFcPE74ebgzr5k98hD89WytMyI1Xabbw\n",
              "wTd7eX/9XswWgwBPd966r3uD+RRTpL7aeaSQmavT+W7PMQA83J154o4O/DqmbYPsCqdgYYOChUjd\n",
              "UlZp5rvdx1h15sxEmcKE1C7JP5/gqQUpHDx+EgeHs21p3Zwb3h8gInVZdsEp3lq7myXJmRgGuDg5\n",
              "8OuYtjwxsAPNm7jauzy7ueqmuRs3buSuu+4iICAABwcHli1bVm2/YRi8+OKL+Pv706hRIwYPHsye\n",
              "PXuqjcnLy+PBBx/Ew8MDLy8vHn30UYqLi6uNSU1NpV+/fri7uxMcHMzs2bMvqGXRokWEhYXh7u5O\n",
              "eHg4q1atuupaRKRuK6s08/XOHCYvSKHXq1/z2L9+YklyFkVllfh6uPFwn7Z8/rsYEqcN4uW7u3JL\n",
              "W2+FCrGbHq2bs/IP/XigdzCGAX/97gD3fPA9GaZCe5cmIlegqLSC2WsyGPDmBhYnVYWK4RH+rJs8\n",
              "gBeGd2nQoQKuIViUlJTQvXt35s6de9H9s2fP5r333mPevHls3ryZJk2aEBsbS2lpqXXMgw8+yI4d\n",
              "O0hISGDFihVs3LiRxx9/3Lq/sLCQIUOG0KZNG7Zu3cqbb77Jyy+/zF/+8hfrmE2bNvHAAw/w6KOP\n",
              "kpyczIgRIxgxYgTbt2+/qlpEpO45EyaeukSYGHdb9TDRS2FCapEmbs7MHBXBX3/dixZNXMkwFXH3\n",
              "+9/zt+/2Y7FoEYFIbVRhtvDPTQfp/+YGPtywj7JKC73berP093344JdRtG7R2N4l1go1Wgrl4ODA\n",
              "0qVLGTFiBFB1hiAgIICnn36aKVOmAFBQUICvry/z58/n/vvvJz09nS5durBlyxZ69eoFwJo1a4iL\n",
              "iyMzM5OAgAA++ugjnnvuOUwmE66uVclv2rRpLFu2jIyMDADGjBlDSUkJK1assNZz6623EhkZybx5\n",
              "866olsvRUiiR2qO0wsx3e6qWOX193jInPw93hoVX3QE7SsucpA45WlTG1MWprM+oakvbp31VW1p/\n",
              "T7WlFakNDMNg7Q4Tb6zZxYFjJQC0a9WEaUPDuLOLLw4O+n1zrut6u78DBw5gMpkYPHiwdZunpyfR\n",
              "0dEkJiZy//33k5iYiJeXlzVUAAwePBhHR0c2b97MyJEjSUxM5Pbbb7eGCoDY2FjeeOMNTpw4QfPm\n",
              "zUlMTGTy5MnVfn5sbKx1adaV1HK+srIyysrKrN8XFurUtIg9nQkTK1OP8HV6rrUfOJwNE8Mj/OkR\n",
              "rDAhdVOrZm78fWwvPv3xZ/60Ip1N+44TO2cjfxoZzt3dA+xdnkiDtvXQCWauSuenQycAaNnUlYmD\n",
              "O3H/LcG4OF31op8G4boGC5PJBICvr2+17b6+vtZ9JpMJHx+f6kU4O+Pt7V1tTEhIyAXPcWZf8+bN\n",
              "MZlMl/05l6vlfDNnzmTGjBlX9mJF5IYorTCzcffRqjMTFwkTceH+xEf4KUxIveHg4MCD0W2IadeC\n",
              "pxaksC2zgD/8XzLr03OYcY/a0orcbAePlTB7bQar0qr+XnR3ceQ3/drx2/7taep2Xf90rnc0O+eY\n",
              "Pn16tbMghYWFBAcH27EikYbBVpjw93Q/3c1JYULqt3atmvL5+D68v34vH6zfw7KUI/x4II8/3xdJ\n",
              "TPsW9i5PpN7LKynnvXV7+O/mQ1SYDRwc4N6eQUy+MxQ/T3d7l1cnXNdg4efnB0BOTg7+/v7W7Tk5\n",
              "OURGRlrH5ObmVntcZWUleXl51sf7+fmRk5NTbcyZ7y835tz9l6vlfG5ubri5uV3x6xWRa3cmTKxM\n",
              "y2bdRcLEmZvW9Qj2UpiQBsPFyZHJd3aif6dWTF6YwqHjJ/nl337g8X7tmDykk9rSitwApRVmPvn+\n",
              "IB9u2Gu951H/Tq2YHhdGmJ+usb0a1zVYhISE4Ofnx7p166x/vBcWFrJ582bGjx8PQExMDPn5+Wzd\n",
              "upWePXsCsH79eiwWC9HR0dYxzz33HBUVFbi4VJ0CTkhIIDQ0lObNm1vHrFu3jkmTJll/fkJCAjEx\n",
              "MVdci4jcXKUVZr49fWbi/DAR4OnOMIUJEQB6tmnOqj/049UVO/lsy2E+3rifjXuO8c6YSEL9mtm7\n",
              "PJF6wWIxWJaSxVtrd3GkoKpjaBd/D56N60zfjrp55bW46q5QxcXF7N27F4AePXrw9ttvM3DgQLy9\n",
              "vWndujVvvPEGs2bN4p///CchISG88MILpKamsnPnTtzdq04jDRs2jJycHObNm0dFRQXjxo2jV69e\n",
              "fPrpp0BV96bQ0FCGDBnC1KlT2b59O4888ghz5syxtqXdtGkT/fv3Z9asWcTHx/PZZ5/x+uuvk5SU\n",
              "RLdu3QCuqBZb1BVKpObODRNf78yhpNxs3XcmTMRH+BMZpDAhcjFf7TAxbUkaeSXluDo7MnVoGOP6\n",
              "tNW/F5Ea+H7vMV5flc6OI1WNevw93ZkyJJSRPQL1b6sGrjpYbNiwgYEDB16wfezYscyfPx/DMHjp\n",
              "pZf4y1/+Qn5+Pn379uXDDz+kU6dO1rF5eXk88cQTLF++HEdHR0aPHs17771H06ZNrWNSU1OZMGEC\n",
              "W7ZsoWXLljz55JNMnTq12s9ctGgRzz//PAcPHqRjx47Mnj2buLg46/4rqcUWBQuRa3MmTKxMzWZd\n",
              "+oVhIi7cnziFCZErlltUytTPU/lm11EAbuvQgrfuVVtakau1y1TEzNXpbDj9b6mZmzPjB7bnkdtC\n",
              "cHfRUsOaqtF9LOo7BQuRK1daYWbDrjPLnBQmRK43wzD47+af+dPKnZRWWPBs5MJrI7sxPEJtaUUu\n",
              "J6ewlLe/2s2irYexGODs6MCvbm3Dk3d0oEVTXV97vShY2KBgIWLbmTCxMi2b9eeFiUCvRgzr5le1\n",
              "zCnYSzcRErlO9h0t5qkFKaRmFgAwskcgM+7pioe72tKKnK+4rJK/fLuPv353gFMVVb+jhnXz449D\n",
              "wwhp2cTO1dU/ChY2KFiIXKgqTOSyMs100TARF+5HXLjChMiNVGG28N66Pcz9Zi8Wo+rf3tv3dSe6\n",
              "ndrSigBUmi18tuUw73y9h2PFVTc/jmrtxXPxnenZxtvO1dVfChY2KFiIVDk3TKxLz+HkRcJEfEQA\n",
              "3YM8FSZEbqKth/J4asE2fs47iYMDPH57Oybfqba00nAZhsHX6bnMWp3OvqMlALRt0ZipQ8MY2s1P\n",
              "v6NuMAULGxQspCGrMFvYsOsoX247ctEwER9R1RpWYULEvorLKnll+Q4W/pQJVLXLfOf+SDr5qi2t\n",
              "NCzbDufz2qp0fjyQB0Dzxi5MHNSRX0a3wdXZ0c7VNQwKFjYoWEhDYxgG27MKWZyUyZfbjpBXUm7d\n",
              "pzAhUrut3WFi2uJUTpyswNXZkWlDw3hYbWmlATicd5LZa3exfNsRANycHXmkbwjjB7TXtUc3mYKF\n",
              "DQoW0lBkF5xiWfIRliRlsie32Lq9VTM37ukewPDuWuYkUhfkFpbyzOepfLu7qpVmv44tefMX3fHz\n",
              "vPy9m0TqmvyT5Xywfi//SjxEudmCg0NVM4MpQ0IJ8FIrZntQsLBBwULqs5PllazZbmJJUhbf7zvG\n",
              "mXcCN2dHhnT1Y3RUIH07tMTZSaePReoSwzD4zw+HeG1VurUt7cxR4cSF+9u7NJHroqzSzL82HeKD\n",
              "b/ZScKoCgL4dWjI9LoyuAZ52rq5hU7CwQcFC6huLxeCH/cdZnJTF6u3Z1a6b6B3izeioQIaF++vU\n",
              "sUg9sDe3qi1tWlZVW9pRUYG8fLfa0krdZbEYLE89wptrd5F54hQAob7NmB4XRv9OrXRWvRZQsLBB\n",
              "wULqi725xSxJymRZchZHCkqt29u2aMyoqCBG9ggk2LuxHSsUkRuhvLKqLe2HG862pZ0zJpLeIWq3\n",
              "KXXLD/uP8/qqdOv9W3w93Hj6zlBG9wzCSdcR1RoKFjYoWEhddqKknOWpR1iclMW2w/nW7R7uztzV\n",
              "PYBRUUFEtda9JkQagp8O5vHUwhQO553CwQF+1789Tw3upE45UuvtzS1i1uoMvk7PBaCJqxO/69+e\n",
              "R/uF0NjV2c7VyfkULGxQsJC6przSwvqMXJYkZfLNrlwqzFX/vJ0dHRgQ2opRUUHcEeaDu4t63Is0\n",
              "NEWlFbyyfCeLtla1pe0a4ME7YyLpqLa0UgvlFpXyztd7WLDlMGaLgZOjAw/0DmbioE60auZm7/Lk\n",
              "EhQsbFCwkLrAMAxSDuezJCmL5alHyD9ZYd0XHujJqKhA7uoeQMumeiMWEVizPZvpS9I4cbICN2dH\n",
              "pg8LY2yftjp7KbXCyfJK/rrxAB9v3Ge9DvDOLr5MHRpGB5+mdq5OLkfBwgYFC6nNsvJPsSw5i8VJ\n",
              "mew/fXdRqFp3OqJHIKN6BBHqp08iReRCuYWlTPk8lY3ntKV9697u+HqoLa3Yh9lisOinw7ydsJvc\n",
              "ojIAugd78VxcZ10TVIcoWNigYCG1TXFZJavTslmSlEXi/uPW7Y1cnBjazY9RUYH0ad9SF7KJyGUZ\n",
              "hsG/Eg/x+qp0yioteDV2YebIcIapLa3cRIZhsGHXUWauTmd3TtV9lIK9G/HH2DCGR/jrTFodo2Bh\n",
              "g4KF1AZmi8GmfcdYvDWTNTtMlFZYrPti2rVg1OkWsU3ddBGbiFy9vblFTFqQwvasQgBGRwXx8t1d\n",
              "aKa2tHKDbc8q4PVV6WzaV/VBmWcjF568owMPxbTBzVnXAtZFChY2KFiIPe3OKWLx6RaxOYVl1u3t\n",
              "WjZhdM8g7okMIKi5WsSKSM2VV1p45+vdzPt2HxYDgppXtaW9pa2WoMj1l3niJH/+ajdLk7MAcHVy\n",
              "5OHb2jJhQAc8GyvQ1mUKFjYoWMjNdqy4jC9TjrAkOdP66SGAV2MX7ooIYHTPILoHeerUsIjcEFsO\n",
              "5vHUghQyT5zC0QHGD2jPxEFqSyvXR8GpCj7csJdPvj9IeWXV2fd7IgOYMiRU91KqJxQsbFCwkJuh\n",
              "tMJsbRG7YddRKi1V/yRdnBwYGOrDqKggBoa10mlhEbkpikorePnLnSxOqmpL2y2wqi1tBx81g5Br\n",
              "U15p4T8/HOL99Xs4cbpz4a3tvHk2rjMRQV72LU6uKwULGxQs5EYxDIOkn0+wOCmLFduOUFhaad3X\n",
              "PdiL0VGBDI8IwLuJqx2rFJGGbHVaNtOXppF/ui3tc/GdeejWNjpjKlfMMAxWpZmYvTaDQ8dPAtDB\n",
              "pynPxoUxMNRHx1I9pGBhg4KFXG+H806yNDmLJUmZHDz9JgsQ4OnOyKhARvYIUp9uEak1cgpLmbJo\n",
              "G9/tOQZA/06tePMXEfioLa1cxk8H83htVTrJP+cD0LKpG5Pv7MR9vYJwdtLSuvpKwcIGBQu5HgpL\n",
              "K1idls3ipCx+PJBn3d7Y1Ylh3fwZHRXIre1a4KgWsSJSC1ksBv9KPMjM1RmUVVpo3tiFmaPCGdpN\n",
              "bWnlQvuPFvPGmgzW7sgBqtqhP357Ox6/vR1N1L2w3lOwsEHBQq5VpdnCd3uPsSQpi692mCg7fZGa\n",
              "gwP07dCSUVGBxHb1o7Gr3mRFpG7Yk1PExM9S2Jld1Vji3p5BvHR3V7W6FgCOF5fx7ro9fLr5Zyot\n",
              "Bo4OMOaWYJ4a3ElnuBoQBQsbFCzkaqVnF7IkKZNlKUc4WnS2RWwHn6aMjgpiRI8A/D0b2bFCEZFr\n",
              "V15pYc7ptrSGUXUjszn3RdJLbWkbrFPlZv7x/QE+2rCP4rKq6wUHhfkwdVgYnXx1wX9Do2Bhg4KF\n",
              "XIncolK+TDnC4qQs0rPPtoj1buLK3d0DGB0VRLdAD12kJiL1xub9x5m8cBtZ+VVtaX8/oAMTB3fE\n",
              "RWvnGwyzxWBJUiZ//mo3psJSAMIDPZkeF0af9i3tXJ3Yy3V/B3j55ZdxcHCo9hUWFmbdX1payoQJ\n",
              "E2jRogVNmzZl9OjR5OTkVHuOn3/+mfj4eBo3boyPjw/PPPMMlZWV1cZs2LCBqKgo3Nzc6NChA/Pn\n",
              "z7+glrlz59K2bVvc3d2Jjo7mxx9/vN4vVxqo0gozy7cd4eFPfiRm5nr+tDKd9OxCXJ0cGdbNj7/+\n",
              "uhebnx3Ey3d3JVz3nRCReia6XQtWT+rHqKhALAZ88M1eRn24ib25xfYuTW6CjbuPEv/edzzzeSqm\n",
              "wlICvRrx7v2RfDHhNoWKBu6GLIzs2rUrX3/99dkf4nz2xzz11FOsXLmSRYsW4enpyRNPPMGoUaP4\n",
              "/vvvATCbzcTHx+Pn58emTZvIzs7m17/+NS4uLrz++usAHDhwgPj4eH73u9/x3//+l3Xr1vHYY4/h\n",
              "7+9PbGwsAAsWLGDy5MnMmzeP6Oho3nnnHWJjY9m1axc+Pj434mVLPWcYBlsOnmBJUiYrU7MpKjsb\n",
              "dqNaezEqKojhEf54NVaLWBGp/zzcXXj7vkgGhfny7NI00rIKGP7+dzwX15lfqS1tvbTzSCEzV6db\n",
              "u4Q1c3fmiYEdGNunLe4uuteS3IClUC+//DLLli0jJSXlgn0FBQW0atWKTz/9lF/84hcAZGRk0Llz\n",
              "ZxITE7n11ltZvXo1w4cP58iRI/j6+gIwb948pk6dytGjR3F1dWXq1KmsXLmS7du3W5/7/vvvJz8/\n",
              "nzVr1gAQHR3NLbfcwgcffACAxWIhODiYJ598kmnTpl3Ra9FSKAE4dLyExUlZLE3O5HDeKev2QK9G\n",
              "jI4KZGRUECEtm9ixQhER+zIVlPLM52fb0g4IbcXsX0Tg00wX7dYH2QWneGvtbpYkZ2IYVTdwfejW\n",
              "tjx5Rwea635Lco4bcsZiz549BAQE4O7uTkxMDDNnzqR169Zs3bqViooKBg8ebB0bFhZG69atrcEi\n",
              "MTGR8PBwa6gAiI2NZfz48ezYsYMePXqQmJhY7TnOjJk0aRIA5eXlbN26lenTp1v3Ozo6MnjwYBIT\n",
              "Ey9Zd1lZGWVlZy+4LSwsvORYqd8KTlWwMjWbJUmZ/HTohHV7Uzdn4sL9GB0VxC1tvdUiVkQE8PN0\n",
              "55/jejN/00Fmrclgw66jxM7ZyMxREQzt5mfv8uQaFZVWMO/bffztuwPW7obDI/z5Y2wYrVs0tnN1\n",
              "Uhtd92ARHR3N/PnzCQ0NJTs7mxkzZtCvXz+2b9+OyWTC1dUVLy+vao/x9fXFZDIBYDKZqoWKM/vP\n",
              "7LM1prCwkFOnTnHixAnMZvNFx2RkZFyy9pkzZzJjxoxret1S91WYLWzcfZQlSVkkpOdQfvpN1NEB\n",
              "+nVsxaioQIZ08aORq073ioicz9HRgUf6htC3Y0smnW5L+7v/bGVMr2BeuKuL2tLWIRVmC//348+8\n",
              "+/UejpeUA9C7rTfT48Lo0bq5nauT2uy6/ysfNmyY9b8jIiKIjo6mTZs2LFy4kEaNanebzenTpzN5\n",
              "8mTr94WFhQQHB9uxIrnRDMNgx5FCFidl8mXKEesbKECYXzNGRwVxT2SAenCLiFyhTr7NWDqhD3MS\n",
              "9vDxxn0s+OkwifuPM2dMJD3b6I/S2swwDNbuyGH2mgz2HysBoF2rJkwbGsadXXx13Yxc1g3/+MDL\n",
              "y4tOnTqxd+9e7rzzTsrLy8nPz6921iInJwc/v6pTpX5+fhd0bzrTNercMed3ksrJycHDw4NGjRrh\n",
              "5OSEk5PTRceceY6LcXNzw83N7Zpfq9QdOYWlLEvOYklSFrtyiqzbWzZ15Z7IQEZFBdLFXy1iRUSu\n",
              "hZuzE9OGhTEgtBVPL9zGz3knuXfeJp4Y2IEnB6ktbW2U9PMJXl+Zbl3+26KJK5Pu7MT9twTr/5dc\n",
              "sRt+pBQXF7Nv3z78/f3p2bMnLi4urFu3zrp/165d/Pzzz8TExAAQExNDWloaubm51jEJCQl4eHjQ\n",
              "pUsX65hzn+PMmDPP4erqSs+ePauNsVgsrFu3zjpGGp6T5ZUsS87iob9vJmbmOmauzmBXThGuzo4M\n",
              "j/Dnk4dv4Yfpg3hheBe6BqhFrIhITd16pi1tj6q2tO+t38svPtrEvqNqS1tbHDxWwu//u5VRH27i\n",
              "p0MncHdx5ImBHdjwzAAeurWNQoVcleveFWrKlCncddddtGnThiNHjvDSSy+RkpLCzp07adWqFePH\n",
              "j2fVqlXMnz8fDw8PnnzySQA2bdoEVLWbjYyMJCAggNmzZ2MymXjooYd47LHHqrWb7datGxMmTOCR\n",
              "Rx5h/fr1/OEPf2DlypXV2s2OHTuWjz/+mN69e/POO++wcOFCMjIyLrj24lLUFarus1gMNh/IY0lS\n",
              "JqvSsikpN1v33dK2OaOigogL98ezkYsdqxQRqf+WbzvCc0vTKCytxN3Fkefiu/Cr6Nb6EMdOTpSU\n",
              "8976Pfznh0NUmA0cHODenkFMvjMUP08t/5Vrc92XQmVmZvLAAw9w/PhxWrVqRd++ffnhhx9o1aoV\n",
              "AHPmzMHR0ZHRo0dTVlZGbGwsH374ofXxTk5OrFixgvHjxxMTE0OTJk0YO3Ysr7zyinVMSEgIK1eu\n",
              "5KmnnuLdd98lKCiIv/3tb9ZQATBmzBiOHj3Kiy++iMlkIjIykjVr1lxxqJC6bd/RYpYmZbE0OYus\n",
              "/LMtYlt7N2ZUVCAjewTSpoVaxIqI3Cx3dQ+gV9vmTFm0je/3HueFZdv5JiOXN0ZH0KqZliHfLKUV\n",
              "ZuZvOsjcb/ZSVFp1P6b+nVoxPS6MMD99iCo1c93PWNQnOmNRt+SfLGd5ajaLt2aScjjfur2ZuzPD\n",
              "IwIYHRVIzzbN9emYiIgdWSwGn2w6yBtrMiivtODdxJVZo8IZ0lVtaW8ki8Xgi21ZvLV2t/UDty7+\n",
              "Hjwb15m+HXW3bLk+FCxsULCo/corLWzYlcuSpCzWZeRQYa46nJ0cHejfqapF7ODOvrojqIhILbPL\n",
              "VMTEz5LJMFU10Lj/lmBeGN6FJmpLe91t2nuM11ensz2r6v5c/p7uTBkSysgegbofk1xXChY2KFjU\n",
              "ToZhkJZVwOKtmXy57QgnTlZY93UN8GBUVBB3dw/QqXURkVqurNLM21/t5i/f7ccwoE2Lxrx9n9rS\n",
              "Xi+7TEXMXJ3Ohl1HgaqbvI4f0J5H+4boAze5IRQsbFCwqF2O5J9iWUpVi9i9uWc7irRq5sbIHlUt\n",
              "YrU+VESk7kncd5ynF6ZwpKAURwd44o6OPHlHB3UkukY5haW8/dVuFm09jMUAZ0cHfnVrG568owMt\n",
              "mupDN7lxFCxsULCwv5KyStZsN7EkOZNN+45z5mh1d3Ektqsfo6KCuK19C5z1y0dEpE4rOFXBS19s\n",
              "Z1nKEQC6B3kyZ0wk7Vo1tXNldUdJWSUfb9zPXzfu51RFVRfEYd38+OPQMEJaqmGJ3HgKFjYoWNiH\n",
              "2WKQuO84S5IyWb3dZH1zBIgO8WZ0zyCGdfOjmbtaxIqI1DdfbjvC86fb0jZyceL54Z35ZW+1pbWl\n",
              "0mxhwU+HmZOwh2PFZQBEtfbiufjO9GzjbefqpCFRsLBBweLm2ptbxOKkLJYlZ5FdUGrdHtKyCaN6\n",
              "BDKiRyDB3o3tWKGIiNwMR/JPMWXRNjbtOw7AoDAfZqkt7QUMw2Bdei6z1mRYlwi3bdGYqUPDGNrN\n",
              "T2FMbjoFCxsULG6848VlLN92hCXJWaRmFli3ezZy4a7u/oyKCqJHsJfeHEVEGhiLxeAf3x9g9ppd\n",
              "lJsttGjiyhujIxjcRfejAth2OJ/XV6Wz+UAeAM0buzBxUEd+Gd0GV2ctDxb7ULCwQcHixiirNPNN\n",
              "Ri6Lk7L4JiOXSkvVIejs6MCAUB9GRwVyR2cf3JzVsUJEpKHLMBUy6bMUa1vaB3oH83x8w21Lezjv\n",
              "JLPX7mL5tqprUdycHXmkbwjjB7THQ0uExc4ULGxQsLh+DMMg+XA+S5IyWb4tm4JTZ1vERgR5MqpH\n",
              "IHd1D1C3ChERuUBZpZk/f7Wbv55uS9u2RWPmjImkR+uG05a24GQFH3yzh39uOkS52YKDA4zsEcjT\n",
              "Q0IJ9Gpk7/JEAAULmxQsai7zxEmWJVe1iN1/rMS63c/DnZFRgYzqEUhH32Z2rFBEROqKTfuO8fTC\n",
              "bWQXlOLk6MATAzvw5B0d6nVnwLJKM/9OPMT76/daP5Tr26El04aF0S3Q087ViVSnYGGDgsW1KSqt\n",
              "YPV2E0uSMvlhf551eyMXJ4Z1q2oRG9O+BU6626eIiFylgpMVvPDFdr48vRQoMtiLOWMi6107VYvF\n",
              "YHnqEd5cu4vME6cACPVtxvS4MPp3aqVrD6VWUrCwQcHiypktBv/be4wlSZms3WGitMICgIMD9Gnf\n",
              "glE9ghjaza/BrokVEZHr64uULJ5ftp2i021pXxjehQd6B9eLP7h/2H+cmavS2Xa6qYmvhxtP3xnK\n",
              "6J5B+lBOajUFCxsULC5vl6mIxUmZLEvOIreozLq9fasmjIoKYmSPQAK09lNERG6ArPxTTFm4jcT9\n",
              "VW1pB3euakvbso5er7c3t4hZqzP4Oj0XgCauTvyuf3se7RdCY1d9MCe1n4KFDQoWF3e0qIwvtx1h\n",
              "SVImO44UWrc3b+zC3d0DGBUVRESQZ7341EhERGo3i8Xg7/87wJtrq9rStmxa1ZZ2UOe605Y2t6iU\n",
              "d77ew4IthzFbDJwcHXigdzATB3XSvTukTlGwsEHB4qzSCjNfp+ewJCmLb3cfxXy6RayLkwN3hPkw\n",
              "OiqIAaE+6p0tIiJ2kZ5d1ZZ2V05VW9pfRrfm+fjOtfqT/pPllfx14wE+3riPk+VmAO7s4svUoWF0\n",
              "8Glq5+pErp6ChQ0NPVgYhsHWQydYnJTFitQjFJVWWvdFBnsxOiqQ4REBNG/iascqRUREqpRWmHlr\n",
              "7S7+9r8DAIS0bMKcMZFEBnvZt7DzmC0Gi346zNsJu63LiLsHe/HssDCi27Wwc3Ui107BwoaGGix+\n",
              "Pn6SJcmZLE3O4tDxk9btgV6NGNkjkJFRgbRvpU9SRESkdvp+b1VbWlNhVVvaP9zRkQkD29u9La1h\n",
              "GGzYdZSZq9PZnVMMQLB3I/4YG8bwCH8tIZY6T8HChoYULApLK1iVms2SpCx+PHi2RWwTVyfiwv0Z\n",
              "FRVEdIg3jupGISIidUDByQqe/2K79Q7VPVp7Mee+SNraqS3t9qwCXl+VzqZ9VReaezZy4ck7OvBQ\n",
              "TBvcnJ3sUpPI9aZgYUN9DxaVZgvf7TnG4qRMEnbmUFZZ1SLW0QFu69CS0VFBDOnqW6vXp4qIiNhy\n",
              "blvaxq5OvDi8C2NuuXltabPyT/HW2l0sTc4CwNXJkYdva8uEAR3wbOxyU2oQuVkULGyor8Fix5EC\n",
              "liRl8UXKEY4Vn20R28m3KaOjgrgnMhA/T3c7VigiInL9ZOWf4umFKdabtg7u7Msbo8NpcQPb0hac\n",
              "quDDDXv55PuDlJ/+4O6eyACmDAkl2LvxDfu5IvakYGFDfQoWuYWlfJFyhMVJmWSYiqzbWzRx5e7I\n",
              "AEZHBdE1wEPrO0VEpF6yWAz+9r/9vLl2FxVmg5ZN3XjzFxEMDPO5rj+nvNLCf344xPvr93DiZAUA\n",
              "t7bz5tm4zkQEeV3XnyVS2yhY2FDXg8WpcjNf7TSxJCmL7/Yc5XSHWFydHLmziy+jogK5vVMrXOx8\n",
              "MZuIiMjNsvNIIZMWJFsvnn4wujXPXYe2tIZhsCrNxOy1GdbGJx18mjJ9WBh3hPnogztpEBQsbKiL\n",
              "wcJiMdhyMI/FSZmsSjNRXHa2RWzPNs0ZFRXI8PAAresUEZEGq7TCzOw1u/jH91Vtadudbkvb/Rrb\n",
              "0v50MI/XVqWT/HM+AC2bujH5zk7c1yvI7p2oRG4mBQsb6lKwOHCshKVJmSxJziLzxCnr9qDmjRgV\n",
              "FcSoHoF264QhIiJSG/1vzzGmLKpqS+vs6MAfBnXk9wOuvC3t/qPFvLEmg7U7cgBo5OLE47e34/Hb\n",
              "29HETY1PpOFpEMFi7ty5vPnmm5hMJrp37877779P7969L/u42h4sCk5WsDz1CEuSMkk6/SkJQDM3\n",
              "Z+IjqlrE9mrTXC1iRURELiH/ZDnPLdvOytRsAKJaezFnTCRtWlz6w7jjxWW8u24Pn27+mUqLgaMD\n",
              "jLklmKcGd8LHQ81PpOGq98FiwYIF/PrXv2bevHlER0fzzjvvsGjRInbt2oWPj+0LtmpjsKgwW/h2\n",
              "11GWJGfy9c5cys1nW8Te3qkVo6OCuLOLL+4u6oktIiJyJQzDYFlKFi8u20FRWSVNXJ146a6u3Nsr\n",
              "qNq1EafKzfzj+wN8tGGfdanxHWE+TBsWRiffZvYqX6TWqPfBIjo6mltuuYUPPvgAAIvFQnBwME8+\n",
              "+STTpk2z+djaEiwMw2B7ViGLkzJZvu0Ix0vKrfs6+3swOiqQuyMD8GmmT0lERESuVeaJk0xeuI0f\n",
              "D1S1pR3SxZeZo8LxauzKkqRM3k7YTXZBKQDdAj14Nq4zfdq3tGfJIrVKvQ4W5eXlNG7cmM8//5wR\n",
              "I0ZYt48dO5b8/Hy++OILm4+3d7AwFZSyLCWLJUmZ1u4VUHVR2MgeAYzsEUSXgNpxJkVERKQ+MFsM\n",
              "/vrdfv781dm2tC2bulpbtQd6NeKZ2FDu7h6gpcYi56nXVxYdO3YMs9mMr69vte2+vr5kZGRcML6s\n",
              "rIyysrM3jCssLLzhNdry2qp0lm87AoCbsyNDuvoxKiqQfh1aqsuEiIjIDeDk6MDv+renX8eWTPos\n",
              "hT25xRwrLqOZuzNPDOzA2D5ttdxY5BLqdbC4WjNnzmTGjBn2LsNqdFQgOQWljO4ZyLBwfzzc1SJW\n",
              "RETkZuga4MnyJ/vy0YZ9VFosPNa3Hc2buNq7LJFaTUuhznGxMxbBwcF2v8ZCRERERKS2q9fraVxd\n",
              "XenZsyfr1q2zbrNYLKxbt46YmJgLxru5ueHh4VHtS0RERERELq/eL4WaPHkyY8eOpVevXvTu3Zt3\n",
              "3nmHkpISxo0bZ+/SRERERETqjXofLMaMGcPRo0d58cUXMZlMREZGsmbNmgsu6L6YM6vE7H0Rt4iI\n",
              "iIiIPTVr1qzafV0upl5fY1FTmZmZBAcH27sMERERERG7upJrjhUsbLBYLBw5cuSKEtqNcuYC8sOH\n",
              "D+uaj2ug+asZzV/NaQ5rRvNXc5rDmtH81Yzmr+Zqyxxeyd/D9X4pVE04OjoSFBRk7zIAdDF5DWn+\n",
              "akbzV3Oaw5rR/NWc5rBmNH81o/mrubowh/W6K5SIiIiIiNwcChYiIiIiIlJjCha1nJubGy+99BJu\n",
              "bm72LqVO0vzVjOav5jSHNaP5qznNYc1o/mpG81dzdWkOdfG2iIiIiIjUmM5YiIiIiIhIjSlYiIiI\n",
              "iIhIjSlYiIiIiIhIjSlYiIiIiIhIjSlY2NncuXNp27Yt7u7uREdH8+OPP9ocv2jRIsLCwnB3dyc8\n",
              "PJxVq1bdpEprr6uZw/nz5+Pg4FDty93d/SZWW7ts3LiRu+66i4CAABwcHFi2bNllH7NhwwaioqJw\n",
              "c3OjQ4cOzJ8//4bXWVtd7fxt2LDhguPPwcEBk8l0cwquZWbOnMktt9xCs2bN8PHxYcSIEezateuy\n",
              "j9P74FnXMod6Hzzro48+IiIiwnrjsZiYGFavXm3zMTr+qrvaOdTxZ9usWbNwcHBg0qRJNsfV1uNQ\n",
              "wcKOFixYwOTJk3nppZdISkqie/fuxMbGkpube9HxmzZt4oEHHuDRRx8lOTmZESNGMGLECLZv336T\n",
              "K689rnYOoerOldnZ2davQ4cO3cSKa5eSkhK6d+/O3Llzr2j8gQMHiI+PZ+DAgaSkpDBp0iQee+wx\n",
              "1q5de4MrrZ2udv7O2LVrV7Vj0MfH5wZVWLt9++23TJgwgR9++IGEhAQqKioYMmQIJSUll3yM3ger\n",
              "u5Y5BL0PnhEUFMSsWbPYunUrP/30E3fccQf33HMPO3bsuOh4HX8Xuto5BB1/l7JlyxY+/vhjIiIi\n",
              "bI6r1cehIXbTu3dvY8KECdbvzWazERAQYMycOfOi4++77z4jPj6+2rbo6Gjjt7/97Q2tsza72jn8\n",
              "5JNPDE9Pz5tUXd0CGEuXLrU55o9//KPRtWvXatvGjBljxMbG3sDK6oYrmb9vvvnGAIwTJ07clJrq\n",
              "mtzcXAMwvv3220uO0fugbVcyh3oftK158+bG3/72t4vu0/F3ZWzNoY6/iysqKjI6duxoJCQkGP37\n",
              "9zcmTpx4ybG1+TjUGQs7KS8vZ+vWrQwePNi6zdHRkcGDB5OYmHjRxyQmJlYbDxAbG3vJ8fXdtcwh\n",
              "QHFxMW3atCE4OPiyn6pIdToGr4/IyEj8/f258847+f777+1dTq1RUFAAgLe39yXH6Bi07UrmEPQ+\n",
              "eDFms5nPPvuMkpISYmJiLjpGx59tVzKHoOPvYiZMmEB8fPwFx9fF1ObjUMHCTo4dO4bZbMbX17fa\n",
              "dl9f30uutzaZTFc1vr67ljkMDQ3lH//4B1988QX/+c9/sFgs9OnTh8zMzJtRcp13qWOwsLCQU6dO\n",
              "2amqusPf35958+axePFiFi9eTHBwMAMGDCApKcnepdmdxWJh0qRJ3HbbbXTr1u2S4/Q+eGlXOod6\n",
              "H6wuLS2Npk2b4ubmxu9+9zuWLl1Kly5dLjpWx9/FXc0c6vi70GeffUZSUhIzZ868ovG1+Th0tncB\n",
              "IjdTTExMtU9R+vTpQ+fOnfn444959dVX7ViZNAShoaGEhoZav+/Tpw/79u1jzpw5/Pvf/7ZjZfY3\n",
              "YcIEtm/fzv/+9z97l1JnXekc6n2wutDQUFJSUigoKODzzz9n7NixfPvtt5f8w1gudDVzqOOvusOH\n",
              "DzNx4kQSEhLqxUXsChZ20rJlS5ycnMjJyam2PScnBz8/v4s+xs/P76rG13fXMofnc3FxoUePHuzd\n",
              "u/dGlFjvXOoY9PDwoFGjRnaqqm7r3bt3g/9j+oknnmDFihVs3LiRoKAgm2P1PnhxVzOH52vo74Ou\n",
              "rq506NABgJ49e7JlyxbeffddPv744wvG6vi7uKuZw/M19ONv69at5ObmEhUVZd1mNpvZuHEjH3zw\n",
              "AWVlZTg5OVV7TG0+DrUUyk5cXV3p2bMn69ats26zWCysW7fukusSY2Jiqo0HSEhIsLmOsT67ljk8\n",
              "n9lsJi0tDX9//xtVZr2iY/D6S0lJabDHn2EYPPHEEyxdupT169cTEhJy2cfoGKzuWubwfHofrM5i\n",
              "sVBWVnbRfTr+roytOTxfQz/+Bg0aRFpaGikpKdavXr168eCDD5KSknJBqIBafhza++rxhuyzzz4z\n",
              "3NzcjPnz5xs7d+40Hn/8ccPLy8swmUyGYRjGQw89ZEybNs06/vvvvzecnZ2Nt956y0hPTzdeeukl\n",
              "w8XFxUhLS7PXS7C7q53DGTNmGGvXrjX27dtnbN261bj//vsNd3d3Y8eOHfZ6CXZVVFRkJCcnG8nJ\n",
              "yQZgvP3220ZycrJx6NAhwzAMY9q0acZDDz1kHb9//36jcePGxjPPPGOkp6cbc+fONZycnIw1a9bY\n",
              "6yXY1dXO35w5c4xly5YZe/bsMdLS0oyJEycajo6Oxtdff22vl2BX48ePNzw9PY0NGzYY2dnZ1q+T\n",
              "J09ax+h90LZrmUO9D541bdo049tvvzUOHDhgpKamGtOmTTMcHByMr776yjAMHX9X4mrnUMff5Z3f\n",
              "FaouHYcKFnb2/vvvG61btzZcXV2N3r17Gz/88IN1X//+/Y2xY8dWG79w4UKjU6dOhqurq9G1a1dj\n",
              "5cqVN7ni2udq5nDSpEnWsb6+vkZcXJyRlJRkh6prhzPtT8//OjNnY8eONfr373/BYyIjIw1XV1ej\n",
              "Xbt2xieffHLT664trnb+3njjDaN9+/aGu7u74e3tbQwYMMBYv369fYqvBS42d0C1Y0rvg7Zdyxzq\n",
              "ffCsRx55xGjTpo3h6upqtGrVyhg0aJD1D2LD0PF3Ja52DnX8Xd75waIuHYcOhmEYN+/8iIiIiIiI\n",
              "1Ee6xkJERERERGpMwUJERERERGpMwUJERERERGpMwUJERERERGpMwUJERERERGpMwUJERERERGpM\n",
              "wUJERERERGpMwUJERERERGpMwUJERERERGpMwUJERERERGpMwUJERERERGpMwUJERERERGrs/wFx\n",
              "kwefO5vzUQAAAABJRU5ErkJggg==\n",
              "\">\n",
              "        <script></script>"
            ],
            "text/plain": [
              "<google.colab._quickchart_lib.MplChart at 0x7dfe4567f280>"
            ]
          },
          "metadata": {},
          "execution_count": 219
        }
      ]
    },
    {
      "cell_type": "code",
      "source": [
        "def value_plot(df, y, figscale=1):\n",
        "  df[y].plot(kind='line', figsize=(8 * figscale, 2 * figscale), title=y)\n",
        "  plt.gca().spines[['top', 'right']].set_visible(False)\n",
        "  plt.tight_layout()\n",
        "  return autoviz.MplChart.from_current_mpl_state()\n",
        "\n",
        "chart = value_plot(_df_2, *['EstimatedSalary'], **{})\n",
        "chart"
      ],
      "metadata": {
        "colab": {
          "base_uri": "https://localhost:8080/",
          "height": 211
        },
        "id": "kvppCPfeON1y",
        "outputId": "02491c20-3e53-47bf-e20d-a40ab21d91d6"
      },
      "execution_count": null,
      "outputs": [
        {
          "output_type": "execute_result",
          "data": {
            "text/html": [
              "<img src=\"data:image/png;base64,iVBORw0KGgoAAAANSUhEUgAAAxYAAAC+CAYAAACoGZm5AAAAOXRFWHRTb2Z0d2FyZQBNYXRwbG90\n",
              "bGliIHZlcnNpb24zLjcuMSwgaHR0cHM6Ly9tYXRwbG90bGliLm9yZy/bCgiHAAAACXBIWXMAAA9h\n",
              "AAAPYQGoP6dpAABBYElEQVR4nO3deVwTd/4/8FcSSILcCOEQgigKeKKoEVsvpFKv6m/d1oNtqbrb\n",
              "S7u6tl3121pr3dbq7tbW1qv9drXfLdSKXW21HkvxoCqi5SioQLUiiBqicoNcyfz+QEYDGEHAAL6e\n",
              "jwePbWY+M/OZ2XnEeWVmPm+JIAgCiIiIiIiIWkBq7g4QEREREVHHx2BBREREREQtxmBBREREREQt\n",
              "xmBBREREREQtxmBBREREREQtxmBBREREREQtxmBBREREREQtxmBBREREREQtxmBBREREREQtxmBB\n",
              "RPQIGzNmDMaMGWPubrSqS5cuQSKRYNu2bW26ne7du+P5559v020QEXUkDBZERO3Utm3bIJFI7vl3\n",
              "8uTJJq3n3LlzeOedd3Dp0qW27XAzbdy4sc0v/u927NgxTJgwAd26dYNSqYRarcaUKVMQFRX10PpA\n",
              "RNSZWZi7A0REZNq7774LHx+fBtN9fX2btPy5c+ewcuVKjBkzBt27dzea99///rc1uvhANm7cCGdn\n",
              "54fyq390dDRmzJiBwMBALFy4EI6OjsjKykJcXBw+//xzzJ49u837QETU2TFYEBG1cxMmTMCQIUPa\n",
              "ZN1yubxN1tvevPPOO+jTpw9OnjzZYJ91Op2ZenVHRUUF5HI5pFI+SEBEHRe/wYiIOrjt27cjKCgI\n",
              "tra2sLOzQ//+/fHxxx8DqH2c6umnnwYAjB07VnyM6siRIwAavmNx5MgRSCQS7NixAytXrkS3bt1g\n",
              "a2uL3//+9ygqKkJlZSUWLVoElUoFGxsbzJkzB5WVlUb92bp1K0JCQqBSqaBQKNCnTx9s2rTJqE33\n",
              "7t1x9uxZHD16VOzT3f0oLCzEokWL4OXlBYVCAV9fX6xZswYGg8FoPYWFhXj++edhb28PBwcHRERE\n",
              "oLCwsMEx+u233zB06NBGg5RKpTL6/I9//AMjRoxA165dYWVlhaCgIOzcudPk/wcAkJ+fj9dffx39\n",
              "+/eHjY0N7OzsMGHCBPzyyy9G7eqO8fbt2/HWW2+hW7du6NKlC1JSUiCRSLBu3boG6z5x4gQkEgm+\n",
              "/vrr+/aDiMhceMeCiKidKyoqwo0bN4ymSSQSdO3aFTExMZg1axbGjRuHNWvWAADS09Nx/PhxLFy4\n",
              "EKNGjcKf//xnrF+/Hv/zP/+DgIAAABD/915Wr14NKysrLF26FBcuXMAnn3wCS0tLSKVSFBQU4J13\n",
              "3sHJkyexbds2+Pj44O233xaX3bRpE/r27YunnnoKFhYW2LNnD1555RUYDAbMnz8fAPDRRx/h1Vdf\n",
              "hY2NDd58800AgKurKwCgvLwco0ePxpUrV/Diiy9CrVbjxIkTWLZsGa5du4aPPvoIACAIAqZOnYpj\n",
              "x47hpZdeQkBAAHbt2oWIiIgG++Pt7Y3Y2Fjk5ubC09PT5L5//PHHeOqppxAeHo6qqips374dTz/9\n",
              "NPbu3YtJkybdc7mLFy9i9+7dePrpp+Hj44O8vDxs2bIFo0ePxrlz5+Dh4WHUftWqVZDL5Xj99ddR\n",
              "WVkJf39/PPbYY4iMjMRf/vIXo7aRkZGwtbXF1KlTTfadiMisBCIiape2bt0qAGj0T6FQCIIgCAsX\n",
              "LhTs7OyEmpqae64nOjpaACAcPny4wbzRo0cLo0ePFj8fPnxYACD069dPqKqqEqfPmjVLkEgkwoQJ\n",
              "E4yWDw4OFry9vY2mlZeXN9hOWFiY0KNHD6Npffv2Ndp2nVWrVgnW1tbCr7/+ajR96dKlgkwmE3Jy\n",
              "cgRBEITdu3cLAIS1a9eKbWpqaoSRI0cKAIStW7eK07/44gsBgCCXy4WxY8cKy5cvF3766SdBr9c3\n",
              "2H79/ldVVQn9+vUTQkJCjKZ7e3sLERER4ueKiooG68vKyhIUCoXw7rvvitPqjnGPHj0abGvLli0C\n",
              "ACE9Pd1o+87OzkbbIiJqj/goFBFRO7dhwwbExMQY/e3fvx8A4ODggLKyMsTExLTqNp977jlYWlqK\n",
              "nzUaDQRBwNy5c43aaTQaXL58GTU1NeI0Kysr8b/r7raMHj0aFy9eRFFR0X23HR0djZEjR8LR0RE3\n",
              "btwQ/0JDQ6HX6xEXFwcA2LdvHywsLPDyyy+Ly8pkMrz66qsN1jl37lwcOHAAY8aMwbFjx7Bq1SqM\n",
              "HDkSvXr1wokTJ4za3t3/goICFBUVYeTIkUhKSjLZb4VCIb4jodfrcfPmTdjY2MDPz6/RZSMiIoy2\n",
              "BQDPPPMMlEolIiMjxWkHDx7EjRs38Ic//MHk9omIzI2PQhERtXPDhg2758vbr7zyCnbs2CEOozp+\n",
              "/Hg888wzePLJJ1u0TbVabfTZ3t4eAODl5dVgusFgQFFREbp27QoAOH78OFasWIH4+HiUl5cbtS8q\n",
              "KhLXdS/nz59HamoqXFxcGp1f97J1dnY23N3dYWNjYzTfz8+v0eXCwsIQFhaG8vJyJCYm4ptvvsHm\n",
              "zZsxefJkZGRkiO9a7N27F3/729+QkpJi9P6IRCIx2W+DwYCPP/4YGzduRFZWFvR6vTiv7tjcrbGR\n",
              "vhwcHMQhcFetWgWg9jGobt26ISQkxOT2iYjMjcGCiKgDU6lUSElJwcGDB7F//37s378fW7duxXPP\n",
              "PYcvv/zygdcrk8maNV0QBAC1L0mPGzcO/v7++PDDD+Hl5QW5XI59+/Zh3bp1DV6+bozBYMATTzyB\n",
              "v/71r43O7927dxP3onFdunTByJEjMXLkSDg7O2PlypXYv38/IiIi8NNPP+Gpp57CqFGjsHHjRri7\n",
              "u8PS0hJbt269b72L999/H8uXL8fcuXOxatUqODk5QSqVYtGiRY3ud/27FXWee+45REdH48SJE+jf\n",
              "vz++//57vPLKKxwxiojaPQYLIqIOTi6XY8qUKZgyZQoMBgNeeeUVbNmyBcuXL4evr+99f2lvTXv2\n",
              "7EFlZSW+//57o7sehw8fbtD2Xv3q2bMnSktLERoaanJbdS9kl5aWGt21yMzMbHJ/6+4EXbt2DQDw\n",
              "7bffQqlU4uDBg1AoFGK7rVu33nddO3fuxNixY/HFF18YTS8sLISzs3OT+/Tkk0/CxcUFkZGR0Gg0\n",
              "KC8vx7PPPtvk5YmIzIU/fxARdWA3b940+iyVSjFgwAAAEB/jsba2BoBGh2FtbXV3NOruYAC1jz81\n",
              "dmFubW3daJ+eeeYZxMfH4+DBgw3mFRYWiu9zTJw4ETU1NUZD2er1enzyyScNlouNjW20v/v27QNw\n",
              "5/EpmUwGiURi9BjTpUuXsHv37kaXv5tMJjPab6D2fZErV67cd9m7WVhYYNasWdixYwe2bduG/v37\n",
              "i/+fEhG1Z7xjQUTUzu3fvx8ZGRkNpo8YMQKvvfYa8vPzERISAk9PT2RnZ+OTTz5BYGCgOKRsYGAg\n",
              "ZDIZ1qxZg6KiIigUCrHORGsbP368eAflxRdfRGlpKT7//HOoVCrxrkCdoKAgbNq0CX/729/g6+sL\n",
              "lUqFkJAQvPHGG/j+++8xefJkPP/88wgKCkJZWRnS0tKwc+dOXLp0Cc7OzpgyZQoee+wxLF26FJcu\n",
              "XUKfPn3wn//8p9EXxKdOnQofHx9MmTIFPXv2RFlZGX788Ufs2bMHQ4cOxZQpUwAAkyZNwocffogn\n",
              "n3wSs2fPhk6nw4YNG+Dr64vU1FST+z558mS8++67mDNnDkaMGIG0tDRERkaiR48ezT6Ozz33HNav\n",
              "X4/Dhw+LwwgTEbV75h2UioiI7sXUcLO4PZzqzp07hfHjxwsqlUqQy+WCWq0WXnzxReHatWtG6/r8\n",
              "88+FHj16CDKZzGjo2XsNNxsdHd1oX06fPm00fcWKFQIA4fr16+K077//XhgwYICgVCqF7t27C2vW\n",
              "rBH+9a9/CQCErKwssZ1WqxUmTZok2NraCgCM+lFSUiIsW7ZM8PX1FeRyueDs7CyMGDFC+Mc//mE0\n",
              "DO7NmzeFZ599VrCzsxPs7e2FZ599VkhOTm4w3OzXX38tzJw5U+jZs6dgZWUlKJVKoU+fPsKbb74p\n",
              "FBcXG+3TF198IfTq1UtQKBSCv7+/sHXrVnE/79bYcLOvvfaa4O7uLlhZWQmPPfaYEB8f3+RjXF/f\n",
              "vn0FqVQq5ObmmmxHRNReSASh3n1bIiIiMrtBgwbBycnpno9xERG1N3zHgoiIqJ35+eefkZKSguee\n",
              "e87cXSEiajLesSAiImonzpw5g8TERPzzn//EjRs3cPHiRSiVSnN3i4ioSXjHgoiIqJ3YuXMn5syZ\n",
              "g+rqanz99dcMFUTUofCOBRERERERtRjvWBARERERUYsxWBARERERUYsxWJggCAKKi4sbVFIlIiIi\n",
              "IiJjDBYmlJSUwN7eHiUlJebuChERERFRu8ZgQURERERELcZgQURERERELcZgQURERERELWZh7g4Q\n",
              "ERHVJwgCKmsMqNIbIJdJobSUmbtLRER0HwwWREQEQRBQrRdQpTegslqPKr0BVTW1f3UX+OJ/1/3p\n",
              "9UZtxHl3LVs7T99web0BldX12tb77zpymRRP9nPDbI0aGh8nSCQSMx4pIiK6F1beNqG4uBj29vYo\n",
              "KiqCnZ2dubtDRJ2IIAioMQgNLqora/T1Lt7rXeDXGFDZ2IV7/bZGF/KNzK9p2LYj6Olijdkab0wf\n",
              "3A0OXeTm7g4REd2FwcIEBguizkVvEO5chNf7Jd7413R9k39db0oQqKp3kV+33fb87WshlUBuIYXc\n",
              "QgrF7f+Vy6SQW8hqp8mkUFjWTbt7ft0ysjvL1mtTf7naNjLjbd3V/nxeKaJOZeO7lKsor9IDABQW\n",
              "Ukwe4IHZGjUGqx14F4OIqB1gsDCBwYKoZQyG24/WGF2g6xs+KtPYhXsjj880DAL3+CX+HkFAb2i/\n",
              "X3cyqeSeF+AKi4YX73UX7mJbEyHg7vUpZA0v3BsLAlJp+7tQL6moxu6Uq4g8mY0M7Z36Qv5utgjX\n",
              "qDFtUDfYKi3N2EMiokcbg4UJDBb0qNIbBJzXlSAxuwCZ2hLcqtI3uEivrL77kZxGnsmvMaCmHV/I\n",
              "SyS469d0mdEF+f1+iVc0Or3+hXrdZ1mj61NYGF/Qy9rhhXx7JQgCki8XIvJkDvamXkXl7ce4ushl\n",
              "eGpg7V2MAZ4O5u0kEdEjiMHCBAYLelQU3apGyuVCJGYXIDmnAMk5hSitrGn17dRdcDd4PEa82JYZ\n",
              "TVM0euFer809Hrdp8Ct8vTYWUgkfn+kEisqr8W1SLqJO5eCCrlSc3r+bPWZr1HhqoAesFRynhIjo\n",
              "YWCwMIHBgjojQRBw8UaZGCISswtwXlfa4Hl/a7kMgWoH9O/mADsri0YeyZE1+jy8ov5jOrenW8p4\n",
              "IU9tRxAEnMrKR9SpHOxP04qjStkoLDBtkAfCNd4IcOf3OBFRW2KwMIHBgjqD8qoa/HK5CEm3Q0Ry\n",
              "TgEKyqsbtPPu2gVBakcM8nZEkNoRfm62fDyHOqT8sirsTLyMqIQcXLpZLk4frHbAbI03Jg9wZ10M\n",
              "IqI2wGBhAoMFdTSCICC34BaScgqQlF2AxJwCpF8rafDSssJCigGe9hh8O0QMUjvCxVZhpl4TtQ2D\n",
              "QUD8xZuITMjGf8/mie/82CktMD3IE+EaNXxVtmbuJRFR5yFt7gJxcXGYMmUKPDw8IJFIsHv3bqP5\n",
              "//nPfzB+/Hh07doVEokEKSkpDdZRUVGB+fPno2vXrrCxscH06dORl5dn1CYnJweTJk1Cly5doFKp\n",
              "8MYbb6CmxviZ7yNHjmDw4MFQKBTw9fXFtm3bGmxrw4YN6N69O5RKJTQaDU6dOtXcXSZqtyqq9UjM\n",
              "zsfncRfx0r8TMez9WIxcexgLt6fgy/hsnLlSDL1BgLu9EpMGuGP55D7YPf8xpL0ThuiXRmDZhACM\n",
              "7+vGUEGdklQqwWO+ztgYHoQTy0LwRpgfPB2tUFxRg63HLyH0wzg8syUe36VcQWWN3tzdJSLq8Jr9\n",
              "RltZWRkGDhyIuXPn4ne/+12j8x9//HE888wz+NOf/tToOv7yl7/ghx9+QHR0NOzt7bFgwQL87ne/\n",
              "w/HjxwEAer0ekyZNgpubG06cOIFr167hueeeg6WlJd5//30AQFZWFiZNmoSXXnoJkZGRiI2NxR//\n",
              "+Ee4u7sjLCwMAPDNN99g8eLF2Lx5MzQaDT766COEhYUhMzMTKpWqubtOZHZ5xRW1dyJu3404e6XY\n",
              "qEIxUFt/oG83ewxWOyDI2xGD1Y7wcLAyU4+J2geVrRLzx/ripdE9EXf+OqISchCbnodTWfk4lZUP\n",
              "J2s5fh/kiVnD1PBxtjZ3d4mIOqQWPQolkUiwa9cuTJs2rcG8S5cuwcfHB8nJyQgMDBSnFxUVwcXF\n",
              "BVFRUfj9738PAMjIyEBAQADi4+MxfPhw7N+/H5MnT8bVq1fh6uoKANi8eTOWLFmC69evQy6XY8mS\n",
              "Jfjhhx9w5swZcd0zZ85EYWEhDhw4AADQaDQYOnQoPv30UwCAwWCAl5cXXn31VSxduvS++8dHocic\n",
              "qvUGZFwrQWJ2PpJyakdsulJ4q0E7Zxs5BqkdEeRd+9e/mz2fHydqgmtFt/DN6cvYfuoytMUV4vTH\n",
              "fLsiXOONJ/q4wlLW7Bv7RESPrIc+Bl9iYiKqq6sRGhoqTvP394darRaDRXx8PPr37y+GCgAICwvD\n",
              "yy+/jLNnz2LQoEGIj483Wkddm0WLFgEAqqqqkJiYiGXLlonzpVIpQkNDER8f37Y7SfQA8suqkJRd\n",
              "IL5k/UtuISqqje9GSCWAn5sdgrwdMPh2mFA7deFoS0QPwN3eCotCe2PBWF8czryOyIRsHP31Oo5f\n",
              "uInjF27C2UaBGUM9MXOoGl5OXczdXSKidu+hBwutVgu5XA4HBwej6a6urtBqtWKbu0NF3fy6eaba\n",
              "FBcX49atWygoKIBer2+0TUZGRqN9q6ysRGVlpfi5uLi4+TtI1AR1BeiSsmvvRCTlFCDrRlmDdnZK\n",
              "Cwy+/ThTkLcjBno5wIZj8hO1KguZFE/0ccUTfVxxOb8c20/n4JvTubhRWokNh3/DxiO/YXRvF8we\n",
              "pkaIvwoWvItBRNQoXqHcZfXq1Vi5cqW5u0GdUHFFNVJy7oSIlJxClDRSgM5XZWP0bkRPFxtIOeQr\n",
              "0UPj5dQFb4T5Y1Fob/x4Lg+RCTk4duEGjmRex5HM63CzU2LGUC/MHOYFd3u+u0REdLeHHizc3NxQ\n",
              "VVWFwsJCo7sWeXl5cHNzE9vUH72pbtSou9vUH0kqLy8PdnZ2sLKygkwmg0wma7RN3TrqW7ZsGRYv\n",
              "Xix+Li4uhpeX14PtKD2yBEFA1u0CdEk5hUjKLsCvupIGBei6yGUI9LoTIgapHeDQRW6eThOREUuZ\n",
              "FBP6u2NCf3dculGGr0/lIDoxF9riCnwcex6fHDqPEH9XhA9XY1QvF9Z8ISKCGYJFUFAQLC0tERsb\n",
              "i+nTpwMAMjMzkZOTg+DgYABAcHAw3nvvPeh0OnH0ppiYGNjZ2aFPnz5im3379hmtOyYmRlyHXC5H\n",
              "UFAQYmNjxZfLDQYDYmNjsWDBgkb7plAooFBw2E1qnrsL0NW9I9FYATq1U5fbIcIBg70d4edqy0cq\n",
              "iDqA7s7WWDYxAIvH98aBM1pEJuTgVFY+fkzPw4/peejmYIXZGjWeHuIJla3S3N0lIjKbZgeL0tJS\n",
              "XLhwQfyclZWFlJQUODk5Qa1WIz8/Hzk5Obh69SqA2tAA1N5hcHNzg729PebNm4fFixfDyckJdnZ2\n",
              "ePXVVxEcHIzhw4cDAMaPH48+ffrg2Wefxdq1a6HVavHWW29h/vz54oX/Sy+9hE8//RR//etfMXfu\n",
              "XBw6dAg7duzADz/8IPZt8eLFiIiIwJAhQzBs2DB89NFHKCsrw5w5cx78iNEjrX4BuqScQpy7Vtyg\n",
              "AJ3cQooB3exrg8TtOxKsFUHUsSksZJga2A1TA7vhgq4EkQk5+DYxF1cKb+HvBzOxLuZXjO/rinCN\n",
              "N4J7dOVjjET0yGn2cLNHjhzB2LFjG0yPiIjAtm3bsG3btkYv3FesWIF33nkHQG2BvNdeew1ff/01\n",
              "KisrERYWho0bNxo9opSdnY2XX34ZR44cgbW1NSIiIvDBBx/AwuJOFjpy5Aj+8pe/4Ny5c/D09MTy\n",
              "5cvx/PPPG233008/xd///ndotVoEBgZi/fr10Gg0TdpXDjdLlTV6nLlSbDRak66kskE7NzvlXSHC\n",
              "AX097CG34N0Ios6uolqPH1KvITIhG0k5heL07l27YNYwNX4f5ImuNvxRgYgeDS2qY9HZMVg8enTF\n",
              "FeIL1onZBThzrwJ0HnZGtSNYgI6I0q8VIyohB7uSr6D09uAMcpkUT/ZzQ7hGjWE+Thwamog6NQYL\n",
              "ExgsOrcavQEZ2pLaKta3w0RuQcMCdF2tGxags5KzAB0RNa6ssgZ7frmKyIQcpF0pEqf7qmwwe5ga\n",
              "0wd7wr6LpRl7SETUNhgsTGCw6Fzyy6qQnHMnRPxyuQi3qvVGbSQSwM/VVhypKcjbEd5dWYCOiB5M\n",
              "Wm4Rok5l47uUqyivqv2+UVhIMXmAB2Zr1BisduD3CxF1GgwWJjBYdFwGg4DzulIxRCRlF+BiIwXo\n",
              "bJUWGKy+uwCdPWyV/CWRiFpXSUU1dqdcReTJbGRoS8Tp/m62CB/ujWmBHvzuIaIOj8HCBAaLjqOk\n",
              "ohoplwvFx5pSLheipKJhAbqeLtZiiAjyZgE6Inq4BEFA8uVCRJ7Mwd7Uq6isqX2Hq4tchqcGeiBc\n",
              "443+nvZm7iUR0YNhsDCBwaJ9EgQBl26WiyEiOacAmXkNC9BZWd5VgM7bAYO8HOFozQJ0RNQ+FJVX\n",
              "49ukXESdysEFXak4vX83e4Rr1Jgy0APWiodeboqI6IExWJjAYNE+3KrS45fcQqPaEfllVQ3aeTlZ\n",
              "IUh9p26EvxsL0BFR+ycIAk5l5SPqVA72p2nFkehsFBb4f4O6YbZGjQB3/htERO0fg4UJDBYPnyAI\n",
              "uFJ4C0k5hUi6fUci/Voxau5RgK4uRAz2dmDFWyLq8PLLqrAz8TKiEnJw6Wa5OH2w2gGzNd6YPMAd\n",
              "SkuOSkdE7RODhQkMFm2vskaPs1eNC9DlFTcsQOdqpxBHahrs7Yi+HnZQWPAfVyLqnAwGAfEXbyIy\n",
              "IRv/PZsn/rhib2WJ3w3uhnCNGr4qWzP3kojIGIOFCQwWrU9XXFH7SFNO7YvWaVeKUFVjXIBOdrsA\n",
              "XV2ICPJ2hIe9kkMyEtEjSVdSgeifcxGVkIMrhXdq7QzzcUK4Ro0n+7nxhxYiahcYLExgsGiZugJ0\n",
              "dXciErMbL0DnZC3HYLVDbYhQO2KApwML0BER1aM3CIg7fx1RCTmITc9D3ROiTtZyPB3kiVnD1Oju\n",
              "bG3eThLRI43BwgQGi+YpKKtC8uXbBeiyC5FyufCeBejqQsRgb0d0ZwE6IqJmuVZ0C9+cvoztpy5D\n",
              "W1whTn/c1xmzNWo80ccVlhy8gogeMgYLExgs7s1gEHDh+u0CdNkFSMwpwMXrjRSgU1hgkLcjBqsd\n",
              "bhegc4Adi0AREbWKGr0BhzOvIzIhG0d/vS4Ou+1iq8AzQzwxc6gaXk5dzNtJInpkMFiYwGBxR10B\n",
              "uqTsQiTm1NaOaKwAXY96Beh8WYCOiOihuJxfju2nc/DN6VzcKK0dBEMiAUb3dkG4xhtj/Vw4BDcR\n",
              "tSkGCxMe1WAhCAKy6wrQ3a4dca8CdAO97MXRmgapHeHEAnRERGZVrTcg5lweohJycOzCDXG6m50S\n",
              "M4d5YcZQL7jbW5mxh0TUWTFYmPCoBItbVXqk5hbeDhG1hegaK0Dn6WglhoggbxagIyJq77JulGH7\n",
              "qRxEJ+aK3+tSCTAuwBWzNWqM6uUCGe8qE1ErYbAwoTMGC0EQcLWoQnw3IimnAOeuNlKATiZFf097\n",
              "8d2IwWpHqOxYgI6IqCOqrNHjwBktIhNycCorX5zu6WiFWcPUeHqIJ4uMElGLMViY0BmCRVWNAWev\n",
              "FtUGidt3JO4eQaSOylYhvhcxSO2Ift1YgI6IqDO6oCtBZEIOvk3MRfHtd+UspBKM7+uKcI03gnt0\n",
              "5btxRPRAGCxM6IjBQldSIT7OlJRdgNR7FKDr4253O0TU3pHo5mDFIV+JiB4hFdV67E29hqiEbCTl\n",
              "FIrTu3ftgtkaNX4f5MX35oioWRgsTGjvweLuAnR1Q75ezm9YgM6xi6VRFesBnvboIrcwQ4+JiKg9\n",
              "Sr9WjKiEHOxKvoLSytq7GHKZFBP6u2H2MDWG+Tjxxyciui8GCxPaW7AoLK9Cck6hWMX6l9xClFc1\n",
              "LEDXW2UrhojBagf4OFvzHwQiIrqvssoa7PnlKiITcpB2pUic7quywexhakwf7An7LqxFRESNY7Aw\n",
              "wdzB4nJ+OY5fuCG+H/HbPQrQBaodxJGaAtUsQEdERC2XmluIqIQcfJdyFbeqa3/EUlhIMXmAB8KH\n",
              "qzHIy4E/WhGREQYLE8wdLDYcvoC/H8w0mtbD2RqD7i5Ap7LhUIFERNRmiiuq8V3yFUQm5CBDWyJO\n",
              "93ezRfhwb0wL9IAtf9AiIgDNLkIQFxeHKVOmwMPDAxKJBLt37zaaLwgC3n77bbi7u8PKygqhoaE4\n",
              "f/68UZv8/HyEh4fDzs4ODg4OmDdvHkpLS43apKamYuTIkVAqlfDy8sLatWsb9CU6Ohr+/v5QKpXo\n",
              "378/9u3b1+y+tGcaHydofJzwypie+CJiCJKWP4FDr4/BP58ZiNkaNfzcbBkqiIioTdkpLfFscHfs\n",
              "XzgS3748AtMHe0JhIUWGtgTLd5+B5v1YLPtPKtJyi+6/MiLq1JodLMrKyjBw4EBs2LCh0flr167F\n",
              "+vXrsXnzZiQkJMDa2hphYWGoqLgzxGl4eDjOnj2LmJgY7N27F3FxcXjhhRfE+cXFxRg/fjy8vb2R\n",
              "mJiIv//973jnnXfw2WefiW1OnDiBWbNmYd68eUhOTsa0adMwbdo0nDlzpll9ac+GdHfCNy8G469P\n",
              "+mNcgCtH5yAiIrORSCQI8nbEP58ZiFP/E4q3J/eBr8oG5VV6fH3qMqZ8egxPfXoM20/loLyqxtzd\n",
              "JSIzaNGjUBKJBLt27cK0adMA1N4h8PDwwGuvvYbXX38dAFBUVARXV1ds27YNM2fORHp6Ovr06YPT\n",
              "p09jyJAhAIADBw5g4sSJyM3NhYeHBzZt2oQ333wTWq0WcnntxfTSpUuxe/duZGRkAABmzJiBsrIy\n",
              "7N27V+zP8OHDERgYiM2bNzepL/dj7kehiIiI2jNBEHAqKx+RCTk4cEaLKn3t8Oa2CgtMG9QNszVq\n",
              "BLjz30+iR0Wz71iYkpWVBa1Wi9DQUHGavb09NBoN4uPjAQDx8fFwcHAQQwUAhIaGQiqVIiEhQWwz\n",
              "atQoMVQAQFhYGDIzM1FQUCC2uXs7dW3qttOUvtRXWVmJ4uJioz8iIiJqnEQigaZHV6yfNQjxy0Kw\n",
              "bII/unftgpLKGvz7ZDYmfPwTfrfxOL5NzEVFtf7+KySiDq1Vg4VWqwUAuLq6Gk13dXUV52m1WqhU\n",
              "KqP5FhYWcHJyMmrT2Dru3sa92tw9/359qW/16tWwt7cX/7y8vJqw10RERNTVRoEXR/fEodfG4Kt5\n",
              "Gkzs7wYLqQRJOYV4LfoXaN6Pxbt7zuGCrvT+KyOiDolV0u6ybNkyLF68WPxcXFzMcEFERNQMUqkE\n",
              "j/dyxuO9nKErqUD0z7mISsjBlcJb+NfxLPzreBY0Pk6YrVHjyX5uUFjIzN1lImolrRos3NzcAAB5\n",
              "eXlwd3cXp+fl5SEwMFBso9PpjJarqalBfn6+uLybmxvy8vKM2tR9vl+bu+ffry/1KRQKKBSKJu8v\n",
              "ERER3ZvKVon5Y33x0uieiDt/HVEJOYhNz0NCVj4SsvLhZC3H00GemDVMje7O1ubuLhG1UKs+CuXj\n",
              "4wM3NzfExsaK04qLi5GQkIDg4GAAQHBwMAoLC5GYmCi2OXToEAwGAzQajdgmLi4O1dXVYpuYmBj4\n",
              "+fnB0dFRbHP3dura1G2nKX0hIiKitieTSjDWT4XPnxuC40tDsHBcL7jZKZFfVoUtcRcx5h9H8If/\n",
              "TcD+tGuovv0COBF1PM0eFaq0tBQXLlwAAAwaNAgffvghxo4dCycnJ6jVaqxZswYffPABvvzyS/j4\n",
              "+GD58uVITU3FuXPnoFQqAQATJkxAXl4eNm/ejOrqasyZMwdDhgxBVFQUgNrRm/z8/DB+/HgsWbIE\n",
              "Z86cwdy5c7Fu3TpxWNoTJ05g9OjR+OCDDzBp0iRs374d77//PpKSktCvXz8AaFJfTOGoUERERG2j\n",
              "Rm/AoQwdok7l4Oiv11F3NeJiq8CMIV6YOcwLno5dzNtJImqWZgeLI0eOYOzYsQ2mR0REYNu2bRAE\n",
              "AStWrMBnn32GwsJCPP7449i4cSN69+4tts3Pz8eCBQuwZ88eSKVSTJ8+HevXr4eNjY3YJjU1FfPn\n",
              "z8fp06fh7OyMV199FUuWLDHaZnR0NN566y1cunQJvXr1wtq1azFx4kRxflP6YgqDBRERUdu7nF+O\n",
              "7adz8M3pXNworQQASCTAmN4umK3xxlg/F1jIWvUhCyJqAy2qY9HZMVgQERE9PNV6A2LO5SEqIQfH\n",
              "LtwQp7vbKzFjqBdmDlXDzf7+TxwQkXkwWJjAYEFERGQeWTfKsP1UDnb8fBkF5bXvXMqkEoT4qxCu\n",
              "UWNULxdIpRIz95KI7sZgYQKDBRERkXlV1uhx4IwWkQk5OJWVL073dLTCrGFqPDPECy62HNGRqD1g\n",
              "sDCBwYKIiKj9uKArQWRCDr5NzEVxRQ0AwEIqQVhfN8zWqBHcoyvvYhCZEYOFCQwWRERE7U9FtR57\n",
              "U68hKiEbSTmF4vTuXbtgtkaN3wd5wclabr4OEj2iGCxMYLAgIiJq39KvFSMqIQe7kq+gtLL2LoZc\n",
              "JsWE/m4I13hjaHdHSCS8i0H0MDBYmMBgQURE1DGUVdZgzy9XEZmQg7QrReJ0X5UNwjVq/G6QJ+y7\n",
              "WJqxh0SdH4OFCQwWREREHU9qbiGiEnLwXcpV3KrWAwAUFlJMGeiB2Ro1Bnk58C4GURtgsDCBwYKI\n",
              "iKjjKq6oxnfJVxCZkIMMbYk4PcDdDrM1akwL9ICtkncxiFoLg4UJDBZEREQdnyAISMqpvYuxN/Uq\n",
              "KmsMAIAuchmmBnpg9jBv9Pe0N3MviTo+BgsTGCyIiIg6l8LyKvwn6QoiE7Lx2/UycfoAT3uEa9SY\n",
              "MtADXeQWZuwhUcfFYGECgwUREVHnJAgCTmXlIzIhBwfOaFGlr72LYauwwP8b3A2zNWr4u/HffqLm\n",
              "YLAwgcGCiIio87tZWomdibn4+lQOLt0sF6cHeTti9jA1Jg1wh9JSZsYeEnUMDBYmMFgQERE9OgwG\n",
              "ASd+u4moU9n479k81BhqL5Gs5TI83ssZ4/xdMcbfBSpbpZl7StQ+MViYwGBBRET0aNKVVCD659q7\n",
              "GLkFt4zmDfS0R4i/K8YFqNDXw45D1xLdxmBhAoMFERHRo81gEHDuWjFi03U4lJGHX3KLjOa72ikQ\n",
              "4q9CiL8rHvPtyhe/6ZHGYGECgwURERHdTVdSgSMZ1xGbkYefzt9AeZVenCe3kCK4R1eMC1BhrJ8K\n",
              "Xk5dzNhTooePwcIEBgsiIiK6l8oaPRIu5uNQhg6xGXm4nG/8yJSfqy1CAlQY56/CILUjZFI+MkWd\n",
              "G4OFCQwWRERE1BSCIOC366WITdchNkOHxOwC6A13LrEculhiTG8XhAS4YnQvF9h3YcVv6nwYLExg\n",
              "sCAiIqIHUVhehaO/XsehDB2OZF5H0a1qcZ5MKsEQb0eMC6h9N6OnizVfAKdOgcHCBAYLIiIiaqka\n",
              "vQHJlwvFF8B/zSs1mu/dtQtC/FUY5++KYT5OkFtIzdRTopZhsDCBwYKIiIha2+X88tvvZehw8reb\n",
              "YtVvoLZmxsheLgi5/QK4i63CjD0lap42icQlJSVYtGgRvL29YWVlhREjRuD06dPifEEQ8Pbbb8Pd\n",
              "3R1WVlYIDQ3F+fPnjdaRn5+P8PBw2NnZwcHBAfPmzUNpqXHCT01NxciRI6FUKuHl5YW1a9c26Et0\n",
              "dDT8/f2hVCrRv39/7Nu3ry12mYiIiKhJvJy6IGJEd/zf3GFIfvsJbHk2CDOHesHFVoGyKj0OnNXi\n",
              "rztTMfS9HzF1w3Gsjz2PM1eKwN+Cqb1rkzsWM2bMwJkzZ7Bp0yZ4eHjgq6++wrp163Du3Dl069YN\n",
              "a9aswerVq/Hll1/Cx8cHy5cvR1paGs6dOwelsraa5YQJE3Dt2jVs2bIF1dXVmDNnDoYOHYqoqCgA\n",
              "tXcTevfujdDQUCxbtgxpaWmYO3cuPvroI7zwwgsAgBMnTmDUqFFYvXo1Jk+ejKioKKxZswZJSUno\n",
              "16/fffeDdyyIiIjoYTEYBJy9WozYjDwcytAhtdGaGa4I8VexZga1S60eLG7dugVbW1t89913mDRp\n",
              "kjg9KCgIEyZMwKpVq+Dh4YHXXnsNr7/+OgCgqKgIrq6u2LZtG2bOnIn09HT06dMHp0+fxpAhQwAA\n",
              "Bw4cwMSJE5GbmwsPDw9s2rQJb775JrRaLeRyOQBg6dKl2L17NzIyMgDUBpyysjLs3btX7Mfw4cMR\n",
              "GBiIzZs333dfGCyIiIjIXHTFFTicqUNsug7HLjSsmTGiZ1eM81dhrL8Kno6smUHm1+qPQtXU1ECv\n",
              "14t3HupYWVnh2LFjyMrKglarRWhoqDjP3t4eGo0G8fHxAID4+Hg4ODiIoQIAQkNDIZVKkZCQILYZ\n",
              "NWqUGCoAICwsDJmZmSgoKBDb3L2dujZ126mvsrISxcXFRn9ERERE5qCyU2LGUDU+e24Ikt9+Av83\n",
              "dxieH9Edno5WqKox4EjmdSz/7iweX3MYT34Uh7UHMpCYnW80zC3Rw9Tq99BsbW0RHByMVatWISAg\n",
              "AK6urvj6668RHx8PX19faLVaAICrq6vRcq6uruI8rVYLlUpl3FELCzg5ORm18fHxabCOunmOjo7Q\n",
              "arUmt1Pf6tWrsXLlygfccyIiIqK2obCQYVRvF4zq7YIVU/rggq4UsRk6HErX4efsfGRoS5ChLcHG\n",
              "I7/BsYslxvrV3skY1dsF9lasmUEPR5s8nPfvf/8bc+fORbdu3SCTyTB48GDMmjULiYmJbbG5VrNs\n",
              "2TIsXrxY/FxcXAwvLy8z9oiIiIjImEQiQS9XW/RytcVLo3uKNTNi03U4+ut1FJRX4z/JV/Cf5CuQ\n",
              "SSUY2t0R4/xdERKgQg9n1sygttMmwaJnz544evQoysrKUFxcDHd3d8yYMQM9evSAm5sbACAvLw/u\n",
              "7u7iMnl5eQgMDAQAuLm5QafTGa2zpqYG+fn54vJubm7Iy8szalP3+X5t6ubXp1AooFBwWDciIiLq\n",
              "OBy6yDE1sBumBnZDjd6ApJzC2hfA03U4ryvFyYv5OHkxH+/tS0f3rl3EF8BZM4NaW5ueTdbW1nB3\n",
              "d0dBQQEOHjyIqVOnwsfHB25uboiNjRXbFRcXIyEhAcHBwQCA4OBgFBYWGt3hOHToEAwGAzQajdgm\n",
              "Li4O1dV3KlnGxMTAz88Pjo6OYpu7t1PXpm47RERERJ2JhUyKYT5OWDYhADGLRyPujbF4Z0ofjOzl\n",
              "DLlMiks3y/Gv41n4wxcJGLwqBi9/lYjony/jRmmlubtOnUCbDDd78OBBCIIAPz8/XLhwAW+88QaU\n",
              "SiV++uknWFpaYs2aNfjggw+MhptNTU1tMNxsXl4eNm/eLA43O2TIEHG42aKiIvj5+WH8+PFYsmQJ\n",
              "zpw5g7lz52LdunVGw82OHj0aH3zwASZNmoTt27fj/fff53CzRERE9MgprazBsfM3cPh2cb67w4RE\n",
              "Agz0dMA4fxVCAlTo427HR6ao2dokWOzYsQPLli1Dbm4unJycMH36dLz33nuwt7cHUFsgb8WKFfjs\n",
              "s89QWFiIxx9/HBs3bkTv3r3FdeTn52PBggXYs2cPpFIppk+fjvXr18PGxkZsk5qaivnz5+P06dNw\n",
              "dnbGq6++iiVLlhj1JTo6Gm+99RYuXbqEXr16Ye3atZg4cWKT9oPBgoiIiDojg0HAmatFiE3X4VCG\n",
              "DmlXjGtmuNkpERKgwjh/FUb0dIaVXGamnlJH0ibBorNgsCAiIqJHQV5xhXgn49j5G7hVfadmhuJ2\n",
              "zYyQgNp3M7o5WJmxp9SeMViYwGBBREREj5qKaj1OXryJwxk6/Jiuw5XCW0bz/d1sMS5AhRB/VwR6\n",
              "OUAm5SNTVIvBwgQGCyIiInqUCYKA87rS249M5SExuwB3199zspZjjJ8LQm7XzLBTsmbGo4zBwgQG\n",
              "CyIiIqI7Cspu18zI0OFopg7FFTXiPAupBEO7O92+m6FCDxcbE2uizojBwgQGCyIiIqLG1egNSMwu\n",
              "wKHb72Zc0JUazfdxtkaIf+0L4EO6s2bGo4DBwgQGCyIiIqKmyb5ZhkMZtaNMnbx4E9X6O5eYtgoL\n",
              "jOztjBB/V4zxc4GzDQsSd0YMFiYwWBARERE1X23NjOuITdfhcOb1BjUzAr1u18zwd0WAuy1rZnQS\n",
              "DBYmMFgQERERtYzBICDtShFiM2pfAD9zpdhovru9EiH+te9lsGZGx8ZgYQKDBREREVHr0hZV4HCm\n",
              "DrHpOhy/0LBmxmO+zmLQ8GDNjA6FwcIEBgsiIiKitlNXM+NQRm3QqF8zI8DdrvaRqQAVBnqyZkZ7\n",
              "x2BhAoMFERER0cMhCAJ+zStFbEYeDqXrkJRjXDOjq7Uco/1cMM7fFSN7O7NmRjvEYGECgwURERGR\n",
              "eeSXVeHor7V3Mo7+eh0l9WpmDPNxqh3ONsAVPs7WZuwp1WGwMIHBgoiIiMj8qu+umZGeh9+ulxnN\n",
              "73G7ZkZIgApDuzvBUsaaGebAYGECgwURERFR+3Ppxp2aGQlZDWtmjOrtghB/Fcb4uaAra2Y8NAwW\n",
              "JjBYEBEREbVvJRXVOHb+BmIzdDiSqcON0ipxnkQCDPJywLgAV4T4q+DvxpoZbYnBwgQGCyIiIqKO\n",
              "w2AQkHqlCIfS8xCbocPZq8Y1MzzslQgJuFMzQ2nJmhmticHCBAYLIiIioo7rWtEtHM64jkMZeTh2\n",
              "4QYqqg3iPKWlFI/1dBaDhrs9a2a0FIOFCQwWRERERJ1DRbUe8b/dFIezvVpUYTS/j7sdxt0OGQM9\n",
              "HSBlzYxmY7AwgcGCiIiIqPMRBAGZeSWITa99ATwppwBCvZoZY/xUGBegwshezrBlzYwmYbAwgcGC\n",
              "iIiIqPPLL6vCkUwdYjN0iMu8jpLKOzUzLGV1NTNcMc5fhe6smXFPDBYmMFgQERERPVqq9Qb8fKkA\n",
              "hzJqXwC/WL9mhos1xvmrEOLviiHdHVkz4y4MFiYwWBARERE92rLEmhl5SLiYjxrDXTUzlLU1M8b5\n",
              "qzDGTwUna7kZe2p+rR6x9Ho9li9fDh8fH1hZWaFnz55YtWoV7s4vgiDg7bffhru7O6ysrBAaGorz\n",
              "588brSc/Px/h4eGws7ODg4MD5s2bh9LSUqM2qampGDlyJJRKJby8vLB27doG/YmOjoa/vz+USiX6\n",
              "9++Pffv2tfYuExEREVEn5eNsjXmP+yDyj8OR9PYT2Bg+GNMHe6KrtRwlFTX4IfUaFu/4BUF/i8H0\n",
              "TSew4fAFZGiL8Sj+dt/qdyzef/99fPjhh/jyyy/Rt29f/Pzzz5gzZw7ee+89/PnPfwYArFmzBqtX\n",
              "r8aXX34JHx8fLF++HGlpaTh37hyUSiUAYMKECbh27Rq2bNmC6upqzJkzB0OHDkVUVBSA2rsJvXv3\n",
              "RmhoKJYtW4a0tDTMnTsXH330EV544QUAwIkTJzBq1CisXr0akydPRlRUFNasWYOkpCT069fvvvvC\n",
              "OxZERERE1BiDQcAvuYU4lKFDbLoO564Z18zo5mCFEP/aUaaCe3Z9JGpmtHqwmDx5MlxdXfHFF1+I\n",
              "06ZPnw4rKyt89dVXEAQBHh4eeO211/D6668DAIqKiuDq6opt27Zh5syZSE9PR58+fXD69GkMGTIE\n",
              "AHDgwAFMnDgRubm58PDwwKZNm/Dmm29Cq9VCLq+97bR06VLs3r0bGRkZAIAZM2agrKwMe/fuFfsy\n",
              "fPhwBAYGYvPmzffdFwYLIiIiImqKq4W3cDhTh0PpOhy7cAOVNcY1Mx73dUaIf20FcDd7pRl72nZa\n",
              "/VGoESNGIDY2Fr/++isA4JdffsGxY8cwYcIEAEBWVha0Wi1CQ0PFZezt7aHRaBAfHw8AiI+Ph4OD\n",
              "gxgqACA0NBRSqRQJCQlim1GjRomhAgDCwsKQmZmJgoICsc3d26lrU7cdIiIiIqLW4OFghXCNN754\n",
              "fihS3h6Pfz0/BH8YroaHvRIV1Qb8mK7D/+xKw/DVsZi0/id8+N9MpFwuhMHQeR6ZsmjtFS5duhTF\n",
              "xcXw9/eHTCaDXq/He++9h/DwcACAVqsFALi6uhot5+rqKs7TarVQqVTGHbWwgJOTk1EbHx+fBuuo\n",
              "m+fo6AitVmtyO/VVVlaisrJS/FxcXNxoOyIiIiKie7GSy27fnXCFMFVAhrbk9iNTeUi+XIizV4tx\n",
              "9mox1h+6AGcbOcb61T4y9XgHr5nR6sFix44diIyMRFRUFPr27YuUlBQsWrQIHh4eiIiIaO3NtarV\n",
              "q1dj5cqV5u4GEREREXUSEokEAe52CHC3w/yxvrhZWokjmddxKEOHuF+v40ZpFaITcxGdmAtLmQQa\n",
              "n64I8a8tzufdtWPVzGj1YPHGG29g6dKlmDlzJgCgf//+yM7OxurVqxEREQE3NzcAQF5eHtzd3cXl\n",
              "8vLyEBgYCABwc3ODTqczWm9NTQ3y8/PF5d3c3JCXl2fUpu7z/drUza9v2bJlWLx4sfi5uLgYXl5e\n",
              "zdp/IiIiIqJ76WqjwPQgT0wP8kS13oDTl/Jx6HYF8Is3ynDswg0cu3AD7+49h54u1hgX4IqxfioM\n",
              "83GCTCoxd/dNavV3LMrLyyGVGq9WJpPBYKh9gcXHxwdubm6IjY0V5xcXFyMhIQHBwcEAgODgYBQW\n",
              "FiIxMVFsc+jQIRgMBmg0GrFNXFwcqqurxTYxMTHw8/ODo6Oj2Obu7dS1qdtOfQqFAnZ2dkZ/RERE\n",
              "RERtwVImxYieznhrch8cen0MDr02Gm9NCsCInl1hIZXgt+tl+CzuIv70fz9D3wHexWj1OxZTpkzB\n",
              "e++9B7Vajb59+yI5ORkffvgh5s6dC6D2dtCiRYvwt7/9Db169RKHm/Xw8MC0adMAAAEBAXjyySfx\n",
              "pz/9CZs3b0Z1dTUWLFiAmTNnwsPDAwAwe/ZsrFy5EvPmzcOSJUtw5swZfPzxx1i3bp3Yl4ULF2L0\n",
              "6NH45z//iUmTJmH79u34+eef8dlnn7X2bhMRERERtUgPFxv0cLHBH0f2QHFFNX769QYOZeigsJRC\n",
              "btH+K3y3+nCzJSUlWL58OXbt2gWdTgcPDw/MmjULb7/9tjiCkyAIWLFiBT777DMUFhbi8ccfx8aN\n",
              "G9G7d29xPfn5+ViwYAH27NkDqVSK6dOnY/369bCxsRHbpKamYv78+Th9+jScnZ3x6quvYsmSJUb9\n",
              "iY6OxltvvYVLly6hV69eWLt2LSZOnNikfeFws0RERERETdPqwaIzYbAgIiIiImqa9n9PhYiIiIiI\n",
              "2r1Wf8eiM6m7mcN6FkRERET0KLO1tYVEYnpUKgYLE0pKSgCAQ84SERER0SOtKa8G8B0LEwwGA65e\n",
              "vdqkhNZW6mppXL58me95PAAev5bh8Ws5HsOW4fFrOR7DluHxaxkev5ZrL8eQdyxaSCqVwtPT09zd\n",
              "AADW1WghHr+W4fFrOR7DluHxazkew5bh8WsZHr+W6wjHkC9vExERERFRizFYEBERERFRizFYtHMK\n",
              "hQIrVqyAQqEwd1c6JB6/luHxazkew5bh8Ws5HsOW4fFrGR6/lutIx5AvbxMRERERUYvxjgURERER\n",
              "EbUYgwUREREREbUYgwUREREREbUYgwUREREREbUYg0U7sGHDBnTv3h1KpRIajQanTp0y2T46Ohr+\n",
              "/v5QKpXo378/9u3b95B62j415/ht27YNEonE6E+pVD7E3rYvcXFxmDJlCjw8PCCRSLB79+77LnPk\n",
              "yBEMHjwYCoUCvr6+2LZtW5v3s71q7vE7cuRIg/NPIpFAq9U+nA63M6tXr8bQoUNha2sLlUqFadOm\n",
              "ITMz877L8Tvwjgc5hvwevGPTpk0YMGCAWHgsODgY+/fvN7kMzz9jzT2GPP9M++CDDyCRSLBo0SKT\n",
              "7drrechgYWbffPMNFi9ejBUrViApKQkDBw5EWFgYdDpdo+1PnDiBWbNmYd68eUhOTsa0adMwbdo0\n",
              "nDlz5iH3vH1o7vEDaitXXrt2TfzLzs5+iD1uX8rKyjBw4EBs2LChSe2zsrIwadIkjB07FikpKVi0\n",
              "aBH++Mc/4uDBg23c0/apucevTmZmptE5qFKp2qiH7dvRo0cxf/58nDx5EjExMaiursb48eNRVlZ2\n",
              "z2X4HWjsQY4hwO/BOp6envjggw+QmJiIn3/+GSEhIZg6dSrOnj3baHuefw019xgCPP/u5fTp09iy\n",
              "ZQsGDBhgsl27Pg8FMqthw4YJ8+fPFz/r9XrBw8NDWL16daPtn3nmGWHSpElG0zQajfDiiy+2aT/b\n",
              "q+Yev61btwr29vYPqXcdCwBh165dJtv89a9/Ffr27Ws0bcaMGUJYWFgb9qxjaMrxO3z4sABAKCgo\n",
              "eCh96mh0Op0AQDh69Og92/A70LSmHEN+D5rm6Ogo/O///m+j83j+NY2pY8jzr3ElJSVCr169hJiY\n",
              "GGH06NHCwoUL79m2PZ+HvGNhRlVVVUhMTERoaKg4TSqVIjQ0FPHx8Y0uEx8fb9QeAMLCwu7ZvjN7\n",
              "kOMHAKWlpfD29oaXl9d9f1UhYzz/WkdgYCDc3d3xxBNP4Pjx4+buTrtRVFQEAHBycrpnG56DpjXl\n",
              "GAL8HmyMXq/H9u3bUVZWhuDg4Ebb8PwzrSnHEOD515j58+dj0qRJDc6vxrTn85DBwoxu3LgBvV4P\n",
              "V1dXo+murq73fOZaq9U2q31n9iDHz8/PD//617/w3Xff4auvvoLBYMCIESOQm5v7MLrc4d3r/Csu\n",
              "LsatW7fM1KuOw93dHZs3b8a3336Lb7/9Fl5eXhgzZgySkpLM3TWzMxgMWLRoER577DH069fvnu34\n",
              "HXhvTT2G/B40lpaWBhsbGygUCrz00kvYtWsX+vTp02hbnn+Na84x5PnX0Pbt25GUlITVq1c3qX17\n",
              "Pg8tzN0BoocpODjY6FeUESNGICAgAFu2bMGqVavM2DN6FPj5+cHPz0/8PGLECPz2229Yt24d/v3v\n",
              "f5uxZ+Y3f/58nDlzBseOHTN3Vzqsph5Dfg8a8/PzQ0pKCoqKirBz505ERETg6NGj97wwpoaacwx5\n",
              "/hm7fPkyFi5ciJiYmE7xEjuDhRk5OztDJpMhLy/PaHpeXh7c3NwaXcbNza1Z7TuzBzl+9VlaWmLQ\n",
              "oEG4cOFCW3Sx07nX+WdnZwcrKysz9apjGzZs2CN/Mb1gwQLs3bsXcXFx8PT0NNmW34GNa84xrO9R\n",
              "/x6Uy+Xw9fUFAAQFBeH06dP4+OOPsWXLlgZtef41rjnHsL5H/fxLTEyETqfD4MGDxWl6vR5xcXH4\n",
              "9NNPUVlZCZlMZrRMez4P+SiUGcnlcgQFBSE2NlacZjAYEBsbe89nE4ODg43aA0BMTIzJZxk7qwc5\n",
              "fvXp9XqkpaXB3d29rbrZqfD8a30pKSmP7PknCAIWLFiAXbt24dChQ/Dx8bnvMjwHjT3IMayP34PG\n",
              "DAYDKisrG53H869pTB3D+h7182/cuHFIS0tDSkqK+DdkyBCEh4cjJSWlQagA2vl5aO63xx9127dv\n",
              "FxQKhbBt2zbh3LlzwgsvvCA4ODgIWq1WEARBePbZZ4WlS5eK7Y8fPy5YWFgI//jHP4T09HRhxYoV\n",
              "gqWlpZCWlmauXTCr5h6/lStXCgcPHhR+++03ITExUZg5c6agVCqFs2fPmmsXzKqkpERITk4WkpOT\n",
              "BQDChx9+KCQnJwvZ2dmCIAjC0qVLhWeffVZsf/HiRaFLly7CG2+8IaSnpwsbNmwQZDKZcODAAXPt\n",
              "glk19/itW7dO2L17t3D+/HkhLS1NWLhwoSCVSoUff/zRXLtgVi+//LJgb28vHDlyRLh27Zr4V15e\n",
              "Lrbhd6BpD3IM+T14x9KlS4WjR48KWVlZQmpqqrB06VJBIpEI//3vfwVB4PnXFM09hjz/7q/+qFAd\n",
              "6TxksGgHPvnkE0GtVgtyuVwYNmyYcPLkSXHe6NGjhYiICKP2O3bsEHr37i3I5XKhb9++wg8//PCQ\n",
              "e9y+NOf4LVq0SGzr6uoqTJw4UUhKSjJDr9uHuuFP6//VHbOIiAhh9OjRDZYJDAwU5HK50KNHD2Hr\n",
              "1q0Pvd/tRXOP35o1a4SePXsKSqVScHJyEsaMGSMcOnTIPJ1vBxo7dgCMzil+B5r2IMeQ34N3zJ07\n",
              "V/D29hbkcrng4uIijBs3TrwgFgSef03R3GPI8+/+6geLjnQeSgRBEB7e/REiIiIiIuqM+I4FERER\n",
              "ERG1GIMFERERERG1GIMFERERERG1GIMFERERERG1GIMFERERERG1GIMFERERERG1GIMFERERERG1\n",
              "GIMFERERERG1GIMFERERERG1GIMFERERERG1GIMFERERERG1GIMFERERERG12P8HIOhY4+G+aiIA\n",
              "AAAASUVORK5CYII=\n",
              "\">\n",
              "        <script></script>"
            ],
            "text/plain": [
              "<google.colab._quickchart_lib.MplChart at 0x7dfe455f3850>"
            ]
          },
          "metadata": {},
          "execution_count": 220
        }
      ]
    },
    {
      "cell_type": "code",
      "source": [
        "def scatter_plots(df, colname_pairs, figscale=1, alpha=.8):\n",
        "  plt.figure(figsize=(len(colname_pairs) * 2.9 * figscale, 3 * figscale))\n",
        "  for plot_i, (x_colname, y_colname) in enumerate(colname_pairs, start=1):\n",
        "    ax = plt.subplot(1, len(colname_pairs), plot_i)\n",
        "    df.plot(kind='scatter', x=x_colname, y=y_colname, s=(22 * figscale), alpha=alpha, ax=ax)\n",
        "    ax.spines[['top', 'right',]].set_visible(False)\n",
        "  plt.tight_layout()\n",
        "  return autoviz.MplChart.from_current_mpl_state()\n",
        "\n",
        "chart = scatter_plots(_df_49, *[[['CreditScore', 'Age'], ['Age', 'Tenure'], ['Tenure', 'Balance'], ['Balance', 'NumOfProducts']]], **{})\n",
        "chart"
      ],
      "metadata": {
        "colab": {
          "base_uri": "https://localhost:8080/",
          "height": 311
        },
        "id": "V3H72KcdNeBV",
        "outputId": "73213238-283e-4f6e-c569-2e6684b1337c"
      },
      "execution_count": null,
      "outputs": [
        {
          "output_type": "execute_result",
          "data": {
            "text/html": [
              "<img src=\"data:image/png;base64,iVBORw0KGgoAAAANSUhEUgAABH0AAAEiCAYAAABk9q4xAAAAOXRFWHRTb2Z0d2FyZQBNYXRwbG90\n",
              "bGliIHZlcnNpb24zLjcuMSwgaHR0cHM6Ly9tYXRwbG90bGliLm9yZy/bCgiHAAAACXBIWXMAAA9h\n",
              "AAAPYQGoP6dpAAB1+0lEQVR4nO3de1wUZf8//tdyWhBYEJRTAqIinkBUFNE8fSRR8cCtd6lRYpqm\n",
              "Nx4xU/JcGaaVhzyW3uJdmodSMkuNMDUVFVEUT6SGosmKibCCuhz2+v3hz/m6AQoIDCyv5+Mxj4cz\n",
              "c82175llLmfeO3NdCiGEABERERERERERGRQjuQMgIiIiIiIiIqKKx6QPEREREREREZEBYtKHiIiI\n",
              "iIiIiMgAMelDRERERERERGSAmPQhIiIiIiIiIjJATPoQERERERERERkgJn2IiIiIiIiIiAwQkz5E\n",
              "RERERERERAbI4JM+QghoNBoIIeQOhYiIbRIRVTtsl4ioOmGbRFSxDD7pc//+fdjY2OD+/ftyh0JE\n",
              "xDaJiKodtktEVJ2wTSKqWAaf9CEiIiIiIiIiqo2Y9CEiIiIiIiIiMkBM+hARERERERERGSAmfYiI\n",
              "iIiIiIiIDBCTPkREREREREREBqjaJH0WLlwIhUKByZMnS8veeecdNG7cGBYWFqhfvz4GDhyIS5cu\n",
              "yRckUTVVqBM4/udd/JD0F47/eReFOg5xWVkKCwsxe/ZseHh4wMLCAo0bN8aHH37IYUWpUvEcJyJ6\n",
              "MWxHy2716tXw8fGBSqWCSqVCQEAA9uzZ88xttm/fjmbNmsHc3Bze3t74+eefqyhaopqlKtskk0qr\n",
              "uQwSEhKwdu1a+Pj46C1v164dQkND4ebmhszMTMybNw+9evVCamoqjI2NZYqWqHpJu/sAM2OScfl2\n",
              "Dgp0OpgYGcHT0QoLQrzhZl9H7vAMzieffILVq1dj48aNaNmyJU6ePIm33noLNjY2mDhxotzhkQHi\n",
              "OU5E9GLYjpZPgwYNsHDhQnh6ekIIgY0bN2LgwIE4ffo0WrZsWaT80aNHMWzYMERFRaFfv37YvHkz\n",
              "QkJCcOrUKbRq1UqGPSCqnqq6TVIImX+ezsnJQdu2bbFq1Sp89NFH8PX1xdKlS4ste/bsWbRu3RpX\n",
              "rlxB48aNS1W/RqOBjY0NsrOzoVKpKjByIvkV6gRGbDiBi+ka2NUxg9LUGNr8QmQ+yENzZxWi3+oA\n",
              "YyOF3GEalH79+sHR0RHr16+Xlg0ePBgWFhb45ptvnrs92yQqC57jVBXYLpEhYztasezs7LB48WKM\n",
              "GjWqyLohQ4YgNzcXu3fvlpZ17NgRvr6+WLNmTak/g20SGTI52iTZX+8KDw9HcHAwAgMDn1kuNzcX\n",
              "GzZsgIeHB1xdXUssp9VqodFo9CYiQ3XyWiYu386RGgwAUJoaw66OGa5k5ODktUyZIzQ8nTp1Qlxc\n",
              "HP744w8AwJkzZ3D48GH06dOn2PJsk+hF8BwnInoxbEcrRmFhIbZs2YLc3FwEBAQUWyY+Pr7IPV1Q\n",
              "UBDi4+OfWTevlag2kaNNkjXps2XLFpw6dQpRUVElllm1ahWsrKxgZWWFPXv2IDY2FmZmZiWWj4qK\n",
              "go2NjTQ9K0FEVNOpNY9QoNNJDcYTSlNj5BfqoNY8kikywzVjxgwMHToUzZo1g6mpKdq0aYPJkycj\n",
              "NDS02PJsk+hF8BwnInoxbEdfTHJyMqysrKBUKjF27Fjs3LkTLVq0KLasWq2Go6Oj3jJHR0eo1epn\n",
              "fgavlag2kaNNki3pc+PGDUyaNAmbNm2Cubl5ieVCQ0Nx+vRpHDx4EE2bNsVrr72GR49KPhCRkZHI\n",
              "zs6Wphs3blRG+ETVgpPKHCZGRtDmF+ot1+YXwtTYCE6qks8tKp9t27Zh06ZN2Lx5M06dOoWNGzfi\n",
              "008/xcaNG4stzzaJXgTPcSKiF8N29MV4eXkhKSkJx48fx7hx4xAWFoYLFy5U6GfwWolqEznaJNk6\n",
              "ck5MTERGRgbatm0rLSssLMShQ4ewYsUKaLVaGBsbSxlfT09PdOzYEXXr1sXOnTsxbNiwYutVKpVQ\n",
              "KpVVtRtEsvJraAdPR6sS3wn1a2gnd4gGZ9q0adLTPgDg7e2N69evIyoqCmFhYUXKs02iF8FznIjo\n",
              "xbAdfTFmZmZo0qQJgMeD7CQkJGDZsmVYu3ZtkbJOTk64ffu23rLbt2/DycnpmZ/BayWqTeRok2R7\n",
              "0qdnz55ITk5GUlKSNPn5+SE0NBRJSUnFjs4lhIAQAlqtVoaIiaofYyMFFoR4o7mzCve1BUjPfoj7\n",
              "2gI0d1ZhQYg3OyasBA8ePICRkX7TaWxsDJ1OJ1NEZMh4jhMRvRi2oxVLp9OVeC8WEBCAuLg4vWWx\n",
              "sbEl9gFEVBvJ0SbJ9qSPtbV1kaH7LC0tYW9vj1atWuHPP//E1q1b0atXL9SvXx83b97EwoULYWFh\n",
              "gb59+8oUNVH142ZfB9FvdcDJa5lQax7BSWUOv4Z2vIipJP3798eCBQvg5uaGli1b4vTp0/j8888x\n",
              "cuRIuUMjA8VznIjoxbAdLZ/IyEj06dMHbm5uuH//PjZv3owDBw5g3759AIDhw4fjpZdekvpnnTRp\n",
              "Erp164bPPvsMwcHB2LJlC06ePIkvv/xSzt0gqnaquk2SLenzPObm5vj999+xdOlS3Lt3D46Ojuja\n",
              "tSuOHj0KBwcHucMjqlaMjRTwb2Qvdxi1whdffIHZs2fjP//5DzIyMuDi4oJ33nkHc+bMkTs0MmA8\n",
              "x4mIXgzb0bLLyMjA8OHDkZ6eDhsbG/j4+GDfvn145ZVXAABpaWl6Tz936tQJmzdvxqxZs/D+++/D\n",
              "09MTMTExRX7oJ6KqbZMUQghRJZ8kE41GAxsbG2RnZ0OlUskdDhHVcmyTiKi6YbtERNUJ2ySiiiXr\n",
              "kO1ERERERERERFQ5mPQhIiIiesqhQ4fQv39/uLi4QKFQICYmRm/9iBEjoFAo9KbevXvrlcnMzERo\n",
              "aChUKhVsbW0xatQo5OTk6JU5e/YsunTpAnNzc7i6umLRokVFYtm+fTuaNWsGc3NzeHt74+eff9Zb\n",
              "L4TAnDlz4OzsDAsLCwQGBuLy5csVcyCIiIioxmPSh4iIiOgpubm5aN26NVauXFlimd69eyM9PV2a\n",
              "vv32W731oaGhOH/+PGJjY7F7924cOnQIY8aMkdZrNBr06tUL7u7uSExMxOLFizFv3jy9Dk+PHj2K\n",
              "YcOGYdSoUTh9+jRCQkIQEhKCc+fOSWUWLVqE5cuXY82aNTh+/DgsLS0RFBSER48eVeARISIiopqK\n",
              "ffoQEVUhtklENYtCocDOnTsREhIiLRsxYgSysrKKPAH0xMWLF9GiRQskJCTAz88PALB371707dsX\n",
              "N2/ehIuLC1avXo2ZM2dCrVbDzMwMADBjxgzExMTg0qVLAIAhQ4YgNzcXu3fvluru2LEjfH19sWbN\n",
              "Gggh4OLigqlTp+Ldd98FAGRnZ8PR0RHR0dEYOnRoqfaR7RIRVSdsk4gqFp/0ISIiIiqjAwcOwMHB\n",
              "AV5eXhg3bhzu3r0rrYuPj4etra2U8AGAwMBAGBkZ4fjx41KZrl27SgkfAAgKCkJKSgru3bsnlQkM\n",
              "DNT73KCgIMTHxwMAUlNToVar9crY2NjA399fKkNERES1W7Udsp2IiIioOurduzcGDRoEDw8PXL16\n",
              "Fe+//z769OmD+Ph4GBsbQ61Ww8HBQW8bExMT2NnZQa1WAwDUajU8PDz0yjg6Okrr6tatC7VaLS17\n",
              "uszTdTy9XXFliqPVaqHVaqV5jUZTlt0nIiKiGoRJHyIiIqIyePq1KW9vb/j4+KBx48Y4cOAAevbs\n",
              "KWNkpRMVFYX58+fLHQYRERFVAb7eRURERPQCGjVqhHr16uHKlSsAACcnJ2RkZOiVKSgoQGZmJpyc\n",
              "nKQyt2/f1ivzZP55ZZ5e//R2xZUpTmRkJLKzs6Xpxo0bZdpfIiIiqjmY9CEiIiJ6ATdv3sTdu3fh\n",
              "7OwMAAgICEBWVhYSExOlMvv374dOp4O/v79U5tChQ8jPz5fKxMbGwsvLC3Xr1pXKxMXF6X1WbGws\n",
              "AgICAAAeHh5wcnLSK6PRaHD8+HGpTHGUSiVUKpXeRERERIaJSR8iIiKip+Tk5CApKQlJSUkAHneY\n",
              "nJSUhLS0NOTk5GDatGk4duwYrl27hri4OAwcOBBNmjRBUFAQAKB58+bo3bs3Ro8ejRMnTuDIkSMY\n",
              "P348hg4dChcXFwDA66+/DjMzM4waNQrnz5/H1q1bsWzZMkREREhxTJo0CXv37sVnn32GS5cuYd68\n",
              "eTh58iTGjx8P4PHIYpMnT8ZHH32EXbt2ITk5GcOHD4eLi4veaGNERERUe7FPHyIiIqKnnDx5Ej16\n",
              "9JDmnyRiwsLCsHr1apw9exYbN25EVlYWXFxc0KtXL3z44YdQKpXSNps2bcL48ePRs2dPGBkZYfDg\n",
              "wVi+fLm03sbGBr/88gvCw8PRrl071KtXD3PmzMGYMWOkMp06dcLmzZsxa9YsvP/++/D09ERMTAxa\n",
              "tWollXnvvfeQm5uLMWPGICsrCy+//DL27t0Lc3PzyjxEREREVEMohBBC7iAqk0ajgY2NDbKzs/n4\n",
              "MhHJjm0SEVU3bJeIqDphm0RUsfh6FxERERERERGRAWLSh4iIiIiIiIjIADHpQ0RERERERERkgJj0\n",
              "ISIiIiIiIiIyQEz6EBEREREREREZICZ9iIiIiIiIiIgMEJM+RERl0LBhQygUiiJTeHi43KERERER\n",
              "ERHpMZE7ACKimiQhIQGFhYXS/Llz5/DKK6/g1VdflTEqIiIiIiKiopj0ISIqg/r16+vNL1y4EI0b\n",
              "N0a3bt1kioiIiIiIiKh4fL2LiKic8vLy8M0332DkyJFQKBRyh0NERERERKSHT/oQEZVTTEwMsrKy\n",
              "MGLEiBLLaLVaaLVaaV6j0VRBZERERERERHzSh4io3NavX48+ffrAxcWlxDJRUVGwsbGRJldX1yqM\n",
              "kIiIiIiIajMmfYiIyuH69ev49ddf8fbbbz+zXGRkJLKzs6Xpxo0bVRQhERERERHVdny9i4ioHDZs\n",
              "2AAHBwcEBwc/s5xSqYRSqayiqIiIiIiIiP4fPulDRFRGOp0OGzZsQFhYGExMmDsnIiIiIqLqiUkf\n",
              "IqIy+vXXX5GWloaRI0fKHQoREREREVGJ+BM1EVEZ9erVC0IIucMgIiIiIiJ6Jj7pQ0RERERERERk\n",
              "gJj0ISIiIiIiIiIyQEz6EBEREREREREZICZ9iIiIiIiIiIgMEDtyJiIiIiJZFeoETl7LhFrzCE4q\n",
              "c/g1tIOxkULusIiIiGo8PulDRERE9JRDhw6hf//+cHFxgUKhQExMjLQuPz8f06dPh7e3NywtLeHi\n",
              "4oLhw4fj1q1benU0bNgQCoVCb1q4cKFembNnz6JLly4wNzeHq6srFi1aVCSW7du3o1mzZjA3N4e3\n",
              "tzd+/vlnvfVCCMyZMwfOzs6wsLBAYGAgLl++XHEHowqk3X2AERtOYNKWJHy4+wImbUnCiA0nkHb3\n",
              "gdyhERER1XhM+hARERE9JTc3F61bt8bKlSuLrHvw4AFOnTqF2bNn49SpU9ixYwdSUlIwYMCAImU/\n",
              "+OADpKenS9OECROkdRqNBr169YK7uzsSExOxePFizJs3D19++aVU5ujRoxg2bBhGjRqF06dPIyQk\n",
              "BCEhITh37pxUZtGiRVi+fDnWrFmD48ePw9LSEkFBQXj06FEFH5XKUagTmBmTjIvpGqjMTeBsYwGV\n",
              "uQkupmswMyYZhTohd4hEREQ1mkIIYdD/m2o0GtjY2CA7OxsqlUrucIiolmObRFSzKBQK7Ny5EyEh\n",
              "ISWWSUhIQIcOHXD9+nW4ubkBePykz+TJkzF58uRit1m9ejVmzpwJtVoNMzMzAMCMGTMQExODS5cu\n",
              "AQCGDBmC3Nxc7N69W9quY8eO8PX1xZo1ayCEgIuLC6ZOnYp3330XAJCdnQ1HR0dER0dj6NChpdpH\n",
              "Odul43/exaQtSVCZm0Bpaiwt1+YX4r62AEuH+MK/kX2VxkRE8uK1ElHF4pM+RERERC8gOzsbCoUC\n",
              "tra2essXLlwIe3t7tGnTBosXL0ZBQYG0Lj4+Hl27dpUSPgAQFBSElJQU3Lt3TyoTGBioV2dQUBDi\n",
              "4+MBAKmpqVCr1XplbGxs4O/vL5UpjlarhUaj0ZvkotY8QoFOp5fwAQClqTHyC3VQa2rGE0tERETV\n",
              "FTtyJiIiIiqnR48eYfr06Rg2bJjeL9ITJ05E27ZtYWdnh6NHjyIyMhLp6en4/PPPAQBqtRoeHh56\n",
              "dTk6Okrr6tatC7VaLS17uoxarZbKPb1dcWWKExUVhfnz55dzjyuWk8ocJkZG0OYXFnnSx9TYCE4q\n",
              "cxmjIyIiqvmY9CEiIiIqh/z8fLz22msQQmD16tV66yIiIqR/+/j4wMzMDO+88w6ioqKgVCqrOlQ9\n",
              "kZGRevFpNBq4urrKEotfQzt4OlrhYroGdnXMoDQ1hja/EJkP8tDcWQW/hnayxEVERGQoqs3rXQsX\n",
              "LoRCoZDefc/MzMSECRPg5eUFCwsLuLm5YeLEicjOzpY3UCIiIqr1niR8rl+/jtjY2Of2O+Hv74+C\n",
              "ggJcu3YNAODk5ITbt2/rlXky7+Tk9MwyT69/erviyhRHqVRCpVLpTXIxNlJgQYg3mjurcF9bgPTs\n",
              "h7ivLUBzZxUWhHhz2HYiGUVFRaF9+/awtraGg4MDQkJCkJKS8sxtoqOji4xcaG7OJ/aI5FQtnvRJ\n",
              "SEjA2rVr4ePjIy27desWbt26hU8//RQtWrTA9evXMXbsWNy6dQvfffddhX12oU7g5LVMqDWP4KQy\n",
              "h19DO4O+wKht+0tERFTRniR8Ll++jN9++w329s/vaDgpKQlGRkZwcHAAAAQEBGDmzJnIz8+Hqakp\n",
              "ACA2NhZeXl6oW7euVCYuLk6vM+jY2FgEBAQAADw8PODk5IS4uDj4+voCePzUzvHjxzFu3LgK3OPK\n",
              "5WZfB9FvdeD1CVE1c/DgQYSHh6N9+/YoKCjA+++/j169euHChQuwtLQscTuVSqWXHFIoeC4TyUn2\n",
              "pE9OTg5CQ0Px1Vdf4aOPPpKWt2rVCt9//70037hxYyxYsABvvPEGCgoKYGLy4qGn3X2AmTHJuHw7\n",
              "BwU6HUyMjODpaIUFId5ws6/zwvVXN7Vtf4mIiMojJycHV65ckeZTU1ORlJQEOzs7ODs749///jdO\n",
              "nTqF3bt3o7CwUOo/x87ODmZmZoiPj8fx48fRo0cPWFtbIz4+HlOmTMEbb7whJXRef/11zJ8/H6NG\n",
              "jcL06dNx7tw5LFu2DEuWLJE+d9KkSejWrRs+++wzBAcHY8uWLTh58qQ0rPuTJ6Q/+ugjeHp6wsPD\n",
              "A7Nnz4aLi8szRxurjoyNFByli6ia2bt3r958dHQ0HBwckJiYiK5du5a4nUKheObThkRUtWR/vSs8\n",
              "PBzBwcFFRqcozpNh+yoi4VOoE5gZk4yL6RqozE3gbGMBlbkJLqZrMDMmGYU6wxrJvrbtLxERUXmd\n",
              "PHkSbdq0QZs2bQA87p+nTZs2mDNnDv766y/s2rULN2/ehK+vL5ydnaXp6NGjAB6/PrVlyxZ069YN\n",
              "LVu2xIIFCzBlyhQpWQM8HmXrl19+QWpqKtq1a4epU6dizpw5GDNmjFSmU6dO2Lx5M7788ku0bt0a\n",
              "3333HWJiYtCqVSupzHvvvYcJEyZgzJgxaN++PXJycrB3716+TkFEFe5JNxt2ds/uaysnJwfu7u5w\n",
              "dXXFwIEDcf78+aoIj4hKoBBCyHa3v2XLFixYsAAJCQkwNzdH9+7d4evri6VLlxYp+/fff6Ndu3Z4\n",
              "4403sGDBghLr1Gq10Gq10vyTzgmfJIyeOP7nXUzakgSVuUmR0SLuawuwdIivQf3iVNv2l6i60mg0\n",
              "sLGxKdImERHJhe0SET2PTqfDgAEDkJWVhcOHD5dYLj4+HpcvX4aPjw+ys7Px6aef4tChQzh//jwa\n",
              "NGhQ7DalvX8jovKR7UmfGzduYNKkSdi0adNzf43SaDQIDg5GixYtMG/evGeWjYqKgo2NjTSVNBqF\n",
              "WvMIBTqdXgIEAJSmxsgv1EGteVSm/anuatv+EhERERFRxQgPD8e5c+ewZcuWZ5YLCAjA8OHD4evr\n",
              "i27dumHHjh2oX78+1q5dW+I2pb1/I6LykS3pk5iYiIyMDLRt2xYmJiYwMTHBwYMHsXz5cpiYmKCw\n",
              "sBAAcP/+ffTu3RvW1tbYuXOn1NlhSSIjI5GdnS1NN27cKLack8ocJkZG0OYX6i3X5hfC1NgITirD\n",
              "eiy6tu0vEREREVFttXfvXr0nclauXAlfX1+8/vrruHfvXpnqGj9+PHbv3o3ffvutxKd1SmJqaoo2\n",
              "bdro9ZP2T6W9fyOi8pEt6dOzZ08kJycjKSlJmvz8/BAaGoqkpCQYGxtDo9GgV69eMDMzw65du0r1\n",
              "fnpphyH1a2gHT0crZD7IkxIh2vxCZD7IQxMHK/g1fPa7qjVNbdtfIiIiIqLaatq0adBoNACA5ORk\n",
              "TJ06FX379kVqaioiIiJKVYcQAuPHj8fOnTuxf/9+eHh4lDmOwsJCJCcnw9nZucQypb1/I6LykS3p\n",
              "Y21tjVatWulNlpaWsLe3R6tWraSET25uLtavXw+NRgO1Wg21Wi09BfQijI0UWBDijebOKtzXFiA9\n",
              "+yHuawvQ3FmFBSHeBjdMaG3bX6LK9Ndff+GNN96Avb09LCws4O3tjZMnT8odFhERERGAx6MOtmjR\n",
              "AgDw/fffo1+/fvj444+xcuVK7Nmzp1R1hIeH45tvvsHmzZthbW0t3Ys9fPhQKjN8+HBERkZK8x98\n",
              "8AF++eUX/Pnnnzh16hTeeOMNXL9+HW+//XbF7iARlZrsQ7aX5NSpUzh+/DgAoEmTJnrrUlNT0bBh\n",
              "wxf+DDf7Ooh+qwNOXsuEWvMITipz+DW0M9gESG3bX6LKcO/ePXTu3Bk9evTAnj17UL9+fVy+fFka\n",
              "hpmIiIhIbmZmZnjw4AEA4Ndff8Xw4cMBPB5568kTQM+zevVqAED37t31lm/YsAEjRowAAKSlpcHI\n",
              "6P89R3Dv3j2MHj0aarUadevWRbt27XD06FEpAUVEVU/W0buqAkekIKKKNGPGDBw5cgS///57ubZn\n",
              "m0RE1Q3bJSLDM2DAAOTl5aFz58748MMPkZqaipdeegm//PILxo8fjz/++EPuEEvENomoYsn2ehcR\n",
              "UU20a9cu+Pn54dVXX4WDgwPatGmDr776qsTyWq0WGo1GbyIiIiKqTCtWrICJiQm+++47rF69Gi+9\n",
              "9BIAYM+ePejdu7fM0RFRVeKTPkREZfCkQ/mIiAi8+uqrSEhIwKRJk7BmzRqEhYUVKT9v3jzMnz+/\n",
              "yHK2SURUXfBaiYiqE7ZJRBWLSR8iojIwMzODn58fjh49Ki2bOHEiEhISEB8fX6S8VquFVquV5jUa\n",
              "DVxdXdkmEVG1wWslIsNjbGyM9PR0ODg46C2/e/cuHBwcKmRgnMrCNomoYvH1LiKiMnB2di7SGWHz\n",
              "5s2RlpZWbHkOQ0pERERVraTf9bVaLczMzKo4GiKSU7UdvYuIqDrq3LkzUlJS9Jb98ccfcHd3lyki\n",
              "IiIioseWL18OAFAoFFi3bh2srKykdYWFhTh06BCaNWsmV3hEJAMmfYiIymDKlCno1KkTPv74Y7z2\n",
              "2ms4ceIEvvzyS3z55Zdyh0ZERES13JIlSwA8ftJnzZo1MDY2ltaZmZmhYcOGWLNmjVzhEZEMmPQh\n",
              "IiqD9u3bY+fOnYiMjMQHH3wADw8PLF26FKGhoXKHRkRERLVcamoqAKBHjx7YsWMH6tatK3NERCQ3\n",
              "Jn2IiMqoX79+6Nevn9xhEBERERXrt99+kzsEIqom2JEzERERERGRARk8eDA++eSTIssXLVqEV199\n",
              "VYaIiEguTPoQEREREREZkEOHDqFv375Flvfp0weHDh2SISIikguTPkRERERERAYkJyen2KHZTU1N\n",
              "odFoZIiIiOTCpA8REREREZEB8fb2xtatW4ss37JlC1q0aCFDREQkF3bkTEREREREZEBmz56NQYMG\n",
              "4erVq/i///s/AEBcXBy+/fZbbN++XeboiKgqMelDRERERERkQPr374+YmBh8/PHH+O6772BhYQEf\n",
              "Hx/8+uuv6Natm9zhEVEVYtKHiIiIiIjIwAQHByM4OFjuMIhIZuzTh4iIiOgphw4dQv/+/eHi4gKF\n",
              "QoGYmBi99UIIzJkzB87OzrCwsEBgYCAuX76sVyYzMxOhoaFQqVSwtbXFqFGjkJOTo1fm7Nmz6NKl\n",
              "C8zNzeHq6opFixYViWX79u1o1qwZzM3N4e3tjZ9//rnMsRAREVHtxaQPERER0VNyc3PRunVrrFy5\n",
              "stj1ixYtwvLly7FmzRocP34clpaWCAoKwqNHj6QyoaGhOH/+PGJjY7F7924cOnQIY8aMkdZrNBr0\n",
              "6tUL7u7uSExMxOLFizFv3jx8+eWXUpmjR49i2LBhGDVqFE6fPo2QkBCEhITg3LlzZYqFiGofIyMj\n",
              "GBsblzgRUe2hEEIIuYOoTBqNBjY2NsjOzoZKpZI7HCKq5dgmEdUsCoUCO3fuREhICIDHT9a4uLhg\n",
              "6tSpePfddwEA2dnZcHR0RHR0NIYOHYqLFy+iRYsWSEhIgJ+fHwBg79696Nu3L27evAkXFxesXr0a\n",
              "M2fOhFqtloZVnjFjBmJiYnDp0iUAwJAhQ5Cbm4vdu3dL8XTs2BG+vr5Ys2ZNqWIpDbZLRIbnhx9+\n",
              "0JvPz8/H6dOnsXHjRsyfPx+jRo2SKbLnY5tEVLH4pA8RERFRKaWmpkKtViMwMFBaZmNjA39/f8TH\n",
              "xwMA4uPjYWtrKyV8ACAwMBBGRkY4fvy4VKZr165SwgcAgoKCkJKSgnv37kllnv6cJ2WefE5pYimO\n",
              "VquFRqPRm4jIsAwcOFBv+ve//40FCxZg0aJF2LVrl9zhEVEVYtKHiIiIqJTUajUAwNHRUW+5o6Oj\n",
              "tE6tVsPBwUFvvYmJCezs7PTKFFfH059RUpmn1z8vluJERUXBxsZGmlxdXZ+z10RkKDp27Ii4uDi5\n",
              "wyCiKsSkDxEREVEtEhkZiezsbGm6ceOG3CERURV4+PAhli9fjpdeeknuUIioCjHpQ0RERAbj66+/\n",
              "RufOneHi4oLr168DAJYuXVqkf4vycnJyAgDcvn1bb/nt27eldU5OTsjIyNBbX1BQgMzMTL0yxdXx\n",
              "9GeUVObp9c+LpThKpRIqlUpvIiLDUrduXdjZ2UlT3bp1YW1tjf/+979YvHix3OERURVi0oeIiIgM\n",
              "wurVqxEREYG+ffsiKysLhYWFAABbW1ssXbq0Qj7Dw8MDTk5Oeq9HaDQaHD9+HAEBAQCAgIAAZGVl\n",
              "ITExUSqzf/9+6HQ6+Pv7S2UOHTqE/Px8qUxsbCy8vLxQt25dqcw/X8OIjY2VPqc0sRBR7bRkyRK9\n",
              "afny5di9ezeuX7+OAQMGyB0eEVUhE7kDICKqCgUFBThw4ACuXr2K119/HdbW1rh16xZUKhWsrKzk\n",
              "Do+IKsAXX3yBr776CiEhIVi4cKG03M/PTxrdqjRycnJw5coVaT41NRVJSUmws7ODm5sbJk+ejI8+\n",
              "+gienp7w8PDA7Nmz4eLiIo3w1bx5c/Tu3RujR4/GmjVrkJ+fj/Hjx2Po0KFwcXEBALz++uvSCDrT\n",
              "p0/HuXPnsGzZMixZskT63EmTJqFbt2747LPPEBwcjC1btuDkyZPSsO4KheK5sRBR7TRixAi5QyCi\n",
              "aoJJHyIyeNevX0fv3r2RlpYGrVaLV155BdbW1vjkk0+g1WqxZs0auUMkogqQmpqKNm3aFFmuVCqR\n",
              "m5tb6npOnjyJHj16SPMREREAgLCwMERHR+O9995Dbm4uxowZg6ysLLz88svYu3cvzM3NpW02bdqE\n",
              "8ePHo2fPnjAyMsLgwYOxfPlyab2NjQ1++eUXhIeHo127dqhXrx7mzJmDMWPGSGU6deqEzZs3Y9as\n",
              "WXj//ffh6emJmJgYtGrVSipTmliIqHY4e/Zsqcv6+PhUYiREVJ0ohBBC7iAqk0ajgY2NDbKzs/nO\n",
              "OlEtFRISAmtra6xfvx729vY4c+YMGjVqhAMHDmD06NG4fPlylcXCNomo8rRo0QJRUVEYOHAgrK2t\n",
              "pXP9iy++wIYNG3Dq1Cm5Q6yW2C4RGQYjIyMoFAo8ub1TKBQlln3y+mt1xDaJqGLxSR8iMni///47\n",
              "jh49CjMzM73lDRs2xF9//VWmuubNm4f58+frLfPy8sKlS5deOE4iejEREREIDw/Ho0ePIITAiRMn\n",
              "8O233yIqKgrr1q2TOzwiokqVmpoq/fv06dN49913MW3aNKmPr/j4eHz22WdYtGiRXCESkQyY9CEi\n",
              "g6fT6Yr9RevmzZuwtrYuc30tW7bEr7/+Ks2bmLApJaoO3n77bVhYWGDWrFl48OABXn/9dbi4uGDZ\n",
              "smUYOnSo3OEREVUqd3d36d+vvvoqli9fjr59+0rLfHx84OrqitmzZ7PfL6JahHcqRGTwevXqhaVL\n",
              "l+p1fpqTk4O5c+fqXQyVlomJyTOHQyYi+YSGhiI0NBQPHjxATk4OHBwc5A6JiKjKJScnw8PDo8hy\n",
              "Dw8PXLhwQYaIiEguHLKdiAzep59+iiNHjqBFixZ49OgRXn/9denVrk8++aTM9V2+fBkuLi5o1KgR\n",
              "QkNDkZaWVglRE1FZpaamSn101alTR0r4XL58GdeuXZMxMiKiqtW8eXNERUUhLy9PWpaXl4eoqCg0\n",
              "b95cxsiIqKrxSR8iMniurq44c+YMtm7dijNnziAnJwejRo1CaGgoLCwsylSXv78/oqOj4eXlhfT0\n",
              "dMyfPx9dunTBuXPnin1VTKvVQqvVSvMajeaF94eIijdixAiMHDkSnp6eesuPHz+OdevW4cCBA/IE\n",
              "RkRUxdasWYP+/fujQYMG0khdZ8+ehUKhwI8//ihzdERUlTh6FxEZtPz8fDRr1gy7d++ulF+2srKy\n",
              "4O7ujs8//xyjRo0qsr64jp8BsE0iqgQqlQqnTp1CkyZN9JZfuXIFfn5+yMrKkiewao7XSkSGKTc3\n",
              "F5s2bZIGm2jevDlef/11WFpayhzZs7FNIqpYfNKHiAyaqakpHj16VGn129raomnTprhy5Uqx6yMj\n",
              "IxERESHNazQauLq6Vlo8RLWZQqHA/fv3iyzPzs6u1sMTExFVBktLS4wZM0buMIhIZuzTh4gMXnh4\n",
              "OD755BMUFBRUeN05OTm4evUqnJ2di12vVCqhUqn0JiKqHF27dkVUVJRegqewsBBRUVF4+eWXZYyM\n",
              "iKjqXb16FRMmTEBgYCACAwMxadIkXL16Ve6wiKiKlftJn7y8PKSmpqJx48YcrpiIqrWEhATExcXh\n",
              "l19+gbe3d5HHmnfs2FHqut599130798f7u7uuHXrFubOnQtjY2MMGzasosMmojL65JNP0LVrV3h5\n",
              "eaFLly4AgN9//x0ajQb79++XOToioqqzb98+DBgwAL6+vujcuTMA4MiRI1i7di1+/PFHvPLKKzJH\n",
              "SERVpczZmgcPHmDChAnYuHEjAOCPP/5Ao0aNMGHCBLz00kuYMWNGhQdJRPQibG1tMXjw4Aqp6+bN\n",
              "mxg2bBju3r2L+vXr4+WXX8axY8dQv379CqmfiMqvRYsWOHv2LFasWIEzZ87AwsICw4cPx/jx42Fn\n",
              "Zyd3eEREVWbGjBmYMmUKFi5cWGT59OnTmfQhqkXK3JHzpEmTcOTIESxduhS9e/fG2bNn0ahRI/zw\n",
              "ww+YN28eTp8+XVmxlgs7AiOi6oRtEhFVN89qlwp1AievZUKteQQnlTn8GtrB2EghU6REVFrm5uZI\n",
              "Tk4uMprhH3/8AR8fn0rt7/BF8VqJqGKV+UmfmJgYbN26FR07doRC8f/+02/ZsiXfESUiIiJZZWVl\n",
              "4cSJE8jIyIBOp9NbN3z4cJmiqpnS7j7AzJhkXL6dgwKdDiZGRvB0tMKCEG+42deROzwieob69esj\n",
              "KSmpSNInKSkJDg4OMkVFRHIoc9Lnzp07xTYUubm5ekkgIqLqwsPD45nt059//lmF0RBRZfnxxx8R\n",
              "GhqKnJwcqFQqvfNeoVAw6VMGhTqBmTHJuJiugV0dMyhNjaHNL8TFdA1mxiQj+q0OfOKHqBobPXo0\n",
              "xowZgz///BOdOnUC8LhPn08++URvVFEiMnxlTvr4+fnhp59+woQJEwBAuqBat24dAgICKjY6IqIK\n",
              "MHnyZL35/Px8nD59Gnv37sW0adPkCYqIKtzUqVMxcuRIfPzxx6hTh0+ivIiT1zJx+XaOlPABAKWp\n",
              "MezqmOFKRg5OXsuEfyN7maMkopLMnj0b1tbW+OyzzxAZGQkAcHFxwbx58zBx4kSZoyOiqlTmpM/H\n",
              "H3+MPn364MKFCygoKMCyZctw4cIFHD16FAcPHqyMGImIXsikSZOKXb5y5UqcPHmyiqMhosry119/\n",
              "YeLEiUz4VAC15hEKdDop4fOE0tQYmQ/yoNZU3/5AiGq7goICbN68Ga+//jqmTJmC+/fvAwCsra1l\n",
              "joyI5GBU1g1efvllJCUloaCgAN7e3vjll1/g4OCA+Ph4tGvXrtyBLFy4EAqFQu8X+S+//BLdu3eX\n",
              "HtHOysoqd/21TaFO4Pifd/FD0l84/uddFOrK1F83Ua3Qp08ffP/993KHQUQVJCgoiIncCuKkMoeJ\n",
              "kRG0+YV6y7X5hTA1NoKTylymyIjoeUxMTDB27Fips2Zra+tyJXyioqLQvn17WFtbw8HBASEhIUhJ\n",
              "SXnudtu3b0ezZs1gbm4Ob29v/Pzzz2X+7GfhfQ5R2ZT5SR8AaNy4Mb766qsKCyIhIQFr166Fj4+P\n",
              "3vIHDx6gd+/e6N27t/RYIj0fO14kKp3vvvuOwzgTGZDg4GBMmzYNFy5cgLe3N0xNTfXWDxgwQKbI\n",
              "ah6/hnbwdLQq0qdP5oM8NHdWwa8h206i6qxDhw44ffo03N3dy13HwYMHER4ejvbt26OgoADvv/8+\n",
              "evXqhQsXLsDS0rLYbY4ePYphw4YhKioK/fr1w+bNmxESEoJTp06hVatW5Y7lCd7nEJVdmYds12g0\n",
              "xVekUECpVMLMzKxMAeTk5KBt27ZYtWoVPvroI/j6+mLp0qV6ZQ4cOIAePXrg3r17sLW1LVP9tW3I\n",
              "v0KdwIgNJ0q8SGPHi1QbtWnTRq9DVyEE1Go17ty5g1WrVmHMmDFVFktta5OIqpKRUckPMCsUChQW\n",
              "Fpa4vjYrqV16cnN1JSMH+YU6mBoboYkDb66IaoJt27YhMjISU6ZMQbt27Yokaf75Y3tpPBnQ5+DB\n",
              "g+jatWuxZYYMGYLc3Fzs3r1bWtaxY0f4+vpizZo1pfqcktok3ucQlU+Zn/SxtbV95ig4DRo0wIgR\n",
              "IzB37txnXnw9ER4ejuDgYAQGBuKjjz4qazhFaLVaaLVaab6kJJWhYseLREWFhITozRsZGaF+/fro\n",
              "3r07mjVrJk9QRFTh/jlEO70YN/s6iH6rA05ey4Ra8whOKnP4NbTjTRVRDTB06FAA0Ou0WaFQQAhR\n",
              "7iR4dnY2ADzzKen4+Pgio4MFBQUhJiamxG1Ke//G+xyi8ilz0ic6OhozZ87EiBEj0KFDBwDAiRMn\n",
              "sHHjRsyaNQt37tzBp59+CqVSiffff/+ZdW3ZsgWnTp1CQkJC+aIvRlRUFObPn19h9dU07HiRqKi5\n",
              "c+fKHQIRUY1kbKTgTRRRDZSamlqh9el0OkyePBmdO3d+5mtaarUajo6OesscHR2hVqtL3Ka092+8\n",
              "zyEqnzInfTZu3IjPPvsMr732mrSsf//+8Pb2xtq1axEXFwc3NzcsWLDgmUmfGzduYNKkSYiNjYW5\n",
              "ecV1BhgZGamXXdZoNHB1da2w+qu7pztefLpBZMeLVNvpdDpcuXIFGRkZRZ4GKOkRZSKqeXJzc3Hw\n",
              "4EGkpaUhLy9Pbx2HKSai2kCj0eCPP/5AXl4eOnTogPr1679wneHh4Th37hwOHz5cARHqK+39G+9z\n",
              "iMqnzKN3HT16FG3atCmyvE2bNoiPjwfweISvtLS0Z9aTmJiIjIwMtG3bFiYmJjAxMcHBgwexfPly\n",
              "mJiYlPu9e6VSCZVKpTfVJk86Xsx8kCeNuPHkXdcmDlbseJFqpWPHjqFJkyZo3rw5unbtiu7du0tT\n",
              "jx495A6PiCrI6dOn0aRJEwwbNgzjx4/HRx99hMmTJ+P9998v0l/gi2jYsCEUCkWRKTw8HADQvXv3\n",
              "IuvGjh2rV0daWhqCg4NRp04dODg4YNq0aSgoKNArc+DAAbRt2xZKpRJNmjRBdHR0kVhWrlyJhg0b\n",
              "wtzcHP7+/jhx4kSF7ScR1TxJSUlo1qwZevfujf79+6NJkybYt2/fC9U5fvx47N69G7/99hsaNGjw\n",
              "zLJOTk64ffu23rLbt2/DycmpxG1Ke//G+xyi8ilz0sfV1RXr168vsnz9+vVSRvbu3buoW7fuM+vp\n",
              "2bMnkpOTkZSUJE1+fn4IDQ1FUlISjI2Nn7k9Fc/YSIEFId5o7qzCfW0B0rMf4r62AM2dVVgQ4s33\n",
              "8KlWGjt2LPz8/HDu3DlkZmbi3r170pSZmSl3eERUQaZMmYL+/fvj3r17sLCwwLFjx3D9+nW0a9cO\n",
              "n376aYV9TkJCAtLT06UpNjYWAPDqq69KZUaPHq1XZtGiRdK6wsJCBAcHIy8vD0ePHsXGjRsRHR2N\n",
              "OXPmSGVSU1MRHByMHj16ICkpCZMnT8bbb7+td/O2detWREREYO7cuTh16hRat26NoKAgZGRkVNi+\n",
              "ElHNMn36dHh4eODw4cNITExEz549MX78+HLVJYTA+PHjsXPnTuzfvx8eHh7P3SYgIABxcXF6y2Jj\n",
              "YxEQEFCuGJ7G+xyichJl9MMPPwgzMzPh4+MjRo0aJUaNGiVat24tzMzMxI8//iiEEGLVqlViypQp\n",
              "Za1adOvWTUyaNEmaT09PF6dPnxZfffWVACAOHTokTp8+Le7evVvqOrOzswUAkZ2dXeZ4arKCQp04\n",
              "dvVvEXP6pjh29W9RUKiTOyQi2dSpU0dcvnxZ7jCEELW3TSKqCjY2NuLSpUvSvy9cuCCEEOLYsWPC\n",
              "y8ur0j530qRJonHjxkKne/x/7T+vZ/7p559/FkZGRkKtVkvLVq9eLVQqldBqtUIIId577z3RsmVL\n",
              "ve2GDBkigoKCpPkOHTqI8PBwab6wsFC4uLiIqKioMsXPdonIcNjb24vExERp/t69e0KhUJTr/B43\n",
              "bpywsbERBw4cEOnp6dL04MEDqcybb74pZsyYIc0fOXJEmJiYiE8//VRcvHhRzJ07V5iamork5ORS\n",
              "f+7z2iTe5xCVTZmf9BkwYABSUlLQp08fZGZmIjMzE3369EFKSgoaNmwIABg3bhw+//zzF05IrVmz\n",
              "Bm3atMHo0aMBPO53o02bNti1a9cL123onnS8OND3Jfg3smfmm2o1f39/XLlyRe4wiKiSmZqaSiOH\n",
              "Ojg4SK+a29jY4MaNG5XymXl5efjmm28wcuRIvdFNN23ahHr16qFVq1aIjIzEgwcPpHXx8fHw9vbW\n",
              "6+w0KCgIGo0G58+fl8oEBgbqfVZQUJD0Kn1eXh4SExP1yhgZGSEwMFAqQ0S1T2Zmpt4rWLa2trC0\n",
              "tMTdu3fLXNfq1auRnZ2N7t27w9nZWZq2bt0qlUlLS0N6ero036lTJ2zevBlffvklWrduje+++w4x\n",
              "MTHP7Py5rHifQ1Q2Ze7IGXj8LvvChQsBPO5o69tvv8WQIUNw8uTJcvfFAzx+d/1p8+bNw7x588pd\n",
              "HxERAEyYMAFTp06FWq2Gt7c3TE1N9db7+PjIFBkRVaQ2bdogISEBnp6e6NatG+bMmYO///4bX3/9\n",
              "dYXecDwtJiYGWVlZGDFihLTs9ddfh7u7O1xcXHD27FlMnz4dKSkp2LFjB4CSR7d5su5ZZTQaDR4+\n",
              "fIh79+6hsLCw2DKXLl16ZsylHR6ZiGqmCxcu6I2WJYTAxYsXcf/+fWlZaa59hBDPLfPP+zfg8auu\n",
              "T7/uSkTyKlfSBwAOHTqE9evX4/vvv4eLiwsGDRqEFStWVGRsREQVYvDgwQCAkSNHSssUCgWEEFAo\n",
              "FC+UrCai6uPjjz+WbmoWLFiA4cOHY9y4cfD09MR///vfSvnM9evXo0+fPnBxcZGWjRkzRvq3t7c3\n",
              "nJ2d0bNnT1y9ehWNGzeulDjKorTDIxNRzdSzZ88iCZt+/frx2oeolipT0ketViM6Ohrr16+HRqPB\n",
              "a6+9Bq1Wi5iYGLRo0aKyYiQieiGpqalyh0BEVcDPz0/6t4ODA/bu3Vupn3f9+nX8+uuv0hM8JfH3\n",
              "9wcAXLlyBY0bN4aTk1ORUbaejHbzZISbkkbAUalUsLCwgLGxMYyNjcs8Sg5Q+uGRiajm4TUPEf1T\n",
              "qfv06d+/P7y8vHD27FksXboUt27dwhdffFGZsRERVQh3d/dnTkRE5bFhwwY4ODggODj4meWSkpIA\n",
              "AM7OzgAej26TnJysN8pWbGwsVCqV9CPa80bAMTMzQ7t27fTK6HQ6xMXFPXeUnNIOj0xENcugQYNQ\n",
              "t25duLu74+DBg3BycuK1DxGV/kmfPXv2YOLEidJj0kRENcnXX3+NNWvWIDU1FfHx8XB3d8fSpUvh\n",
              "4eGBgQMHyh0eEZVTmzZt9DpQfpZTp05V2OfqdDps2LABYWFhMDH5f5dTV69exebNm9G3b1/Y29vj\n",
              "7NmzmDJlCrp27Sr1odGrVy+0aNECb775JhYtWgS1Wo1Zs2YhPDwcSqUSADB27FisWLEC7733HkaO\n",
              "HIn9+/dj27Zt+Omnn6TPioiIQFhYGPz8/NChQwcsXboUubm5eOuttypsP4mo5ti9ezdyc3OhUqnw\n",
              "1ltvoXfv3nBwcJA7LCKSWamTPocPH8b69evRrl07NG/eHG+++SaGDh1ambEREVWI1atXY86cOZg8\n",
              "eTIWLFggvcdua2uLpUuXljvps3DhQkRGRmLSpElYunRpBUZMRKUVEhIiy+f++uuvSEtL0+srDHj8\n",
              "BM6vv/4qJWBcXV0xePBgzJo1SypjbGyM3bt3Y9y4cQgICIClpSXCwsLwwQcfSGU8PDzw008/YcqU\n",
              "KVi2bBkaNGiAdevWISgoSCozZMgQ3LlzB3PmzIFarYavry/27t1bpHNnIqodmjVrhsjISPTo0QNC\n",
              "CGzbtq3EJ/mGDx9exdERkVwUojTdsj8lNzcXW7duxX//+1+cOHEChYWF+PzzzzFy5EhYW1tXVpzl\n",
              "ptFoYGNjg+zsbD6+TFRLtWjRAh9//DFCQkJgbW2NM2fOoFGjRjh37hy6d++Ov//+u8x1JiQk4LXX\n",
              "XoNKpUKPHj1KnfRhm0RE1Q3bJSLDcPToUURERODq1avIzMyEtbV1sU9CKhQKZGZmyhBh6bBNIqpY\n",
              "pe7T5wlLS0uMHDkShw8fRnJyMqZOnYqFCxfCwcEBAwYMqIwYiYheSGpqKtq0aVNkuVKpRG5ubpnr\n",
              "y8nJQWhoKL766ivUrVu3IkIkIiIieiGdOnXCsWPHcOfOHQghkJKSgnv37hWZqnPCh4gqXpmTPk/z\n",
              "8vLCokWLcPPmTXz77bcVFRMRUYXy8PCQOlJ92t69e9G8efMy1xceHo7g4GAEBgY+t6xWq4VGo9Gb\n",
              "iKhyFBYW4tNPP0WHDh3g5OQEOzs7vYmIqLZITU1lfz5EBOAFkz5PGBsbIyQkBLt27aqI6oiIKsQH\n",
              "H3yABw8eICIiAuHh4di6dSuEEDhx4gQWLFiAyMhIvPfee2Wqc8uWLTh16hSioqJKVT4qKgo2NjbS\n",
              "xGGRiSrP/Pnz8fnnn2PIkCHIzs5GREQEBg0aBCMjI8ybN0/u8IiIqkxGRgamTp2Kfv36oV+/foiI\n",
              "iEBCQoLcYRGRDMrcp09Nw3dCiWovY2NjpKenw8HBAZs2bcK8efNw9epVAICLiwvmz5+PUaNGlbq+\n",
              "GzduwM/PD7GxsdIoPN27d4evr2+JffpotVpotVppXqPRwNXVlW0SUSVo3Lgxli9fjuDgYFhbWyMp\n",
              "KUladuzYMWzevFnuEKslXisRGZb33nsPn376KaysrNCoUSMAj0cWfPDgAd5991188sknMkf4bGyT\n",
              "iCpWqUfvIiKqaZ7OaYeGhiI0NBQPHjxATk5OuR55TkxMREZGBtq2bSstKywsxKFDh7BixQpotVoY\n",
              "GxvrbaNUKqUhmImocqnVanh7ewMArKyskJ2dDQDo168fZs+eLWdoRERVYuPGjfjiiy+wfPlyvPPO\n",
              "OzA1NQUA5OfnY/Xq1Zg+fTpatmzJ0buIahEmfYjIoP1z1Io6deqgTp065aqrZ8+eSE5O1lv21ltv\n",
              "oVmzZpg+fXqRhA8RVa0GDRogPT0dbm5uaNy4MX755Re0bdsWCQkJTL4SUa2wcuVKfPzxxxg/frze\n",
              "clNTU0ycOBEFBQVYsWIFkz5EtQiTPkRk0Jo2bVrscKVPK+0oFtbW1mjVqpXeMktLS9jb2xdZTkRV\n",
              "71//+hfi4uLg7++PCRMm4I033sD69euRlpaGKVOmyB0eEVGlO3/+PAYOHFji+pCQED75SFTLMOlD\n",
              "RAZt/vz5sLGxkTsMIqoCCxculP49ZMgQuLu74+jRo/D09ET//v1ljIyIqGoYGxsjLy+vxPX5+fl8\n",
              "MpmolmHSh4gM2tChQyt1yNIDBw5UWt1EVDZ3796Fvb09gMcdr//88894+PAh/Pz8ZI6MiKhqtG3b\n",
              "Fps2bcKHH35Y7Pqvv/5ar29CIjJ8TPoQkcF63mtdRGQYkpOT0b9/f9y4cQOenp7YsmULevfujdzc\n",
              "XBgZGWHJkiX47rvvEBISIneoRESV6t1330VISAi0Wi2mTp0KR0dHAI87uv/ss8+wdOlS7Ny5U+Yo\n",
              "iagqGckdABFRZXl69C4iMlzvvfcevL29cejQIXTv3h39+vVDcHAwsrOzce/ePbzzzjt6r34RERmq\n",
              "fv36YcmSJVi2bBlcXFxgZ2cHOzs7vPTSS1i+fDk+/fRT9OvXT+4wiagKKYSB3xVpNBrY2NggOzsb\n",
              "KpVK7nCIqJZjm0RU8erVq4f9+/fDx8cHOTk5UKlUSEhIQLt27QAAly5dQseOHZGVlSVvoNUU2yUi\n",
              "w3Pz5k1s374dly9fBvB4YIvBgwfD1dVV5siej20SUcXi611ERERUo2VmZsLJyQkAYGVlBUtLS9St\n",
              "W1daX7duXdy/f1+u8IiIqlyDBg04aiERAWDSh4iIiAzAP/vwYp9eRFTb3bp1C4cPH0ZGRgZ0Op3e\n",
              "uokTJ8oUFRFVNSZ9iIiIqMYbMWIElEolAODRo0cYO3YsLC0tAQBarVbO0IiIqlx0dDTeeecdmJmZ\n",
              "wd7eXi8RrlAomPQhqkWY9CEiIqIaLSwsTG/+jTfeKFJm+PDhVRUOEZHsZs+ejTlz5iAyMhJGRhy7\n",
              "h6g2Y9KHiIiIarQNGzbIHQIRUbXy4MEDDB06lAkfIuKQ7URERERERIZk1KhR2L59u9xhEFE1wCd9\n",
              "iIiIiIiIDEhUVBT69euHvXv3wtvbG6ampnrrP//8c5kiI6KqxqQPERERERGRAYmKisK+ffvg5eUF\n",
              "AEU6ciai2oNJHyIiIiIiIgPy2Wef4b///S9GjBghdyhEJDP26UNERERUBvPmzYNCodCbmjVrJq1/\n",
              "9OgRwsPDYW9vDysrKwwePBi3b9/WqyMtLQ3BwcGoU6cOHBwcMG3aNBQUFOiVOXDgANq2bQulUokm\n",
              "TZogOjq6SCwrV65Ew4YNYW5uDn9/f5w4caJS9pmIahalUonOnTvLHQYRVQNM+hARERGVUcuWLZGe\n",
              "ni5Nhw8fltZNmTIFP/74I7Zv346DBw/i1q1bGDRokLS+sLAQwcHByMvLw9GjR7Fx40ZER0djzpw5\n",
              "UpnU1FQEBwejR48eSEpKwuTJk/H2229j3759UpmtW7ciIiICc+fOxalTp9C6dWsEBQUhIyOjag4C\n",
              "EVVbkyZNwhdffCF3GERUDSiEEELuICqTRqOBjY0NsrOzoVKp5A6HiGo5tklENd+8efMQExODpKSk\n",
              "Iuuys7NRv359bN68Gf/+978BAJcuXULz5s0RHx+Pjh07Ys+ePejXrx9u3boFR0dHAMCaNWswffp0\n",
              "3LlzB2ZmZpg+fTp++uknnDt3Tqp76NChyMrKwt69ewEA/v7+aN++PVasWAEA0Ol0cHV1xYQJEzBj\n",
              "xoxS7w/bJSLD869//Qv79++Hvb09WrZsWaQj5x07dsgU2fOxTSKqWHzSh4iIiKiMLl++DBcXFzRq\n",
              "1AihoaFIS0sDACQmJiI/Px+BgYFS2WbNmsHNzQ3x8fEAgPj4eHh7e0sJHwAICgqCRqPB+fPnpTJP\n",
              "1/GkzJM68vLykJiYqFfGyMgIgYGBUhkiqr1sbW0xaNAgdOvWDfXq1YONjY3eRES1BztyJiIiIioD\n",
              "f39/REdHw8vLC+np6Zg/fz66dOmCc+fOQa1Ww8zMDLa2tnrbODo6Qq1WAwDUarVewufJ+ifrnlVG\n",
              "o9Hg4cOHuHfvHgoLC4stc+nSpWfGr9VqodVqpXmNRlP6nSeiGmHDhg1yh0BE1QSTPkRERERl0KdP\n",
              "H+nfPj4+8Pf3h7u7O7Zt2wYLCwsZIyudqKgozJ8/X+4wiIiIqArw9S4iojJYvXo1fHx8oFKpoFKp\n",
              "EBAQgD179sgdFhHJyNbWFk2bNsWVK1fg5OSEvLw8ZGVl6ZW5ffs2nJycAABOTk5FRvN6Mv+8MiqV\n",
              "ChYWFqhXrx6MjY2LLfOkjpJERkYiOztbmm7cuFHmfSai6s3DwwONGjUqcSKi2oNP+hARlUGDBg2w\n",
              "cOFCeHp6QgiBjRs3YuDAgTh9+jRatmwpd3hEJIOcnBxcvXoVb775Jtq1awdTU1PExcVh8ODBAICU\n",
              "lBSkpaUhICAAABAQEIAFCxYgIyMDDg4OAIDY2FioVCq0aNFCKvPzzz/rfU5sbKxUh5mZGdq1a4e4\n",
              "uDiEhIQAeNyRc1xcHMaPH//MeJVKJZRKZYXtPxFVP5MnT9abz8/Px+nTp7F3715MmzZNnqCISBZM\n",
              "+hARlUH//v315hcsWIDVq1fj2LFjTPoQ1RLvvvsu+vfvD3d3d9y6dQtz586FsbExhg0bBhsbG4wa\n",
              "NQoRERGws7ODSqXChAkTEBAQgI4dOwIAevXqhRYtWuDNN9/EokWLoFarMWvWLISHh0vJmLFjx2LF\n",
              "ihV47733MHLkSOzfvx/btm3DTz/9JMURERGBsLAw+Pn5oUOHDli6dClyc3Px1ltvyXJciKj6mDRp\n",
              "UrHLV65ciZMnT1ZxNEQkJyZ9iIjKqbCwENu3b0dubq706zsRGb6bN29i2LBhuHv3LurXr4+XX34Z\n",
              "x44dQ/369QEAS5YsgZGREQYPHgytVougoCCsWrVK2t7Y2Bi7d+/GuHHjEBAQAEtLS4SFheGDDz6Q\n",
              "ynh4eOCnn37ClClTsGzZMjRo0ADr1q1DUFCQVGbIkCG4c+cO5syZA7VaDV9fX+zdu7dI585ERE/0\n",
              "6dMHkZGR7OiZqBZRCCGE3EFUJo1GAxsbG2RnZ0OlUskdDhEZgOTkZAQEBODRo0ewsrLC5s2b0bdv\n",
              "32LLFjdKjqurK9skIqo2eK1EVHssWrQIq1atwrVr1+QOpURsk4gqFp/0ISIqIy8vLyQlJSE7Oxvf\n",
              "ffcdwsLCcPDgQakvjqdxlBwiIiKqam3atIFCoZDmhRBQq9W4c+eO3pOHRGT4+KQPEdELCgwMROPG\n",
              "jbF27doi6/ikDxFVd7xWIjI88+bN00v6GBkZoX79+ujevTuaNWsmY2TPxzaJqGJVmyd9Fi5ciMjI\n",
              "SEyaNAlLly4FADx69AhTp07Fli1b9N6J57vqRFSd6HQ6vcTO0zhKDhEREVW1efPmVUg9hw4dwuLF\n",
              "i5GYmIj09HTs3LlTGjGwOAcOHECPHj2KLE9PT4eTk1OFxEREZWMkdwAAkJCQgLVr18LHx0dv+ZQp\n",
              "U/Djjz9i+/btOHjwIG7duoVBgwbJFCURERAZGYlDhw7h2rVrSE5ORmRkJA4cOIDQ0FC5QyMiIqJa\n",
              "zsjICMbGxs+cTExK/7t/bm4uWrdujZUrV5YpjpSUFKSnp0uTg4NDWXeFiCqI7E/65OTkIDQ0FF99\n",
              "9RU++ugjaXl2djbWr1+PzZs34//+7/8AABs2bEDz5s1x7NgxadhTIqKqlJGRgeHDhyM9PR02Njbw\n",
              "8fHBvn378Morr8gdGhEREdVyO3fuLHFdfHw8li9fDp1OV+r6+vTpgz59+pQ5DgcHB9ja2pZ5OyKq\n",
              "eLInfcLDwxEcHIzAwEC9pE9iYiLy8/MRGBgoLWvWrBnc3NwQHx/PpA8RyWL9+vVyh0BERERUrIED\n",
              "BxZZlpKSghkzZuDHH39EaGgoPvjgg0qPw9fXF1qtFq1atcK8efPQuXPnSv9MIiqerEmfLVu24NSp\n",
              "U0hISCiyTq1Ww8zMrEiG2NHREWq1usQ6i+s0lYiIiIiIqDa5desW5s6di40bNyIoKAhJSUlo1apV\n",
              "pX6ms7Mz1qxZAz8/P2i1Wqxbtw7du3fH8ePH0bZt22K34f0bUeWSLelz48YNTJo0CbGxsTA3N6+w\n",
              "ejk8MhERERER1VbZ2dn4+OOP8cUXX8DX1xdxcXHo0qVLlXy2l5cXvLy8pPlOnTrh6tWrWLJkCb7+\n",
              "+utit+H9G1Hlkq0j58TERGRkZKBt27YwMTGBiYkJDh48iOXLl8PExASOjo7Iy8tDVlaW3na3b99+\n",
              "Zs/vkZGRyM7OlqYbN25U8p4QERERERHJb9GiRWjUqBF2796Nb7/9FkePHq2yhE9JOnTogCtXrpS4\n",
              "nvdvRJVLtid9evbsieTkZL1lb731Fpo1a4bp06fD1dUVpqamiIuLw+DBgwE8fh81LS0NAQEBJdbL\n",
              "4ZGJiIiIiKg2mjFjBiwsLNCkSRNs3LgRGzduLLbcjh07qiympKQkODs7l7ie929ElUu2pI+1tXWR\n",
              "d0otLS1hb28vLR81ahQiIiJgZ2cHlUqFCRMmICAggJ04ExERERER/cPw4cOhUCgqrL6cnBy9p3RS\n",
              "U1ORlJQEOzs7uLm5ITIyEn/99Rf+97//AQCWLl0KDw8PtGzZEo8ePcK6deuwf/9+/PLLLxUWExGV\n",
              "jeyjdz3LkiVLYGRkhMGDB0Or1SIoKAirVq2SOywiIiIiIqJqJzo6ukLrO3nyJHr06CHNR0REAADC\n",
              "wsIQHR2N9PR0pKWlSevz8vIwdepU/PXXX6hTpw58fHzw66+/6tVBRFVLIYQQcgdRmTQaDWxsbJCd\n",
              "nQ2VSiV3OERUy7FNIqLqhu0SEVUnbJOIKpZsHTkTEREREREREVHlYdKHiIiIiIiIiMgAMelDRERE\n",
              "RERERGSAmPQhIiIiIiIiIjJATPoQERERERERERkgJn2IiIiIiIiIiAwQkz5ERERERERERAaISR8i\n",
              "IiIiIiIiIgPEpA8RERERERERkQFi0oeIiIioDKKiotC+fXtYW1vDwcEBISEhSElJ0SvTvXt3KBQK\n",
              "vWns2LF6ZdLS0hAcHIw6derAwcEB06ZNQ0FBgV6ZAwcOoG3btlAqlWjSpAmio6OLxLNy5Uo0bNgQ\n",
              "5ubm8Pf3x4kTJyp8n4mIiKhmYtKHiIiIqAwOHjyI8PBwHDt2DLGxscjPz0evXr2Qm5urV2706NFI\n",
              "T0+XpkWLFknrCgsLERwcjLy8PBw9ehQbN25EdHQ05syZI5VJTU1FcHAwevTogaSkJEyePBlvv/02\n",
              "9u3bJ5XZunUrIiIiMHfuXJw6dQqtW7dGUFAQMjIyKv9AEBERUbWnEEIIuYOoTBqNBjY2NsjOzoZK\n",
              "pZI7HCKq4aKiorBjxw5cunQJFhYW6NSpEz755BN4eXmVanu2SUSG586dO3BwcMDBgwfRtWtXAI+f\n",
              "9PH19cXSpUuL3WbPnj3o168fbt26BUdHRwDAmjVrMH36dNy5cwdmZmaYPn06fvrpJ5w7d07abujQ\n",
              "ocjKysLevXsBAP7+/mjfvj1WrFgBANDpdHB1dcWECRMwY8aMUsXPdomIqhO2SUQVi0/6EBGVQWl/\n",
              "4SeqSIU6geN/3sUPSX/h+J93Uair/r/X1MSYyys7OxsAYGdnp7d806ZNqFevHlq1aoXIyEg8ePBA\n",
              "WhcfHw9vb28p4QMAQUFB0Gg0OH/+vFQmMDBQr86goCDEx8cDAPLy8pCYmKhXxsjICIGBgVKZ4mi1\n",
              "Wmg0Gr2JiIiIDJOJ3AEQEdUkT35dfyI6OhoODg5ITEyUfuEnqkhpdx9gZkwyLt/OQYFOBxMjI3g6\n",
              "WmFBiDfc7OvIHV6xamLM5aXT6TB58mR07twZrVq1kpa//vrrcHd3h4uLC86ePYvp06cjJSUFO3bs\n",
              "AACo1Wq9hA8AaV6tVj+zjEajwcOHD3Hv3j0UFhYWW+bSpUslxhwVFYX58+eXf6eJiIioxmDSh4jo\n",
              "BZT0Cz9RRSjUCcyMScbFdA3s6phBaWoMbX4hLqZrMDMmGdFvdYCxkULuMPXUxJhfRHh4OM6dO4fD\n",
              "hw/rLR8zZoz0b29vbzg7O6Nnz564evUqGjduXNVh6omMjERERIQ0r9Fo4OrqKmNEREREVFn4ehcR\n",
              "UTmV9Av/0/gaBb2Ik9cycfl2jpQ8AQClqTHs6pjhSkYOTl7LlDnCompizOU1fvx47N69G7/99hsa\n",
              "NGjwzLL+/v4AgCtXrgAAnJyccPv2bb0yT+adnJyeWUalUsHCwgL16tWDsbFxsWWe1FEcpVIJlUql\n",
              "NxEREZFhYtKHiKicnvzCv2XLlhLLREVFwcbGRpr4azqVhVrzCAU6nZQ8eUJpaoz8Qh3UmkcyRVay\n",
              "mhhzWQkhMH78eOzcuRP79++Hh4fHc7dJSkoCADg7OwMAAgICkJycrDfKVmxsLFQqFVq0aCGViYuL\n",
              "06snNjYWAQEBAAAzMzO0a9dOr4xOp0NcXJxUhoiIiGo3Jn2IiMqhtL/wR0ZGIjs7W5pu3LhRhVFS\n",
              "TeekMoeJkRG0+YV6y7X5hTA1NoKTylymyEpWE2Muq/DwcHzzzTfYvHkzrK2toVaroVar8fDhQwDA\n",
              "1atX8eGHHyIxMRHXrl3Drl27MHz4cHTt2hU+Pj4AgF69eqFFixZ48803cebMGezbtw+zZs1CeHg4\n",
              "lEolAGDs2LH4888/8d577+HSpUtYtWoVtm3bhilTpkixRERE4KuvvsLGjRtx8eJFjBs3Drm5uXjr\n",
              "rbeq/sAQERFRtcM+fYiIykAIgQkTJmDnzp04cODAc3/hVyqV0g0cUVn5NbSDp6NVkf5xMh/kobmz\n",
              "Cn4Nq19fUjUx5rJavXo1gMfDsj9tw4YNGDFiBMzMzPDrr79i6dKlyM3NhaurKwYPHoxZs2ZJZY2N\n",
              "jbF7926MGzcOAQEBsLS0RFhYGD744AOpjIeHB3766SdMmTIFy5YtQ4MGDbBu3ToEBQVJZYYMGYI7\n",
              "d+5gzpw5UKvV8PX1xd69e4t07kxERES1k0IIYbhjqOJx54Q2NjbIzs7mO+tE9ML+85//YPPmzfjh\n",
              "hx/g5eUlLbexsYGFhcVzt2ebRGX1ZCSsKxk5yC/UwdTYCE0cqvdIWDUx5tqM7RIRVSdsk4gqFpM+\n",
              "RERloFAUP+rQk1/4n4dtEpVHoU7g5LVMqDWP4KQyh19Du2o/AlZNjLm2YrtERNUJ2ySiisXXu4iI\n",
              "ysDA8+RUTRkbKeDfyF7uMMqkJsZMREREZGjYkTMRERERERERkQFi0oeIiIiIiIiIyAAx6UNERERE\n",
              "REREZICY9CEiIiIiIiIiMkBM+hARERERERERGSAmfYiIiIiIiIiIDBCTPkREREREREREBohJHyIi\n",
              "IiIiIiIiA8SkDxERERERERGRAWLSh4iIiIiIiIjIADHpQ0RERERERERkgJj0ISIiIiIiIiIyQEz6\n",
              "EBEREREREREZICZ9iIiIiIiIiIgMEJM+REREREREREQGiEkfIiIiIiIiIiIDxKQPEREREREREZEB\n",
              "YtKHiIiIiIiIiMgAMelDRERERERERGSAZE36rF69Gj4+PlCpVFCpVAgICMCePXuk9VevXsW//vUv\n",
              "1K9fHyqVCq+99hpu374tY8RUFQp1Asf/vIsfkv7C8T/volAn5A6JSHLo0CH0798fLi4uUCgUiImJ\n",
              "qdD6+fdf+XiMyRCtXLkSDRs2hLm5Ofz9/XHixIkKqbeqzheel0TVU3muew4cOIC2bdtCqVSiSZMm\n",
              "iI6OrtCY2F7Io6Ye95oad0UykfPDGzRogIULF8LT0xNCCGzcuBEDBw7E6dOn0bBhQ/Tq1QutW7fG\n",
              "/v37AQCzZ89G//79cezYMRgZ8SElQ5R29wFmxiTj8u0cFOh0MDEygqejFRaEeMPNvo7c4REhNzcX\n",
              "rVu3xsiRIzFo0KAKrZt//5WPx5gM0datWxEREYE1a9bA398fS5cuRVBQEFJSUuDg4FDueqvqfOF5\n",
              "SVR9lfW6JzU1FcHBwRg7diw2bdqEuLg4vP3223B2dkZQUNALx8P2Qh419bjX1LgrmkIIUa1SXXZ2\n",
              "dli8eDFcXV3Rp08f3Lt3DyqVCgCQnZ2NunXr4pdffkFgYGCp6tNoNLCxsUF2drZUD1VPhTqBERtO\n",
              "4GK6BnZ1zKA0NYY2vxCZD/LQ3FmF6Lc6wNhIIXeYRBKFQoGdO3ciJCSk1NuU1Cbx77/y8RiTofL3\n",
              "90f79u2xYsUKAIBOp4OrqysmTJiAGTNmPHf74tqlqjpfeF4S1Rylue6ZPn06fvrpJ5w7d05aNnTo\n",
              "UGRlZWHv3r2l+hxeK1UvNfW419S4K0O1eVymsLAQW7ZsQW5uLgICAqDVaqFQKKBUKqUy5ubmMDIy\n",
              "wuHDh0usR6vVQqPR6E1UM5y8lonLt3OkkxIAlKbGsKtjhisZOTh5LVPmCInKrrRtEv/+Kx+PMRmi\n",
              "vLw8JCYm6v0YZmRkhMDAQMTHxxe7TWnapao6X3heEhmW+Pj4Ij/OBwUFldgeAbxWqu5q6nGvqXFX\n",
              "BtmTPsnJybCysoJSqcTYsWOxc+dOtGjRAh07doSlpSWmT5+OBw8eIDc3F++++y4KCwuRnp5eYn1R\n",
              "UVGwsbGRJldX1yrcG3oRas0jFOh00kn5hNLUGPmFOqg1j2SKjKj8Stsm8e+/8vEYkyH6+++/UVhY\n",
              "CEdHR73ljo6OUKvVxW5Tmnapqs4XnpdEhkWtVhfbHmk0Gjx8+LDYbXitVL3V1ONeU+OuDLInfby8\n",
              "vJCUlITjx49j3LhxCAsLw4ULF1C/fn1s374dP/74I6ysrGBjY4OsrCy0bdv2mf35REZGIjs7W5pu\n",
              "3LhRhXtDL8JJZQ4TIyNo8wv1lmvzC2FqbAQnlblMkRGVX2nbJP79Vz4eY6LHStMuVdX5wvOSiHit\n",
              "VL3V1ONeU+OuDLJ25AwAZmZmaNKkCQCgXbt2SEhIwLJly7B27Vr06tULV69exd9//w0TExPY2trC\n",
              "yckJjRo1KrE+pVKp90oY1Rx+De3g6WhV4nuXfg3t5A6RqMxK2ybx77/y8RiTIapXrx6MjY2LjG56\n",
              "+/ZtODk5FbtNadqlqjpfeF4SGRYnJ6di2yOVSgULC4tit+G1UvVWU497TY27Msj+pM8/6XQ6aLVa\n",
              "vWX16tWDra0t9u/fj4yMDAwYMECm6KgyGRspsCDEG82dVbivLUB69kPc1xagubMKC0K8a01HW1Q7\n",
              "8e+/8vEYkyEyMzNDu3btEBcXJy3T6XSIi4tDQEBAueutqvOF5yWRYQkICNBrjwAgNjb2hdqjJ9he\n",
              "yKOmHveaGndlkHX0rsjISPTp0wdubm64f/8+Nm/ejE8++QT79u3DK6+8gg0bNqB58+aoX78+4uPj\n",
              "MWnSJIwYMQKfffZZqT+Do3fVPIU6gZPXMqHWPIKTyhx+De1q1UlJ1VtOTg6uXLkCAGjTpg0+//xz\n",
              "9OjRA3Z2dnBzc3vu9s9rk/j3X/l4jMnQbN26FWFhYVi7di06dOiApUuXYtu2bbh06VKRvjWK86x2\n",
              "qarOF56XRNXT8657IiMj8ddff+F///sfgMdDtrdq1Qrh4eEYOXIk9u/fj4kTJ+Knn34q9ZDtvFaq\n",
              "nmrqca+pcVckWZM+o0aNQlxcHNLT02FjYwMfHx9Mnz4dr7zyCgBgxowZiI6ORmZmJho2bIixY8di\n",
              "ypQpUChK/yUx6UNEFenAgQPo0aNHkeVhYWGIjo5+7vZsk4ioMqxYsQKLFy+GWq2Gr68vli9fDn9/\n",
              "/1Jty3aJiEryvOueESNG4Nq1azhw4IDeNlOmTMGFCxfQoEEDzJ49GyNGjCj1Z7JNIqpYsiZ9qgIb\n",
              "DSKqTtgmEVF1w3aJiKoTtklEFava9elDREREREREREQvjkkfIiIiIiIiIiIDxKQPEREREREREZEB\n",
              "MpE7gMr2pMsijUYjcyRE1Ye1tXWZOkSnisM2iah4bJfkw3aJqCi2SfJhm0RU1Iu0SQaf9Ll//z4A\n",
              "wNXVVeZIiKoPdownH7ZJRMVjuyQftktERbFNkg/bJKKiXqRNMvjRu3Q6HW7dulViZkyj0cDV1RU3\n",
              "btyo8Q0796X6qm77w1+v5PO8Nqmmqm5/44bI0I+xoZ0TNUl1aZcM6W+c+1I9lWVf5D4farPStEmG\n",
              "9HdZHO5fzVYZ+8cnfZ7ByMgIDRo0eG45lUplMH9w3Jfqy9D2h8qutG1STcW/8crHY0wVrbq1S4b0\n",
              "N859qZ4MaV8MUVnaJEP/Lrl/NVt12T925ExEREREREREZICY9CEiIiIiIiIiMkC1PumjVCoxd+5c\n",
              "KJVKuUN5YdyX6svQ9ofon/g3Xvl4jMnQGdLfOPelejKkfantDP275P7VbNVt/wy+I2ciIiIiIiIi\n",
              "otqo1j/pQ0RERERERERkiJj0ISIiIiIiIiIyQEz6EBEREREREREZIINM+sybNw8KhUJvatasmbT+\n",
              "0aNHCA8Ph729PaysrDB48GDcvn1br460tDQEBwejTp06cHBwwLRp01BQUFDVuwIA+Ouvv/DGG2/A\n",
              "3t4eFhYW8Pb2xsmTJ6X1QgjMmTMHzs7OsLCwQGBgIC5fvqxXR2ZmJkJDQ6FSqWBra4tRo0YhJyen\n",
              "SvejYcOGRb4XhUKB8PBwADXveyksLMTs2bPh4eEBCwsLNG7cGB9++CGe7iarpnw3ROWxcOFCKBQK\n",
              "TJ48WVpWmvOYSu+fxzgzMxMTJkyAl5cXLCws4ObmhokTJyI7O1veQIleQFRUFNq3bw9ra2s4ODgg\n",
              "JCQEKSkpcof1woprI2ua512D1hSluWajmmPlypVo2LAhzM3N4e/vjxMnTsgdUpXdfx44cABt27aF\n",
              "UqlEkyZNEB0dXSSWijg+hw4dQv/+/eHi4gKFQoGYmBi99RV1j3P27Fl06dIF5ubmcHV1xaJFi4rE\n",
              "sn37djRr1gzm5ubw9vbGzz//XOZYyrp/I0aMKPJ99u7du8bsXxHCAM2dO1e0bNlSpKenS9OdO3ek\n",
              "9WPHjhWurq4iLi5OnDx5UnTs2FF06tRJWl9QUCBatWolAgMDxenTp8XPP/8s6tWrJyIjI6t8XzIz\n",
              "M4W7u7sYMWKEOH78uPjzzz/Fvn37xJUrV6QyCxcuFDY2NiImJkacOXNGDBgwQHh4eIiHDx9KZXr3\n",
              "7i1at24tjh07Jn7//XfRpEkTMWzYsCrdl4yMDL3vJDY2VgAQv/32mxCiZn0vQgixYMECYW9vL3bv\n",
              "3i1SU1PF9u3bhZWVlVi2bJlUpqZ8N0RldeLECdGwYUPh4+MjJk2aJC1/3nlMpVfcMU5OThaDBg0S\n",
              "u3btEleuXBFxcXHC09NTDB48WN5giV5AUFCQ2LBhgzh37pxISkoSffv2FW5ubiInJ0fu0MqtpDay\n",
              "JinNNWhNUZprNqoZtmzZIszMzMR///tfcf78eTF69Ghha2srbt++LWtcVXH/+eeff4o6deqIiIgI\n",
              "ceHCBfHFF18IY2NjsXfvXqlMRR2fn3/+WcycOVPs2LFDABA7d+7UW18R9zjZ2dnC0dFRhIaGinPn\n",
              "zolvv/1WWFhYiLVr10pljhw5IoyNjcWiRYvEhQsXxKxZs4SpqalITk4uUyxl3b+wsDDRu3dvve8z\n",
              "MzNTr0x13r9/MtikT+vWrYtdl5WVJUxNTcX27dulZRcvXhQARHx8vBDi8R+BkZGRUKvVUpnVq1cL\n",
              "lUoltFptpcb+T9OnTxcvv/xyiet1Op1wcnISixcvlpZlZWUJpVIpvv32WyGEEBcuXBAAREJCglRm\n",
              "z549QqFQiL/++qvygn+OSZMmicaNGwudTlfjvhchhAgODhYjR47UWzZo0CARGhoqhKjZ3w3Rs9y/\n",
              "f194enqK2NhY0a1bN+mGpjTnMZVOSce4ONu2bRNmZmYiPz+/6gIkqkQZGRkCgDh48KDcoZRLWc7f\n",
              "6ux516A1yfOu2ajm6NChgwgPD5fmCwsLhYuLi4iKipIxqqq5/3zvvfdEy5Yt9eoeMmSICAoKkuYr\n",
              "4/j8MylSUfc4q1atEnXr1tW7j5s+fbrw8vKS5l977TURHBysF4+/v7945513Sh1LWfdPiMdJn4ED\n",
              "B5a4TU3aPyGEMMjXuwDg8uXLcHFxQaNGjRAaGoq0tDQAQGJiIvLz8xEYGCiVbdasGdzc3BAfHw8A\n",
              "iI+Ph7e3NxwdHaUyQUFB0Gg0OH/+fJXux65du+Dn54dXX30VDg4OaNOmDb766itpfWpqKtRqtd7+\n",
              "2NjYwN/fX29/bG1t4efnJ5UJDAyEkZERjh8/XnU785S8vDx88803GDlyJBQKRY37XgCgU6dOiIuL\n",
              "wx9//AEAOHPmDA4fPow+ffoAqLnfDdHzhIeHIzg4WO9vGyhd+0qlU9IxLk52djZUKhVMTEyqIDKi\n",
              "yvfkdUU7OzuZIymfspy/1dnzrkFrkudds1HNkJeXh8TERL1zy8jICIGBgdXiOqOy7z/j4+OLtCtB\n",
              "QUFSHVV1fCrqHic+Ph5du3aFmZmZ3v6kpKTg3r17pdrn0sRSXgcOHICDgwO8vLwwbtw43L17V1pX\n",
              "0/bPIK8Q/f39ER0dDS8vL6Snp2P+/Pno0qULzp07B7VaDTMzM9ja2upt4+joCLVaDQBQq9V6J9yT\n",
              "9U/WVaU///wTq1evRkREBN5//30kJCRg4sSJMDMzQ1hYmBRPcfE+vT8ODg56601MTGBnZ1fl+/NE\n",
              "TEwMsrKyMGLECACocd8LAMyYMQMajQbNmjWDsbExCgsLsWDBAoSGhurFVNO+G6Jn2bJlC06dOoWE\n",
              "hIQi60pzHtPzPesY/9Pff/+NDz/8EGPGjKmCyIgqn06nw+TJk9G5c2e0atVK7nDKrCznb3X3vGvQ\n",
              "muR512xUM/z9998oLCws9tr60qVLMkX1WFXcf5ZURqPR4OHDh7h3716VHJ+KusdRq9Xw8PAoUseT\n",
              "dXXr1i1xn5+u43mxlEfv3r0xaNAgeHh44OrVq3j//ffRp08fxMfHw9jYuMbtn0EmfZ7O2vv4+MDf\n",
              "3x/u7u7Ytm0bLCwsZIys7HQ6Hfz8/PDxxx8DANq0aYNz585hzZo1Ne4/3KetX78effr0gYuLi9yh\n",
              "lNu2bduwadMmbN68GS1btkRSUhImT54MFxeXGv3dEJXkxo0bmDRpEmJjY2Fubi53OAapLMdYo9Eg\n",
              "ODgYLVq0wLx586omQKJKFh4ejnPnzuHw4cNyh1JmhtZGGtI1KK/ZqLIZ0v0nAUOHDpX+7e3tDR8f\n",
              "HzRu3BgHDhxAz549ZYysfAz29a6n2draomnTprhy5QqcnJyQl5eHrKwsvTK3b9+Gk5MTAMDJyalI\n",
              "b+pP5p+UqSrOzs5o0aKF3rLmzZtLjws+iae4eJ/en4yMDL31BQUFyMzMrPL9AYDr16/j119/xdtv\n",
              "vy0tq2nfCwBMmzYNM2bMwNChQ+Ht7Y0333wTU6ZMQVRUlF5MNem7IXqWxMREZGRkoG3btjAxMYGJ\n",
              "iQkOHjyI5cuXw8TEBI6Ojs89j+nZnneMCwsLAQD3799H7969YW1tjZ07d8LU1FTmyIle3Pjx47F7\n",
              "92789ttvaNCggdzhlFlpz9+a4nnXoDXJ867ZqGaoV68ejI2Nn3ltXV1Uxv1nSWVUKhUsLCyq7PhU\n",
              "1D3Oi+zz0+ufF0tFaNSoEerVq4crV65In1uT9q9WJH1ycnJw9epVODs7o127djA1NUVcXJy0PiUl\n",
              "BWlpaQgICAAABAQEIDk5We+LjI2NhUqlKvKfX2Xr3LlzkWFL//jjD7i7uwMAPDw84OTkpLc/Go0G\n",
              "x48f19ufrKwsJCYmSmX2798PnU4Hf3//KtgLfRs2bICDgwOCg4OlZTXtewGABw8ewMhI/xQyNjaG\n",
              "TqcDUDO/G6Jn6dmzJ5KTk5GUlCRNfn5+CA0Nlf79vPOYnu15x9jY2BgajQa9evWCmZkZdu3aZRBP\n",
              "FFDtJoTA+PHjsXPnTuzfv7/I4/A1RWnO35rkedegNcnzrtmoZjAzM0O7du30rjN0Oh3i4uKq3XVG\n",
              "Zdx/BgQE6NXxpMyTOqrq+FTUPU5AQAAOHTqE/Px8vf3x8vJC3bp1S7XPpYmlIty8eRN3796Fs7Nz\n",
              "zdy/Unf5XINMnTpVHDhwQKSmpoojR46IwMBAUa9ePZGRkSGEeDxknpubm9i/f784efKkCAgIEAEB\n",
              "AdL2T4bM69Wrl0hKShJ79+4V9evXl2Vo8BMnTggTExOxYMECcfnyZbFp0yZRp04d8c0330hlFi5c\n",
              "KGxtbcUPP/wgzp49KwYOHFjskHlt2rQRx48fF4cPHxaenp6yDAteWFgo3NzcxPTp04usq0nfixCP\n",
              "e3V/6aWXpOE/d+zYIerVqyfee+89qUxN+m6IyuOfI9M87zymsnv6GGdnZwt/f3/h7e0trly5ojeU\n",
              "aEFBgbyBEpXTuHHjhI2NjThw4IDe3/SDBw/kDu2F1eTRu0pzDVpTlOaajWqGLVu2CKVSKaKjo8WF\n",
              "CxfEmDFjhK2trd6oV3KoivvPJ0O2T5s2TVy8eFGsXLmy2CHbK+L43L9/X5w+fVqcPn1aABCff/65\n",
              "OH36tLh+/boQomLucbKysoSjo6N48803xblz58SWLVtEnTp1igxpbmJiIj799FNx8eJFMXfu3GKH\n",
              "NH9eLGXZv/v374t3331XxMfHi9TUVPHrr7+Ktm3bCk9PT/Ho0aMasX//ZJBJnyFDhghnZ2dhZmYm\n",
              "XnrpJTFkyBBx5coVaf3Dhw/Ff/7zH1G3bl1Rp04d8a9//Uukp6fr1XHt2jXRp08fYWFhIerVqyem\n",
              "Tp0q23C4P/74o2jVqpVQKpWiWbNm4ssvv9Rbr9PpxOzZs4Wjo6NQKpWiZ8+eIiUlRa/M3bt3xbBh\n",
              "w4SVlZVQqVTirbfeEvfv36/K3RBCCLFv3z4BoEh8QtS870Wj0YhJkyYJNzc3YW5uLho1aiRmzpyp\n",
              "NyxfTfpuiMrjnzc0pTmPqWyePsa//fabAFDslJqaKmucROVV0t/0hg0b5A7thdXkpI8Qz78GrSlK\n",
              "c81GNccXX3wh3NzchJmZmejQoYM4duyY3CFV2f3nb7/9Jnx9fYWZmZlo1KhRse1kRRyfkq43wsLC\n",
              "hBAVd49z5swZ8fLLLwulUileeuklsXDhwiKxbNu2TTRt2lSYmZmJli1bip9++klvfWliKcv+PXjw\n",
              "QPTq1UvUr19fmJqaCnd3dzF69OgiibPqvH//pBBCiNI/F0RERERERERERDVBrejTh4iIiIiIiIio\n",
              "tmHSh4iIiIiIiIjIADHpQ0RERERERERkgJj0ISIiIiIiIiIyQEz6EBEREREREREZICZ9iIiIiIiI\n",
              "iIgMEJM+REREREREREQGiEkfIiIiIiIiIiIDxKQPvRCFQoGYmBgAwLVr16BQKJCUlCRrTERERERE\n",
              "RFSyefPmwdfXV+4wqAow6WOA1Go1JkyYgEaNGkGpVMLV1RX9+/dHXFxcpX6uq6sr0tPT0apVKwDA\n",
              "gQMHoFAokJWVpVfuzp07GDduHNzc3KBUKuHk5ISgoCAcOXKkUuMjotohPj4exsbGCA4OljsUIjJA\n",
              "CoXimdO8efPkDpGIDNyIESP02h17e3v07t0bZ8+elTs0qoZM5A6AKta1a9fQuXNn2NraYvHixfD2\n",
              "9kZ+fj727duH8PBwXLp0qcg2+fn5MDU1feHPNjY2hpOT03PLDR48GHl5edi4cSMaNWqE27dvIy4u\n",
              "Dnfv3n3hGEqSl5cHMzOzSqufiKqP9evXY8KECVi/fj1u3boFFxcXuUMiIgOSnp4u/Xvr1q2YM2cO\n",
              "UlJSpGVWVlZVHhOvc4hqn969e2PDhg0AHv/oP2vWLPTr1w9paWkyR0bVDZ/0MTD/+c9/oFAocOLE\n",
              "CQwePBhNmzZFy5YtERERgWPHjgF4/AvV6tWrMWDAAFhaWmLBggUAgB9++AFt27aFubk5GjVqhPnz\n",
              "56OgoECq+/Lly+jatSvMzc3RokULxMbG6n320693Xbt2DT169AAA1K1bFwqFAiNGjEBWVhZ+//13\n",
              "fPLJJ+jRowfc3d3RoUMHREZGYsCAAVJdWVlZeOedd+Do6Ahzc3O0atUKu3fvltZ///33aNmyJZRK\n",
              "JRo2bIjPPvtML5aGDRviww8/xPDhw6FSqTBmzBgAwOHDh9GlSxdYWFjA1dUVEydORG5ubgV+A0Qk\n",
              "p5ycHGzduhXjxo1DcHAwoqOj9dbv2rULnp6eMDc3R48ePbBx48YiTySynSCiZ3FycpImGxsbKBQK\n",
              "vWVbtmxB8+bNYW5ujmbNmmHVqlXStk+ulXbs2IEePXqgTp06aN26NeLj46Uyxb1ysXTpUjRs2FCa\n",
              "HzFiBEJCQrBgwQK4uLjAy8sLAHDjxg289tprsLW1hZ2dHQYOHIhr165V5uEgIpk8eWPCyckJvr6+\n",
              "mDFjBm7cuIE7d+4AAKZPn46mTZuiTp06aNSoEWbPno38/PwS60tISMArr7yCevXqwcbGBt26dcOp\n",
              "U6f0yigUCqxbtw7/+te/UKdOHXh6emLXrl16Zc6fP49+/fpBpVLB2toaXbp0wdWrV6X169atK7GN\n",
              "pMrBpI8ByczMxN69exEeHg5LS8si621tbaV/z5s3D//617+QnJyMkSNH4vfff8fw4cMxadIkXLhw\n",
              "AWvXrkV0dLSUENLpdBg0aBDMzMxw/PhxrFmzBtOnTy8xFldXV3z//fcAgJSUFKSnp2PZsmWwsrKC\n",
              "lZUVYmJioNVqi91Wp9OhT58+OHLkCL755htcuHABCxcuhLGxMQAgMTERr732GoYOHYrk5GTMmzcP\n",
              "s2fPLnJz9+mnn6J169Y4ffo0Zs+ejatXr6J3794YPHgwzp49i61bt+Lw4cMYP358WQ4zEVVj27Zt\n",
              "Q7NmzeDl5YU33ngD//3vfyGEAACkpqbi3//+N0JCQnDmzBm88847mDlzpt72bCeI6EVs2rQJc+bM\n",
              "wYIFC3Dx4kV8/PHHmD17NjZu3KhXbubMmXj33XeRlJSEpk2bYtiwYXo/tJVGXFwcUlJSEBsbi927\n",
              "dyM/Px9BQUGwtrbG77//jiNHjsDKygq9e/dGXl5eRe4mEVUzOTk5+Oabb9CkSRPY29sDAKytrREd\n",
              "HY0LFy5g2bJl+Oqrr7BkyZIS67h//z7CwsJw+PBhHDt2DJ6enujbty/u37+vV27+/Pl47bXXcPbs\n",
              "WfTt2xehoaHIzMwEAPz111/o2rUrlEol9u/fj8TERIwcOVJq30rbRlIFE2Qwjh8/LgCIHTt2PLMc\n",
              "ADF58mS9ZT179hQff/yx3rKvv/5aODs7CyGE2LdvnzAxMRF//fWXtH7Pnj0CgNi5c6cQQojU1FQB\n",
              "QJw+fVoIIcRvv/0mAIh79+7p1fvdd9+JunXrCnNzc9GpUycRGRkpzpw5I63ft2+fMDIyEikpKcXG\n",
              "//rrr4tXXnlFb9m0adNEixYtpHl3d3cREhKiV2bUqFFizJgxest+//13YWRkJB4+fFjsZxFRzdKp\n",
              "UyexdOlSIYQQ+fn5ol69euK3334TQggxffp00apVK73yM2fO1Gun2E4QUVls2LBB2NjYSPONGzcW\n",
              "mzdv1ivz4YcfioCAACHE/7tWWrdunbT+/PnzAoC4ePGiEEKIuXPnitatW+vVsWTJEuHu7i7Nh4WF\n",
              "CUdHR6HVaqVlX3/9tfDy8hI6nU5aptVqhYWFhdi3b9+L7ioRVSNhYWHC2NhYWFpaCktLSwFAODs7\n",
              "i8TExBK3Wbx4sWjXrp00X1xb87TCwkJhbW0tfvzxR2kZADFr1ixpPicnRwAQe/bsEUIIERkZKTw8\n",
              "PEReXl6xdT6vjaTKwSd9DIj4/3/NLg0/Pz+9+TNnzuCDDz6QnsSxsrLC6NGjkZ6ejgcPHuDixYtw\n",
              "dXXV6xsjICCgXHEOHjwYt27dwq5du9C7d28cOHAAbdu2lZ7USUpKQoMGDdC0adNit7948SI6d+6s\n",
              "t6xz5864fPkyCgsLn7mP0dHRevsYFBQEnU6H1NTUcu0LEVUfKSkpOHHiBIYNGwYAMDExwZAhQ7B+\n",
              "/Xppffv27fW26dChg9482wkiKq/c3FxcvXoVo0aN0mtDPvroI71XGwDAx8dH+rezszMAICMjo0yf\n",
              "5+3trdePz5kzZ3DlyhVYW1tLn21nZ4dHjx4V+Xwiqvl69OiBpKQkJCUl4cSJEwgKCkKfPn1w/fp1\n",
              "AI/7HOvcuTOcnJxgZWWFWbNmPbO/n9u3b2P06NHw9PSEjY0NVCoVcnJyimzzdPtlaWkJlUoltV9J\n",
              "SUno0qVLsf3FlqWNpIrFjpwNiKenJxQKRbGdNf/TP1//ysnJwfz58zFo0KAiZc3NzSssxqfrfOWV\n",
              "V/DKK69g9uzZePvttzF37lyMGDECFhYWFfIZxe3jO++8g4kTJxYp6+bmViGfSUTyWb9+PQoKCvSS\n",
              "00IIKJVKrFixolR1sJ0govLKyckBAHz11Vfw9/fXW/fkFfUnnr4hUigUAB6/3g4ARkZGRX7IK64f\n",
              "juKuc9q1a4dNmzYVKVu/fv3S7gYR1RCWlpZo0qSJNL9u3TrY2Njgq6++QnBwMEJDQzF//nwEBQXB\n",
              "xsYGW7ZsKdIP6tPCwsJw9+5dLFu2DO7u7lAqlQgICCjyeug/EzoKhUJqv551H1eWNpIqFpM+BsTO\n",
              "zg5BQUFYuXIlJk6cWORiICsrS69fn6e1bdsWKSkpeg3H05o3b44bN24gPT1d+kXqScfQJXny69PT\n",
              "T9+UpEWLFoiJiQHwOHt88+ZN/PHHH8U+7dO8efMiw7sfOXIETZs2fWaD0bZtW1y4cKHEfSSimqug\n",
              "oAD/+9//8Nlnn6FXr15660JCQvDtt9/Cy8sLP//8s966hIQEvXm2E0RUXo6OjnBxccGff/6J0NDQ\n",
              "ctdTv359qNVqCCGkhFBSUtJzt2vbti22bt0KBwcHqFSqcn8+EdVMCoUCRkZGePjwIY4ePQp3d3e9\n",
              "vgufPAFUkiNHjmDVqlXo27cvgMcdw//9999lisHHxwcbN24sdnToimojqez4epeBWblyJQoLC9Gh\n",
              "Qwd8//33uHz5Mi5evIjly5c/83WsOXPm4H//+x/mz5+P8+fP4+LFi9iyZQtmzZoFAAgMDETTpk0R\n",
              "FhaGM2fO4Pfffy/SAeo/ubu7Q6FQYPfu3bhz5w5ycnJw9+5d/N///R+++eYbnD17Fqmpqdi+fTsW\n",
              "LVqEgQMHAgC6deuGrl27YvDgwYiNjUVqair27NmDvXv3AgCmTp2KuLg4fPjhh/jjjz+wceNGrFix\n",
              "Au++++4z45k+fTqOHj2K8ePHIykpCZcvX8YPP/zADlqJDMDu3btx7949jBo1Cq1atdKbBg8ejPXr\n",
              "1+Odd97BpUuXMH36dPzxxx/Ytm2b9FrpkxsrthNE9CLmz5+PqKgoLF++HH/88QeSk5OxYcMGfP75\n",
              "56Wuo3v37rhz5w4WLVqEq1evYuXKldizZ89ztwsNDUW9evUwcOBA/P7770hNTcWBAwcwceJE3Lx5\n",
              "80V2i4iqIa1WC7VaDbVajYsXL2LChAnIyclB//794enpibS0NGzZsgVXr17F8uXLsXPnzmfW5+np\n",
              "ia+//hoXL17E8ePHERoaWuY3MMaPHw+NRoOhQ4fi5MmTuHz5Mr7++mukpKQAqJg2kspB3i6FqDLc\n",
              "unVLhIeHC3d3d2FmZiZeeuklMWDAAKkzUzzV+fLT9u7dKzp16iQsLCyESqUSHTp0EF9++aW0PiUl\n",
              "Rbz88svCzMxMNG3aVOzdu/eZHTkLIcQHH3wgnJychEKhEGFhYeLRo0dixowZom3btsLGxkbUqVNH\n",
              "eHl5iVmzZokHDx5I2929e1e89dZbwt7eXpibm4tWrVqJ3bt3S+u/++470aJFC2Fqairc3NzE4sWL\n",
              "9fbF3d1dLFmypMg+njhxQrzyyivCyspKWFpaCh8fH7FgwYKyH2Qiqlb69esn+vbtW+y6J53cnzlz\n",
              "Rvzwww+iSZMmQqlUiu7du4vVq1cLAHqdNLOdIKLS+mdHzkIIsWnTJuHr6yvMzMxE3bp1RdeuXaVB\n",
              "Noq7Vrp3754AIF2nCSHE6tWrhaurq7C0tBTDhw8XCxYsKNKR88CBA4vEk56eLoYPHy7q1asnlEql\n",
              "aNSokRg9erTIzs6uwL0mIrmFhYUJANJkbW0t2rdvL7777jupzLRp04S9vb2wsrISQ4YMEUuWLNFr\n",
              "r/7ZkfOpU6eEn5+fMDc3F56enmL79u1F7qmKu4+0sbERGzZskObPnDkjevXqJerUqSOsra1Fly5d\n",
              "xNWrV6X1z2ojqXIohChD779EREQGZMGCBVizZg1u3LghdyhERERERBWOffoQEVGtsWrVKrRv3x72\n",
              "9vY4cuQIFi9ezFe3iIiIiMhgMelDRES1xuXLl/HRRx8hMzMTbm5umDp1KiIjI+UOi4iIiIioUvD1\n",
              "LiIiIiIiIiIiA8TRu4iIiIiIiIiIDBCTPkREREREREREBohJHyIiIiIiIiIiA8SkDxERERERERGR\n",
              "AWLSh4iIiIiIiIjIADHpQ0RERERERERkgJj0ISIiIiIiIiIyQEz6EBEREREREREZICZ9iIiIiIiI\n",
              "iIgM0P8HSjRbC0JZzkQAAAAASUVORK5CYII=\n",
              "\">\n",
              "        <script></script>"
            ],
            "text/plain": [
              "<google.colab._quickchart_lib.MplChart at 0x7dfe4314c670>"
            ]
          },
          "metadata": {},
          "execution_count": 221
        }
      ]
    },
    {
      "cell_type": "code",
      "source": [
        "plt.figure(figsize=(14,4))\n",
        "sns.heatmap(dataset.corr(),annot=True)"
      ],
      "metadata": {
        "colab": {
          "base_uri": "https://localhost:8080/",
          "height": 491
        },
        "id": "Ba-AFZCIFpF0",
        "outputId": "28c713c7-26bd-4b05-cca4-059ffd65f2b8"
      },
      "execution_count": null,
      "outputs": [
        {
          "output_type": "execute_result",
          "data": {
            "text/plain": [
              "<Axes: >"
            ]
          },
          "metadata": {},
          "execution_count": 222
        },
        {
          "output_type": "display_data",
          "data": {
            "text/plain": [
              "<Figure size 1400x400 with 2 Axes>"
            ],
            "image/png": "[encoded data removed]"
          },
          "metadata": {}
        }
      ]
    },
    {
      "cell_type": "code",
      "source": [
        "new_df=dataset.drop(['Exited'], axis=1)"
      ],
      "metadata": {
        "id": "zjD96ViTRMkf"
      },
      "execution_count": null,
      "outputs": []
    },
    {
      "cell_type": "code",
      "source": [
        "x = new_df\n",
        "y = dataset['Exited']"
      ],
      "metadata": {
        "id": "B0R6wWdQRV6y"
      },
      "execution_count": null,
      "outputs": []
    },
    {
      "cell_type": "code",
      "source": [
        "from sklearn.model_selection import train_test_split"
      ],
      "metadata": {
        "id": "11Kg8qKSR7Ue"
      },
      "execution_count": null,
      "outputs": []
    },
    {
      "cell_type": "code",
      "source": [
        "x_train,x_test,y_train,y_test=train_test_split(x,y,test_size=0.3,random_state=42)"
      ],
      "metadata": {
        "id": "bepYp3_yR815"
      },
      "execution_count": null,
      "outputs": []
    },
    {
      "cell_type": "code",
      "source": [
        "x_train.shape,x_test.shape,y_train.shape,y_test.shape"
      ],
      "metadata": {
        "colab": {
          "base_uri": "https://localhost:8080/"
        },
        "id": "spOEqqhzSCtG",
        "outputId": "722a5935-912f-44d8-d528-99de73111eec"
      },
      "execution_count": null,
      "outputs": [
        {
          "output_type": "execute_result",
          "data": {
            "text/plain": [
              "((7000, 9), (3000, 9), (7000,), (3000,))"
            ]
          },
          "metadata": {},
          "execution_count": 227
        }
      ]
    },
    {
      "cell_type": "code",
      "source": [
        "from sklearn.ensemble import RandomForestClassifier"
      ],
      "metadata": {
        "id": "RHkFpp-QRlBD"
      },
      "execution_count": null,
      "outputs": []
    },
    {
      "cell_type": "code",
      "source": [
        "rf_classifier = RandomForestClassifier(n_estimators=100, n_jobs=-1, random_state=42)"
      ],
      "metadata": {
        "id": "tK4qOkXRRob0"
      },
      "execution_count": null,
      "outputs": []
    },
    {
      "cell_type": "code",
      "source": [
        "rf_classifier.fit(x_train, y_train)"
      ],
      "metadata": {
        "colab": {
          "base_uri": "https://localhost:8080/",
          "height": 75
        },
        "id": "YZYdq6XXRs9K",
        "outputId": "b1d455d4-d124-462d-da1c-b03f85e6b266"
      },
      "execution_count": null,
      "outputs": [
        {
          "output_type": "execute_result",
          "data": {
            "text/plain": [
              "RandomForestClassifier(n_jobs=-1, random_state=42)"
            ],
            "text/html": [
              "<style>#sk-container-id-1 {color: black;background-color: white;}#sk-container-id-1 pre{padding: 0;}#sk-container-id-1 div.sk-toggleable {background-color: white;}#sk-container-id-1 label.sk-toggleable__label {cursor: pointer;display: block;width: 100%;margin-bottom: 0;padding: 0.3em;box-sizing: border-box;text-align: center;}#sk-container-id-1 label.sk-toggleable__label-arrow:before {content: \"▸\";float: left;margin-right: 0.25em;color: #696969;}#sk-container-id-1 label.sk-toggleable__label-arrow:hover:before {color: black;}#sk-container-id-1 div.sk-estimator:hover label.sk-toggleable__label-arrow:before {color: black;}#sk-container-id-1 div.sk-toggleable__content {max-height: 0;max-width: 0;overflow: hidden;text-align: left;background-color: #f0f8ff;}#sk-container-id-1 div.sk-toggleable__content pre {margin: 0.2em;color: black;border-radius: 0.25em;background-color: #f0f8ff;}#sk-container-id-1 input.sk-toggleable__control:checked~div.sk-toggleable__content {max-height: 200px;max-width: 100%;overflow: auto;}#sk-container-id-1 input.sk-toggleable__control:checked~label.sk-toggleable__label-arrow:before {content: \"▾\";}#sk-container-id-1 div.sk-estimator input.sk-toggleable__control:checked~label.sk-toggleable__label {background-color: #d4ebff;}#sk-container-id-1 div.sk-label input.sk-toggleable__control:checked~label.sk-toggleable__label {background-color: #d4ebff;}#sk-container-id-1 input.sk-hidden--visually {border: 0;clip: rect(1px 1px 1px 1px);clip: rect(1px, 1px, 1px, 1px);height: 1px;margin: -1px;overflow: hidden;padding: 0;position: absolute;width: 1px;}#sk-container-id-1 div.sk-estimator {font-family: monospace;background-color: #f0f8ff;border: 1px dotted black;border-radius: 0.25em;box-sizing: border-box;margin-bottom: 0.5em;}#sk-container-id-1 div.sk-estimator:hover {background-color: #d4ebff;}#sk-container-id-1 div.sk-parallel-item::after {content: \"\";width: 100%;border-bottom: 1px solid gray;flex-grow: 1;}#sk-container-id-1 div.sk-label:hover label.sk-toggleable__label {background-color: #d4ebff;}#sk-container-id-1 div.sk-serial::before {content: \"\";position: absolute;border-left: 1px solid gray;box-sizing: border-box;top: 0;bottom: 0;left: 50%;z-index: 0;}#sk-container-id-1 div.sk-serial {display: flex;flex-direction: column;align-items: center;background-color: white;padding-right: 0.2em;padding-left: 0.2em;position: relative;}#sk-container-id-1 div.sk-item {position: relative;z-index: 1;}#sk-container-id-1 div.sk-parallel {display: flex;align-items: stretch;justify-content: center;background-color: white;position: relative;}#sk-container-id-1 div.sk-item::before, #sk-container-id-1 div.sk-parallel-item::before {content: \"\";position: absolute;border-left: 1px solid gray;box-sizing: border-box;top: 0;bottom: 0;left: 50%;z-index: -1;}#sk-container-id-1 div.sk-parallel-item {display: flex;flex-direction: column;z-index: 1;position: relative;background-color: white;}#sk-container-id-1 div.sk-parallel-item:first-child::after {align-self: flex-end;width: 50%;}#sk-container-id-1 div.sk-parallel-item:last-child::after {align-self: flex-start;width: 50%;}#sk-container-id-1 div.sk-parallel-item:only-child::after {width: 0;}#sk-container-id-1 div.sk-dashed-wrapped {border: 1px dashed gray;margin: 0 0.4em 0.5em 0.4em;box-sizing: border-box;padding-bottom: 0.4em;background-color: white;}#sk-container-id-1 div.sk-label label {font-family: monospace;font-weight: bold;display: inline-block;line-height: 1.2em;}#sk-container-id-1 div.sk-label-container {text-align: center;}#sk-container-id-1 div.sk-container {/* jupyter's `normalize.less` sets `[hidden] { display: none; }` but bootstrap.min.css set `[hidden] { display: none !important; }` so we also need the `!important` here to be able to override the default hidden behavior on the sphinx rendered scikit-learn.org. See: https://github.com/scikit-learn/scikit-learn/issues/21755 */display: inline-block !important;position: relative;}#sk-container-id-1 div.sk-text-repr-fallback {display: none;}</style><div id=\"sk-container-id-1\" class=\"sk-top-container\"><div class=\"sk-text-repr-fallback\"><pre>RandomForestClassifier(n_jobs=-1, random_state=42)</pre><b>In a Jupyter environment, please rerun this cell to show the HTML representation or trust the notebook. <br />On GitHub, the HTML representation is unable to render, please try loading this page with nbviewer.org.</b></div><div class=\"sk-container\" hidden><div class=\"sk-item\"><div class=\"sk-estimator sk-toggleable\"><input class=\"sk-toggleable__control sk-hidden--visually\" id=\"sk-estimator-id-1\" type=\"checkbox\" checked><label for=\"sk-estimator-id-1\" class=\"sk-toggleable__label sk-toggleable__label-arrow\">RandomForestClassifier</label><div class=\"sk-toggleable__content\"><pre>RandomForestClassifier(n_jobs=-1, random_state=42)</pre></div></div></div></div></div>"
            ]
          },
          "metadata": {},
          "execution_count": 230
        }
      ]
    },
    {
      "cell_type": "code",
      "source": [
        "feature_importances = rf_classifier.feature_importances_\n",
        "sorted_idx = feature_importances.argsort()"
      ],
      "metadata": {
        "id": "c1vFXNNrSME0"
      },
      "execution_count": null,
      "outputs": []
    },
    {
      "cell_type": "code",
      "source": [
        "plt.figure(figsize=(14,2))\n",
        "plt.barh(range(new_df.shape[1]), feature_importances[sorted_idx], align='center')\n",
        "plt.yticks(range(new_df.shape[1]), new_df.columns[sorted_idx])\n",
        "plt.xlabel('Feature Importance')\n",
        "plt.ylabel('Feature')\n",
        "plt.title('Feature Importance Plot')\n",
        "plt.show()"
      ],
      "metadata": {
        "colab": {
          "base_uri": "https://localhost:8080/",
          "height": 243
        },
        "id": "xkJZ7LRTS7y_",
        "outputId": "487e4dc5-4ae2-4d78-892e-cc0c7dd4e34d"
      },
      "execution_count": null,
      "outputs": [
        {
          "output_type": "display_data",
          "data": {
            "text/plain": [
              "<Figure size 1400x200 with 1 Axes>"
            ],
            "image/png": "[encoded data removed]"
          },
          "metadata": {}
        }
      ]
    },
    {
      "cell_type": "markdown",
      "source": [
        "Random Forest Classifier"
      ],
      "metadata": {
        "id": "cQx_nI5-Xzmh"
      }
    },
    {
      "cell_type": "code",
      "source": [
        "predict=rf_classifier.predict(x_test)"
      ],
      "metadata": {
        "id": "YFoUvjVxS_bL"
      },
      "execution_count": null,
      "outputs": []
    },
    {
      "cell_type": "code",
      "source": [
        "from sklearn.metrics import classification_report, roc_auc_score, confusion_matrix, ConfusionMatrixDisplay"
      ],
      "metadata": {
        "id": "EOZVAwsNTTDy"
      },
      "execution_count": null,
      "outputs": []
    },
    {
      "cell_type": "code",
      "source": [
        "print(\"Classification Report:\")\n",
        "print(classification_report(y_test, predict))"
      ],
      "metadata": {
        "colab": {
          "base_uri": "https://localhost:8080/"
        },
        "id": "AealcrdITV0T",
        "outputId": "0f5ce1da-f476-41b0-bbb9-3fe0f90ccc42"
      },
      "execution_count": null,
      "outputs": [
        {
          "output_type": "stream",
          "name": "stdout",
          "text": [
            "Classification Report:\n",
            "              precision    recall  f1-score   support\n",
            "\n",
            "           0       0.87      0.96      0.92      2416\n",
            "           1       0.75      0.43      0.54       584\n",
            "\n",
            "    accuracy                           0.86      3000\n",
            "   macro avg       0.81      0.70      0.73      3000\n",
            "weighted avg       0.85      0.86      0.84      3000\n",
            "\n"
          ]
        }
      ]
    },
    {
      "cell_type": "code",
      "source": [
        "print(\"ROC-AUC Score:\", roc_auc_score(y_test, predict))"
      ],
      "metadata": {
        "colab": {
          "base_uri": "https://localhost:8080/"
        },
        "id": "676jAwKiTYfI",
        "outputId": "d012e749-623b-4cd4-b362-94756dbfbabe"
      },
      "execution_count": null,
      "outputs": [
        {
          "output_type": "stream",
          "name": "stdout",
          "text": [
            "ROC-AUC Score: 0.696450036287762\n"
          ]
        }
      ]
    },
    {
      "cell_type": "code",
      "source": [
        "cmd=ConfusionMatrixDisplay(confusion_matrix=confusion_matrix(y_test,predict))\n",
        "cmd.plot()"
      ],
      "metadata": {
        "colab": {
          "base_uri": "https://localhost:8080/",
          "height": 466
        },
        "id": "985InvLfXV7H",
        "outputId": "96f0df16-1686-4d2a-bcc4-e2bacbacd1c7"
      },
      "execution_count": null,
      "outputs": [
        {
          "output_type": "execute_result",
          "data": {
            "text/plain": [
              "<sklearn.metrics._plot.confusion_matrix.ConfusionMatrixDisplay at 0x7dfe450cf2b0>"
            ]
          },
          "metadata": {},
          "execution_count": 258
        },
        {
          "output_type": "display_data",
          "data": {
            "text/plain": [
              "<Figure size 640x480 with 2 Axes>"
            ],
            "image/png": "[encoded data removed]"
          },
          "metadata": {}
        }
      ]
    },
    {
      "cell_type": "markdown",
      "source": [
        "Logistic Regression"
      ],
      "metadata": {
        "id": "G7xJGiFdX-u_"
      }
    },
    {
      "cell_type": "code",
      "source": [
        "from sklearn.linear_model import LogisticRegression"
      ],
      "metadata": {
        "id": "645uAaWdTbGf"
      },
      "execution_count": null,
      "outputs": []
    },
    {
      "cell_type": "code",
      "source": [
        "lr_model = LogisticRegression(max_iter=1000)"
      ],
      "metadata": {
        "id": "_uvhmvVgThHq"
      },
      "execution_count": null,
      "outputs": []
    },
    {
      "cell_type": "code",
      "source": [
        "lr_model.fit(x_train,y_train)"
      ],
      "metadata": {
        "colab": {
          "base_uri": "https://localhost:8080/",
          "height": 75
        },
        "id": "C8H_Ko_jTjcW",
        "outputId": "317a0297-9867-41b2-c830-4305711c5032"
      },
      "execution_count": null,
      "outputs": [
        {
          "output_type": "execute_result",
          "data": {
            "text/plain": [
              "LogisticRegression(max_iter=1000)"
            ],
            "text/html": [
              "<style>#sk-container-id-2 {color: black;background-color: white;}#sk-container-id-2 pre{padding: 0;}#sk-container-id-2 div.sk-toggleable {background-color: white;}#sk-container-id-2 label.sk-toggleable__label {cursor: pointer;display: block;width: 100%;margin-bottom: 0;padding: 0.3em;box-sizing: border-box;text-align: center;}#sk-container-id-2 label.sk-toggleable__label-arrow:before {content: \"▸\";float: left;margin-right: 0.25em;color: #696969;}#sk-container-id-2 label.sk-toggleable__label-arrow:hover:before {color: black;}#sk-container-id-2 div.sk-estimator:hover label.sk-toggleable__label-arrow:before {color: black;}#sk-container-id-2 div.sk-toggleable__content {max-height: 0;max-width: 0;overflow: hidden;text-align: left;background-color: #f0f8ff;}#sk-container-id-2 div.sk-toggleable__content pre {margin: 0.2em;color: black;border-radius: 0.25em;background-color: #f0f8ff;}#sk-container-id-2 input.sk-toggleable__control:checked~div.sk-toggleable__content {max-height: 200px;max-width: 100%;overflow: auto;}#sk-container-id-2 input.sk-toggleable__control:checked~label.sk-toggleable__label-arrow:before {content: \"▾\";}#sk-container-id-2 div.sk-estimator input.sk-toggleable__control:checked~label.sk-toggleable__label {background-color: #d4ebff;}#sk-container-id-2 div.sk-label input.sk-toggleable__control:checked~label.sk-toggleable__label {background-color: #d4ebff;}#sk-container-id-2 input.sk-hidden--visually {border: 0;clip: rect(1px 1px 1px 1px);clip: rect(1px, 1px, 1px, 1px);height: 1px;margin: -1px;overflow: hidden;padding: 0;position: absolute;width: 1px;}#sk-container-id-2 div.sk-estimator {font-family: monospace;background-color: #f0f8ff;border: 1px dotted black;border-radius: 0.25em;box-sizing: border-box;margin-bottom: 0.5em;}#sk-container-id-2 div.sk-estimator:hover {background-color: #d4ebff;}#sk-container-id-2 div.sk-parallel-item::after {content: \"\";width: 100%;border-bottom: 1px solid gray;flex-grow: 1;}#sk-container-id-2 div.sk-label:hover label.sk-toggleable__label {background-color: #d4ebff;}#sk-container-id-2 div.sk-serial::before {content: \"\";position: absolute;border-left: 1px solid gray;box-sizing: border-box;top: 0;bottom: 0;left: 50%;z-index: 0;}#sk-container-id-2 div.sk-serial {display: flex;flex-direction: column;align-items: center;background-color: white;padding-right: 0.2em;padding-left: 0.2em;position: relative;}#sk-container-id-2 div.sk-item {position: relative;z-index: 1;}#sk-container-id-2 div.sk-parallel {display: flex;align-items: stretch;justify-content: center;background-color: white;position: relative;}#sk-container-id-2 div.sk-item::before, #sk-container-id-2 div.sk-parallel-item::before {content: \"\";position: absolute;border-left: 1px solid gray;box-sizing: border-box;top: 0;bottom: 0;left: 50%;z-index: -1;}#sk-container-id-2 div.sk-parallel-item {display: flex;flex-direction: column;z-index: 1;position: relative;background-color: white;}#sk-container-id-2 div.sk-parallel-item:first-child::after {align-self: flex-end;width: 50%;}#sk-container-id-2 div.sk-parallel-item:last-child::after {align-self: flex-start;width: 50%;}#sk-container-id-2 div.sk-parallel-item:only-child::after {width: 0;}#sk-container-id-2 div.sk-dashed-wrapped {border: 1px dashed gray;margin: 0 0.4em 0.5em 0.4em;box-sizing: border-box;padding-bottom: 0.4em;background-color: white;}#sk-container-id-2 div.sk-label label {font-family: monospace;font-weight: bold;display: inline-block;line-height: 1.2em;}#sk-container-id-2 div.sk-label-container {text-align: center;}#sk-container-id-2 div.sk-container {/* jupyter's `normalize.less` sets `[hidden] { display: none; }` but bootstrap.min.css set `[hidden] { display: none !important; }` so we also need the `!important` here to be able to override the default hidden behavior on the sphinx rendered scikit-learn.org. See: https://github.com/scikit-learn/scikit-learn/issues/21755 */display: inline-block !important;position: relative;}#sk-container-id-2 div.sk-text-repr-fallback {display: none;}</style><div id=\"sk-container-id-2\" class=\"sk-top-container\"><div class=\"sk-text-repr-fallback\"><pre>LogisticRegression(max_iter=1000)</pre><b>In a Jupyter environment, please rerun this cell to show the HTML representation or trust the notebook. <br />On GitHub, the HTML representation is unable to render, please try loading this page with nbviewer.org.</b></div><div class=\"sk-container\" hidden><div class=\"sk-item\"><div class=\"sk-estimator sk-toggleable\"><input class=\"sk-toggleable__control sk-hidden--visually\" id=\"sk-estimator-id-2\" type=\"checkbox\" checked><label for=\"sk-estimator-id-2\" class=\"sk-toggleable__label sk-toggleable__label-arrow\">LogisticRegression</label><div class=\"sk-toggleable__content\"><pre>LogisticRegression(max_iter=1000)</pre></div></div></div></div></div>"
            ]
          },
          "metadata": {},
          "execution_count": 243
        }
      ]
    },
    {
      "cell_type": "code",
      "source": [
        "predict_1=lr_model.predict(x_test)"
      ],
      "metadata": {
        "id": "qTW__ky6Tn8H"
      },
      "execution_count": null,
      "outputs": []
    },
    {
      "cell_type": "code",
      "source": [
        "print(\"Classification Report:\")\n",
        "print(classification_report(y_test, predict_1))"
      ],
      "metadata": {
        "colab": {
          "base_uri": "https://localhost:8080/"
        },
        "id": "IKx-0LjFTq8h",
        "outputId": "617a081b-c565-4608-8543-d12b40ce1797"
      },
      "execution_count": null,
      "outputs": [
        {
          "output_type": "stream",
          "name": "stdout",
          "text": [
            "Classification Report:\n",
            "              precision    recall  f1-score   support\n",
            "\n",
            "           0       0.81      0.97      0.89      2416\n",
            "           1       0.44      0.08      0.14       584\n",
            "\n",
            "    accuracy                           0.80      3000\n",
            "   macro avg       0.63      0.53      0.51      3000\n",
            "weighted avg       0.74      0.80      0.74      3000\n",
            "\n"
          ]
        }
      ]
    },
    {
      "cell_type": "code",
      "source": [
        "print(\"ROC-AUC Score:\", roc_auc_score(y_test, predict_1))"
      ],
      "metadata": {
        "colab": {
          "base_uri": "https://localhost:8080/"
        },
        "id": "gzDrkR9pTtta",
        "outputId": "d931c164-1ddf-4ff5-c000-be6f18b682ea"
      },
      "execution_count": null,
      "outputs": [
        {
          "output_type": "stream",
          "name": "stdout",
          "text": [
            "ROC-AUC Score: 0.5282647645831442\n"
          ]
        }
      ]
    },
    {
      "cell_type": "code",
      "source": [
        "cmd=ConfusionMatrixDisplay(confusion_matrix=confusion_matrix(y_test,predict_1))\n",
        "cmd.plot()"
      ],
      "metadata": {
        "colab": {
          "base_uri": "https://localhost:8080/",
          "height": 466
        },
        "id": "uLIDonPRWgIy",
        "outputId": "60dd5176-46a1-46f8-a2fa-1d932a495fd8"
      },
      "execution_count": null,
      "outputs": [
        {
          "output_type": "execute_result",
          "data": {
            "text/plain": [
              "<sklearn.metrics._plot.confusion_matrix.ConfusionMatrixDisplay at 0x7dfe53815ab0>"
            ]
          },
          "metadata": {},
          "execution_count": 257
        },
        {
          "output_type": "display_data",
          "data": {
            "text/plain": [
              "<Figure size 640x480 with 2 Axes>"
            ],
            "image/png": "[encoded data removed]"
          },
          "metadata": {}
        }
      ]
    },
    {
      "cell_type": "markdown",
      "source": [
        "Gradient Boosting Classifier"
      ],
      "metadata": {
        "id": "ExTuO78UYF0o"
      }
    },
    {
      "cell_type": "code",
      "source": [
        "from sklearn.ensemble import GradientBoostingClassifier"
      ],
      "metadata": {
        "id": "-KZeYAXeTwD7"
      },
      "execution_count": null,
      "outputs": []
    },
    {
      "cell_type": "code",
      "source": [
        "clf = GradientBoostingClassifier(n_estimators=100, learning_rate=0.1)"
      ],
      "metadata": {
        "id": "hu1fIh2rUAVA"
      },
      "execution_count": null,
      "outputs": []
    },
    {
      "cell_type": "code",
      "source": [
        "clf.fit(x_train, y_train)"
      ],
      "metadata": {
        "colab": {
          "base_uri": "https://localhost:8080/",
          "height": 75
        },
        "id": "B9dwEB0nUDqU",
        "outputId": "630f2842-0538-468d-c236-63eed0bdcee5"
      },
      "execution_count": null,
      "outputs": [
        {
          "output_type": "execute_result",
          "data": {
            "text/plain": [
              "GradientBoostingClassifier()"
            ],
            "text/html": [
              "<style>#sk-container-id-3 {color: black;background-color: white;}#sk-container-id-3 pre{padding: 0;}#sk-container-id-3 div.sk-toggleable {background-color: white;}#sk-container-id-3 label.sk-toggleable__label {cursor: pointer;display: block;width: 100%;margin-bottom: 0;padding: 0.3em;box-sizing: border-box;text-align: center;}#sk-container-id-3 label.sk-toggleable__label-arrow:before {content: \"▸\";float: left;margin-right: 0.25em;color: #696969;}#sk-container-id-3 label.sk-toggleable__label-arrow:hover:before {color: black;}#sk-container-id-3 div.sk-estimator:hover label.sk-toggleable__label-arrow:before {color: black;}#sk-container-id-3 div.sk-toggleable__content {max-height: 0;max-width: 0;overflow: hidden;text-align: left;background-color: #f0f8ff;}#sk-container-id-3 div.sk-toggleable__content pre {margin: 0.2em;color: black;border-radius: 0.25em;background-color: #f0f8ff;}#sk-container-id-3 input.sk-toggleable__control:checked~div.sk-toggleable__content {max-height: 200px;max-width: 100%;overflow: auto;}#sk-container-id-3 input.sk-toggleable__control:checked~label.sk-toggleable__label-arrow:before {content: \"▾\";}#sk-container-id-3 div.sk-estimator input.sk-toggleable__control:checked~label.sk-toggleable__label {background-color: #d4ebff;}#sk-container-id-3 div.sk-label input.sk-toggleable__control:checked~label.sk-toggleable__label {background-color: #d4ebff;}#sk-container-id-3 input.sk-hidden--visually {border: 0;clip: rect(1px 1px 1px 1px);clip: rect(1px, 1px, 1px, 1px);height: 1px;margin: -1px;overflow: hidden;padding: 0;position: absolute;width: 1px;}#sk-container-id-3 div.sk-estimator {font-family: monospace;background-color: #f0f8ff;border: 1px dotted black;border-radius: 0.25em;box-sizing: border-box;margin-bottom: 0.5em;}#sk-container-id-3 div.sk-estimator:hover {background-color: #d4ebff;}#sk-container-id-3 div.sk-parallel-item::after {content: \"\";width: 100%;border-bottom: 1px solid gray;flex-grow: 1;}#sk-container-id-3 div.sk-label:hover label.sk-toggleable__label {background-color: #d4ebff;}#sk-container-id-3 div.sk-serial::before {content: \"\";position: absolute;border-left: 1px solid gray;box-sizing: border-box;top: 0;bottom: 0;left: 50%;z-index: 0;}#sk-container-id-3 div.sk-serial {display: flex;flex-direction: column;align-items: center;background-color: white;padding-right: 0.2em;padding-left: 0.2em;position: relative;}#sk-container-id-3 div.sk-item {position: relative;z-index: 1;}#sk-container-id-3 div.sk-parallel {display: flex;align-items: stretch;justify-content: center;background-color: white;position: relative;}#sk-container-id-3 div.sk-item::before, #sk-container-id-3 div.sk-parallel-item::before {content: \"\";position: absolute;border-left: 1px solid gray;box-sizing: border-box;top: 0;bottom: 0;left: 50%;z-index: -1;}#sk-container-id-3 div.sk-parallel-item {display: flex;flex-direction: column;z-index: 1;position: relative;background-color: white;}#sk-container-id-3 div.sk-parallel-item:first-child::after {align-self: flex-end;width: 50%;}#sk-container-id-3 div.sk-parallel-item:last-child::after {align-self: flex-start;width: 50%;}#sk-container-id-3 div.sk-parallel-item:only-child::after {width: 0;}#sk-container-id-3 div.sk-dashed-wrapped {border: 1px dashed gray;margin: 0 0.4em 0.5em 0.4em;box-sizing: border-box;padding-bottom: 0.4em;background-color: white;}#sk-container-id-3 div.sk-label label {font-family: monospace;font-weight: bold;display: inline-block;line-height: 1.2em;}#sk-container-id-3 div.sk-label-container {text-align: center;}#sk-container-id-3 div.sk-container {/* jupyter's `normalize.less` sets `[hidden] { display: none; }` but bootstrap.min.css set `[hidden] { display: none !important; }` so we also need the `!important` here to be able to override the default hidden behavior on the sphinx rendered scikit-learn.org. See: https://github.com/scikit-learn/scikit-learn/issues/21755 */display: inline-block !important;position: relative;}#sk-container-id-3 div.sk-text-repr-fallback {display: none;}</style><div id=\"sk-container-id-3\" class=\"sk-top-container\"><div class=\"sk-text-repr-fallback\"><pre>GradientBoostingClassifier()</pre><b>In a Jupyter environment, please rerun this cell to show the HTML representation or trust the notebook. <br />On GitHub, the HTML representation is unable to render, please try loading this page with nbviewer.org.</b></div><div class=\"sk-container\" hidden><div class=\"sk-item\"><div class=\"sk-estimator sk-toggleable\"><input class=\"sk-toggleable__control sk-hidden--visually\" id=\"sk-estimator-id-3\" type=\"checkbox\" checked><label for=\"sk-estimator-id-3\" class=\"sk-toggleable__label sk-toggleable__label-arrow\">GradientBoostingClassifier</label><div class=\"sk-toggleable__content\"><pre>GradientBoostingClassifier()</pre></div></div></div></div></div>"
            ]
          },
          "metadata": {},
          "execution_count": 249
        }
      ]
    },
    {
      "cell_type": "code",
      "source": [
        "predict_2=clf.predict(x_test)"
      ],
      "metadata": {
        "id": "mpbqK9v2UHt5"
      },
      "execution_count": null,
      "outputs": []
    },
    {
      "cell_type": "code",
      "source": [
        "print(\"Classification Report:\")\n",
        "print(classification_report(y_test, predict_2))"
      ],
      "metadata": {
        "colab": {
          "base_uri": "https://localhost:8080/"
        },
        "id": "Q8M5StLMUPQ_",
        "outputId": "9a6359e4-23de-4197-9a8e-30b69c57039b"
      },
      "execution_count": null,
      "outputs": [
        {
          "output_type": "stream",
          "name": "stdout",
          "text": [
            "Classification Report:\n",
            "              precision    recall  f1-score   support\n",
            "\n",
            "           0       0.88      0.97      0.92      2416\n",
            "           1       0.78      0.45      0.57       584\n",
            "\n",
            "    accuracy                           0.87      3000\n",
            "   macro avg       0.83      0.71      0.75      3000\n",
            "weighted avg       0.86      0.87      0.85      3000\n",
            "\n"
          ]
        }
      ]
    },
    {
      "cell_type": "code",
      "source": [
        "print(\"ROC-AUC Score:\", roc_auc_score(y_test, predict_2))"
      ],
      "metadata": {
        "colab": {
          "base_uri": "https://localhost:8080/"
        },
        "id": "P4hE4g6yUb_E",
        "outputId": "641745a9-7ae6-46d5-96ae-53cb2afb9065"
      },
      "execution_count": null,
      "outputs": [
        {
          "output_type": "stream",
          "name": "stdout",
          "text": [
            "ROC-AUC Score: 0.7100636169826726\n"
          ]
        }
      ]
    },
    {
      "cell_type": "code",
      "source": [
        "cmd=ConfusionMatrixDisplay(confusion_matrix=confusion_matrix(y_test,predict_2))\n",
        "cmd.plot()"
      ],
      "metadata": {
        "colab": {
          "base_uri": "https://localhost:8080/",
          "height": 466
        },
        "id": "VoaGVOwzUg_X",
        "outputId": "f97365a1-8c89-4756-87f1-4e92ba583a21"
      },
      "execution_count": null,
      "outputs": [
        {
          "output_type": "execute_result",
          "data": {
            "text/plain": [
              "<sklearn.metrics._plot.confusion_matrix.ConfusionMatrixDisplay at 0x7dfe44ee6d10>"
            ]
          },
          "metadata": {},
          "execution_count": 256
        },
        {
          "output_type": "display_data",
          "data": {
            "text/plain": [
              "<Figure size 640x480 with 2 Axes>"
            ],
            "image/png": "[encoded data removed]"
          },
          "metadata": {}
        }
      ]
    },
    {
      "cell_type": "code",
      "source": [],
      "metadata": {
        "id": "mrF_dPxrWV2c"
      },
      "execution_count": null,
      "outputs": []
    }
  ]
}